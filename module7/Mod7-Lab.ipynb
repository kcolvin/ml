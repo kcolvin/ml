{
 "cells": [
  {
   "cell_type": "markdown",
   "metadata": {},
   "source": [
    "## Lab 7: Load/Save Pandas DataFrame from/to S3 bucket.\n",
    "\n",
    "    1. Load the diabetes dataset from a S3 bucket into a pandas DataFrame\n",
    "    2. Create new DataFrames of both the features and target variables from the diabetes dataframe\n",
    "    3. Save the 2 DataFrames to Pickle files on S3\n",
    "    4. Verify your work by listing all objects in your S3 folder."
   ]
  },
  {
   "cell_type": "code",
   "execution_count": 2,
   "metadata": {},
   "outputs": [],
   "source": [
    "from sklearn import datasets\n",
    "import pandas as pd\n",
    "import boto3\n",
    "from io import BytesIO\n",
    "# Create session and S3 client\n",
    "sess = boto3.session.Session()\n",
    "s3 = sess.client('s3')"
   ]
  },
  {
   "cell_type": "markdown",
   "metadata": {},
   "source": [
    "### 1. Load the diabetes dataset from a S3 bucket into a pandas DataFrame"
   ]
  },
  {
   "cell_type": "code",
   "execution_count": 3,
   "metadata": {},
   "outputs": [],
   "source": [
    "source_bucket = 'machinelearning-read-only'\n",
    "source_key = 'data/diabetes.csv'"
   ]
  },
  {
   "cell_type": "code",
   "execution_count": 4,
   "metadata": {},
   "outputs": [],
   "source": [
    "# your code here:"
   ]
  },
  {
   "cell_type": "markdown",
   "metadata": {},
   "source": [
    "### 2. Create new DataFrames of both the features and target variables from the diabetes dataframe\n",
    "From past labs:\n",
    "- Weight and Pulse are the features (X)\n",
    "- Waist is the target (y)"
   ]
  },
  {
   "cell_type": "code",
   "execution_count": 6,
   "metadata": {},
   "outputs": [],
   "source": [
    "# your code here"
   ]
  },
  {
   "cell_type": "markdown",
   "metadata": {},
   "source": [
    "### 3. Save the 2 DataFrames to Pickle files on S3 in your own folder"
   ]
  },
  {
   "cell_type": "code",
   "execution_count": 9,
   "metadata": {},
   "outputs": [],
   "source": [
    "destination_bucket = 'machinelearning-shared'  # You have full access to this bucket\n",
    "\n",
    "destination_key_X = 'data/kcolvin/diabetes/X.pkl' # Customize for your folder\n",
    "destination_key_y = 'data/kcolvin/diabetes/y.pkl' # Customize for your folder"
   ]
  },
  {
   "cell_type": "code",
   "execution_count": 10,
   "metadata": {},
   "outputs": [],
   "source": [
    "# Write the code to save the X and y dataframes to the destination bucket\n",
    "# your code here"
   ]
  },
  {
   "cell_type": "markdown",
   "metadata": {},
   "source": [
    "### 4. Verify your work by listing all objects in your S3 folder."
   ]
  },
  {
   "cell_type": "code",
   "execution_count": 12,
   "metadata": {},
   "outputs": [],
   "source": [
    "# your code here"
   ]
  },
  {
   "cell_type": "code",
   "execution_count": null,
   "metadata": {},
   "outputs": [],
   "source": []
  }
 ],
 "metadata": {
  "instance_type": "ml.t3.medium",
  "kernelspec": {
   "display_name": "Python 3 (Data Science)",
   "language": "python",
   "name": "python3__SAGEMAKER_INTERNAL__arn:aws:sagemaker:us-west-2:236514542706:image/datascience-1.0"
  },
  "language_info": {
   "codemirror_mode": {
    "name": "ipython",
    "version": 3
   },
   "file_extension": ".py",
   "mimetype": "text/x-python",
   "name": "python",
   "nbconvert_exporter": "python",
   "pygments_lexer": "ipython3",
   "version": "3.7.10"
  }
 },
 "nbformat": 4,
 "nbformat_minor": 4
}
