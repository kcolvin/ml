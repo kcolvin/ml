{
 "cells": [
  {
   "cell_type": "markdown",
   "metadata": {},
   "source": [
    "## Module 19: Learning Notebook: Introduction to Multilayer Perceptron (MLP)\n",
    "\n",
    "Maybe you've heard of a 'Neural Network'? MLP is a type of Neural Network.  Maybe you've heard of an ANN (Artificial Neural Network). Same thing.  I would just say that MLP is an implementation of a Neural Network. <P>\n",
    "    \n",
    "An MLP consists of at least three layers of nodes: an input layer (your data features), one or more hidden layers and an output layer (your target). Except for the input nodes, each node is a neuron that uses a nonlinear activation function. This means it finds complex relationships between the features and targets. MLP utilizes a supervised learning technique called backpropagation for training. You can do both classification and regression with MLP.<P>\n",
    "    \n",
    "<img src=\"images/mlp.png\" width=450 height=450 /><BR>\n"
   ]
  },
  {
   "cell_type": "code",
   "execution_count": 2,
   "metadata": {},
   "outputs": [],
   "source": [
    "from sklearn.neural_network import MLPClassifier\n",
    "from sklearn.pipeline import Pipeline\n",
    "from sklearn.preprocessing import StandardScaler\n",
    "#from sklearn.compose import ColumnTransformer\n",
    "from sklearn.model_selection import train_test_split\n",
    "from sklearn.metrics import accuracy_score\n",
    "from sklearn.metrics import confusion_matrix\n",
    "from sklearn.model_selection import GridSearchCV\n",
    "from sklearn.metrics import roc_auc_score\n",
    "from sklearn.metrics import roc_curve\n",
    "import matplotlib.pyplot as plt\n",
    "import boto3\n",
    "import pandas as pd\n",
    "import numpy as np\n",
    "import seaborn as sns"
   ]
  },
  {
   "cell_type": "markdown",
   "metadata": {},
   "source": [
    "### 1. Load and Prepare data"
   ]
  },
  {
   "cell_type": "code",
   "execution_count": 3,
   "metadata": {},
   "outputs": [
    {
     "name": "stdout",
     "output_type": "stream",
     "text": [
      "df size (rows, columns): (1000, 7)\n"
     ]
    },
    {
     "data": {
      "text/html": [
       "<div>\n",
       "<style scoped>\n",
       "    .dataframe tbody tr th:only-of-type {\n",
       "        vertical-align: middle;\n",
       "    }\n",
       "\n",
       "    .dataframe tbody tr th {\n",
       "        vertical-align: top;\n",
       "    }\n",
       "\n",
       "    .dataframe thead th {\n",
       "        text-align: right;\n",
       "    }\n",
       "</style>\n",
       "<table border=\"1\" class=\"dataframe\">\n",
       "  <thead>\n",
       "    <tr style=\"text-align: right;\">\n",
       "      <th></th>\n",
       "      <th>gene1</th>\n",
       "      <th>gene2</th>\n",
       "      <th>gene3</th>\n",
       "      <th>gene4</th>\n",
       "      <th>gene5</th>\n",
       "      <th>gene6</th>\n",
       "      <th>cancer_detected</th>\n",
       "    </tr>\n",
       "  </thead>\n",
       "  <tbody>\n",
       "    <tr>\n",
       "      <th>0</th>\n",
       "      <td>3.447535</td>\n",
       "      <td>14.196807</td>\n",
       "      <td>80.524611</td>\n",
       "      <td>-36.487496</td>\n",
       "      <td>289.932591</td>\n",
       "      <td>146.273690</td>\n",
       "      <td>0</td>\n",
       "    </tr>\n",
       "    <tr>\n",
       "      <th>1</th>\n",
       "      <td>3.276234</td>\n",
       "      <td>17.705782</td>\n",
       "      <td>72.786907</td>\n",
       "      <td>-63.487129</td>\n",
       "      <td>293.618375</td>\n",
       "      <td>90.953863</td>\n",
       "      <td>0</td>\n",
       "    </tr>\n",
       "    <tr>\n",
       "      <th>2</th>\n",
       "      <td>4.036522</td>\n",
       "      <td>14.942696</td>\n",
       "      <td>67.819683</td>\n",
       "      <td>-48.681795</td>\n",
       "      <td>249.619909</td>\n",
       "      <td>165.576714</td>\n",
       "      <td>0</td>\n",
       "    </tr>\n",
       "  </tbody>\n",
       "</table>\n",
       "</div>"
      ],
      "text/plain": [
       "      gene1      gene2      gene3      gene4       gene5       gene6  \\\n",
       "0  3.447535  14.196807  80.524611 -36.487496  289.932591  146.273690   \n",
       "1  3.276234  17.705782  72.786907 -63.487129  293.618375   90.953863   \n",
       "2  4.036522  14.942696  67.819683 -48.681795  249.619909  165.576714   \n",
       "\n",
       "   cancer_detected  \n",
       "0                0  \n",
       "1                0  \n",
       "2                0  "
      ]
     },
     "execution_count": 3,
     "metadata": {},
     "output_type": "execute_result"
    }
   ],
   "source": [
    "# Load from S3\n",
    "sess = boto3.session.Session()\n",
    "s3 = sess.client('s3') \n",
    "source_bucket = 'machinelearning-read-only'\n",
    "source_key = 'data/cancer-10.csv' \n",
    "response = s3.get_object(Bucket = source_bucket, Key = source_key)\n",
    "df = pd.read_csv(response.get(\"Body\"))\n",
    "print('df size (rows, columns):',df.shape)\n",
    "df.head(3)"
   ]
  },
  {
   "cell_type": "code",
   "execution_count": 4,
   "metadata": {},
   "outputs": [
    {
     "name": "stdout",
     "output_type": "stream",
     "text": [
      "X_train: (800, 6)\n",
      "y_train: (800,)\n",
      "X_test: (200, 6)\n",
      "y_test: (200,)\n"
     ]
    }
   ],
   "source": [
    "# Prepare data\n",
    "X = df.drop(['cancer_detected'], axis = 1)\n",
    "y = df['cancer_detected']\n",
    "X_train, X_test, y_train, y_test = train_test_split(X, y, test_size = 0.20,random_state = 7)\n",
    "# Verify the sizes of the split datasets\n",
    "print('X_train:', X_train.shape)\n",
    "print('y_train:', y_train.shape)\n",
    "print('X_test:', X_test.shape)\n",
    "print('y_test:', y_test.shape)"
   ]
  },
  {
   "cell_type": "markdown",
   "metadata": {},
   "source": [
    "### 2. Create the MLP Model\n",
    "Hyperparameters to discuss:\n",
    "- hidden_layer_sizes\n",
    "- max_iter\n",
    "- solver"
   ]
  },
  {
   "cell_type": "code",
   "execution_count": 5,
   "metadata": {},
   "outputs": [
    {
     "data": {
      "text/plain": [
       "MLPClassifier(activation='relu', alpha=0.0001, batch_size='auto', beta_1=0.9,\n",
       "              beta_2=0.999, early_stopping=False, epsilon=1e-08,\n",
       "              hidden_layer_sizes=(1,), learning_rate='constant',\n",
       "              learning_rate_init=0.001, max_fun=15000, max_iter=500,\n",
       "              momentum=0.9, n_iter_no_change=10, nesterovs_momentum=True,\n",
       "              power_t=0.5, random_state=43, shuffle=True, solver='adam',\n",
       "              tol=0.0001, validation_fraction=0.1, verbose=False,\n",
       "              warm_start=False)"
      ]
     },
     "execution_count": 5,
     "metadata": {},
     "output_type": "execute_result"
    }
   ],
   "source": [
    "# Model using MLP\n",
    "#   https://scikit-learn.org/stable/modules/generated/sklearn.neural_network.MLPClassifier.html\n",
    "mlp = MLPClassifier(max_iter = 500, hidden_layer_sizes = (1,), solver = 'adam', random_state = 43)\n",
    "mlp"
   ]
  },
  {
   "cell_type": "code",
   "execution_count": 6,
   "metadata": {},
   "outputs": [
    {
     "data": {
      "text/plain": [
       "0    182\n",
       "1     18\n",
       "Name: cancer_detected, dtype: int64"
      ]
     },
     "execution_count": 6,
     "metadata": {},
     "output_type": "execute_result"
    }
   ],
   "source": [
    "# Remember, in the test set, we are trying to predict the 18 patients with cancer detected\n",
    "y_test.value_counts()"
   ]
  },
  {
   "cell_type": "code",
   "execution_count": 7,
   "metadata": {},
   "outputs": [
    {
     "name": "stdout",
     "output_type": "stream",
     "text": [
      "MLP accuracy: 0.91\n"
     ]
    },
    {
     "data": {
      "text/plain": [
       "array([[  0,  18],\n",
       "       [  0, 182]])"
      ]
     },
     "execution_count": 7,
     "metadata": {},
     "output_type": "execute_result"
    }
   ],
   "source": [
    "# Setup a pipeline, train then evaluate the model\n",
    "scaler = StandardScaler() # Standardize the data\n",
    "steps = [('Scaler', scaler), ('MLP', mlp)]\n",
    "pipe = Pipeline(steps)\n",
    "pipe.fit(X_train, y_train)\n",
    "y_pred = pipe.predict(X_test)\n",
    "acc = accuracy_score(y_test, y_pred)\n",
    "print('MLP accuracy:', round(acc,4))\n",
    "confusion_matrix(y_test, y_pred,labels = [1,0])"
   ]
  },
  {
   "cell_type": "markdown",
   "metadata": {},
   "source": [
    "### 3. Tune the 3 hyperparameters using GridSearchCV, from a previous lesson"
   ]
  },
  {
   "cell_type": "code",
   "execution_count": 8,
   "metadata": {},
   "outputs": [
    {
     "name": "stdout",
     "output_type": "stream",
     "text": [
      "Best Score: 0.943\n",
      "Best parameter values: {'MLP__hidden_layer_sizes': (100, 100), 'MLP__max_iter': 2000, 'MLP__solver': 'adam'}\n"
     ]
    }
   ],
   "source": [
    "# Setup the pipeline\n",
    "scaler = StandardScaler()\n",
    "mlp = MLPClassifier()\n",
    "pipe = Pipeline(steps=[(\"Scaler\", scaler), (\"MLP\", mlp)])\n",
    "#\n",
    "# Define the range of parameters to evaluate\n",
    "parameters = {\n",
    "    \"MLP__hidden_layer_sizes\":[(2,),(100,),(100,100)],\n",
    "    \"MLP__max_iter\":[1500,2000],\n",
    "    \"MLP__solver\":[\"adam\",\"lbfgs\"]\n",
    "}\n",
    "cv = GridSearchCV(pipe, parameters, cv = 5)\n",
    "cv.fit(X,y.values.ravel()) \n",
    "# Show the results of the search\n",
    "print('Best Score:', cv.best_score_)\n",
    "print('Best parameter values:', cv.best_params_)"
   ]
  },
  {
   "cell_type": "markdown",
   "metadata": {},
   "source": [
    "### 4. With the best tuned parameters, train and evaluate the MLP"
   ]
  },
  {
   "cell_type": "code",
   "execution_count": 9,
   "metadata": {},
   "outputs": [
    {
     "data": {
      "text/plain": [
       "0    182\n",
       "1     18\n",
       "Name: cancer_detected, dtype: int64"
      ]
     },
     "execution_count": 9,
     "metadata": {},
     "output_type": "execute_result"
    }
   ],
   "source": [
    "# Again, trying to catch the 18 cases of detectd cancer\n",
    "y_test.value_counts()"
   ]
  },
  {
   "cell_type": "code",
   "execution_count": 10,
   "metadata": {},
   "outputs": [
    {
     "name": "stdout",
     "output_type": "stream",
     "text": [
      "MLP accuracy: 0.945\n"
     ]
    },
    {
     "data": {
      "text/plain": [
       "array([[  9,   9],\n",
       "       [  2, 180]])"
      ]
     },
     "execution_count": 10,
     "metadata": {},
     "output_type": "execute_result"
    }
   ],
   "source": [
    "mlp = MLPClassifier(max_iter = 1500, hidden_layer_sizes = (100,), solver = 'adam', random_state = 43)\n",
    "scaler = StandardScaler() # Standardize the data\n",
    "steps = [('Scaler', scaler), ('MLP', mlp)]\n",
    "pipe = Pipeline(steps)\n",
    "pipe.fit(X_train, y_train)\n",
    "y_pred = pipe.predict(X_test)\n",
    "acc = accuracy_score(y_test, y_pred)\n",
    "print('MLP accuracy:', round(acc,4))\n",
    "confusion_matrix(y_test, y_pred,labels = [1,0])"
   ]
  },
  {
   "cell_type": "markdown",
   "metadata": {},
   "source": [
    "### 5. Evaluate the ROC and AUC"
   ]
  },
  {
   "cell_type": "code",
   "execution_count": 11,
   "metadata": {},
   "outputs": [
    {
     "name": "stdout",
     "output_type": "stream",
     "text": [
      "MLP AUC Score: 0.882\n"
     ]
    }
   ],
   "source": [
    "# Predict the probabilities instead of the lables\n",
    "mlp_y_pred_prob = pipe.predict_proba(X_test)\n",
    "\n",
    "# auc score\n",
    "auc_score = roc_auc_score(y_test, mlp_y_pred_prob[:,1])\n",
    "print('MLP AUC Score:', round(auc_score,3))"
   ]
  },
  {
   "cell_type": "code",
   "execution_count": 12,
   "metadata": {},
   "outputs": [
    {
     "data": {
      "image/png": "[encoded data removed]",
      "text/plain": [
       "<Figure size 800x550 with 1 Axes>"
      ]
     },
     "metadata": {},
     "output_type": "display_data"
    }
   ],
   "source": [
    "# Generate points for ROC curves for models\n",
    "fpr, tpr, thresh = roc_curve(y_test, mlp_y_pred_prob[:,1], pos_label=1) # y_test & P(1)\n",
    "#gbc_fpr, gbc_tpr, gbc_thresh = roc_curve(y_test, gbc_y_pred_prob[:,1], pos_label=1)\n",
    "#\n",
    "# roc curve for tpr = fpr (Straight line, like flipping a coin)\n",
    "random_probs = [0 for i in range(len(y_test))]\n",
    "p_fpr, p_tpr, _ = roc_curve(y_test, random_probs, pos_label=1)\n",
    "#\n",
    "# Code to plot those points\n",
    "# matplotlib\n",
    "#import matplotlib.pyplot as plt\n",
    "plt.style.use('seaborn')\n",
    "# plot roc curves\n",
    "plt.plot(fpr, tpr, linestyle='--',color='orange', label='MLP')\n",
    "#plt.plot(gbc_fpr, gbc_tpr, linestyle='--',color='green', label='Gradient Boosting Classifier')\n",
    "plt.plot(p_fpr, p_tpr, linestyle='--', color='blue', label='TPR = FPR or Random Flip of Coin')\n",
    "# title\n",
    "plt.title('ROC curve')\n",
    "# x label\n",
    "plt.xlabel('False Positive Rate')\n",
    "# y label\n",
    "plt.ylabel('True Positive rate')\n",
    "plt.legend(loc='best')\n",
    "plt.show()"
   ]
  },
  {
   "cell_type": "markdown",
   "metadata": {},
   "source": [
    "### 6. Evalute different thresholds"
   ]
  },
  {
   "cell_type": "code",
   "execution_count": 13,
   "metadata": {},
   "outputs": [
    {
     "name": "stdout",
     "output_type": "stream",
     "text": [
      "Confusion Matrix for threshold = : 0.05  \n",
      " [[ 12   6]\n",
      " [ 20 162]] \n",
      "\n",
      "Confusion Matrix for threshold = : 0.1  \n",
      " [[ 11   7]\n",
      " [ 13 169]] \n",
      "\n",
      "Confusion Matrix for threshold = : 0.15  \n",
      " [[ 11   7]\n",
      " [ 10 172]] \n",
      "\n",
      "Confusion Matrix for threshold = : 0.2  \n",
      " [[ 11   7]\n",
      " [  6 176]] \n",
      "\n",
      "Confusion Matrix for threshold = : 0.25  \n",
      " [[ 11   7]\n",
      " [  6 176]] \n",
      "\n",
      "Confusion Matrix for threshold = : 0.3  \n",
      " [[ 11   7]\n",
      " [  4 178]] \n",
      "\n",
      "Confusion Matrix for threshold = : 0.35  \n",
      " [[ 10   8]\n",
      " [  3 179]] \n",
      "\n",
      "Confusion Matrix for threshold = : 0.4  \n",
      " [[  9   9]\n",
      " [  3 179]] \n",
      "\n",
      "Confusion Matrix for threshold = : 0.45  \n",
      " [[  9   9]\n",
      " [  3 179]] \n",
      "\n",
      "Confusion Matrix for threshold = : 0.5  \n",
      " [[  9   9]\n",
      " [  2 180]] \n",
      "\n",
      "Confusion Matrix for threshold = : 0.55  \n",
      " [[  8  10]\n",
      " [  2 180]] \n",
      "\n",
      "Confusion Matrix for threshold = : 0.6  \n",
      " [[  6  12]\n",
      " [  2 180]] \n",
      "\n",
      "Confusion Matrix for threshold = : 0.65  \n",
      " [[  6  12]\n",
      " [  2 180]] \n",
      "\n",
      "Confusion Matrix for threshold = : 0.7  \n",
      " [[  5  13]\n",
      " [  2 180]] \n",
      "\n",
      "Confusion Matrix for threshold = : 0.75  \n",
      " [[  5  13]\n",
      " [  1 181]] \n",
      "\n",
      "Confusion Matrix for threshold = : 0.8  \n",
      " [[  4  14]\n",
      " [  0 182]] \n",
      "\n",
      "Confusion Matrix for threshold = : 0.85  \n",
      " [[  4  14]\n",
      " [  0 182]] \n",
      "\n",
      "Confusion Matrix for threshold = : 0.9  \n",
      " [[  4  14]\n",
      " [  0 182]] \n",
      "\n"
     ]
    }
   ],
   "source": [
    "# Let's iterate over the theshold values of .1 to .95 and evalute how the predictions to for each threshold\n",
    "for i in np.arange(.05, .95, 0.05):\n",
    "    thresh = i # Set the threshold\n",
    "    temp_pred = (pipe.predict_proba(X_test)[:,1] >= thresh).astype(int) # This accepts as True if over threshold\n",
    "    # Now print the confusion matrix\n",
    "    # Remember, for cancer detection, we really want to avoid not identifying cancer\n",
    "    print('Confusion Matrix for threshold = :', round(thresh,2),' \\n', confusion_matrix(y_test, temp_pred,labels = [1,0]),'\\n')"
   ]
  },
  {
   "cell_type": "code",
   "execution_count": null,
   "metadata": {},
   "outputs": [],
   "source": []
  }
 ],
 "metadata": {
  "instance_type": "ml.t3.medium",
  "kernelspec": {
   "display_name": "Python 3 (Data Science)",
   "language": "python",
   "name": "python3__SAGEMAKER_INTERNAL__arn:aws:sagemaker:us-west-2:236514542706:image/datascience-1.0"
  },
  "language_info": {
   "codemirror_mode": {
    "name": "ipython",
    "version": 3
   },
   "file_extension": ".py",
   "mimetype": "text/x-python",
   "name": "python",
   "nbconvert_exporter": "python",
   "pygments_lexer": "ipython3",
   "version": "3.7.10"
  }
 },
 "nbformat": 4,
 "nbformat_minor": 4
}
