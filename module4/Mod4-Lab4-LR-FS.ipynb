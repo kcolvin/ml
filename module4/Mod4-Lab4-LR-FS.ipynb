{
 "cells": [
  {
   "cell_type": "markdown",
   "metadata": {},
   "source": [
    "### Lab 4: Practice Linear Regression with Feature Selection\n",
    "\n",
    "OK, your turn. This time, we'll use vehicle features to predict selling price for a used car.\n",
    "\n",
    "**Target:** selling price of the used car<BR>\n",
    "**Features:** Look at possible columns and decide which to use in your linear regression model\n"
   ]
  },
  {
   "cell_type": "markdown",
   "metadata": {},
   "source": [
    "Follow the ML Process:<P>\n",
    "1. Obtain and load the data\n",
    "2. Perform Feature Selection\n",
    "3. Split the data into training & test datasets\n",
    "4. Format the data for the algorithm\n",
    "5. Create the model and train it\n",
    "6. Use the test set to measure the model's performance\n",
    "7.  Use the model to make new predictions"
   ]
  },
  {
   "cell_type": "code",
   "execution_count": 1,
   "metadata": {},
   "outputs": [],
   "source": [
    "# Load libraries\n",
    "from sklearn import linear_model\n",
    "from sklearn.metrics import r2_score # mean_squared_error,\n",
    "from sklearn.model_selection import train_test_split\n",
    "import pandas as pd\n",
    "import numpy as np\n",
    "import matplotlib.pyplot as plt\n",
    "%matplotlib inline"
   ]
  },
  {
   "cell_type": "markdown",
   "metadata": {},
   "source": [
    "### 1. Load the data"
   ]
  },
  {
   "cell_type": "code",
   "execution_count": 2,
   "metadata": {},
   "outputs": [
    {
     "data": {
      "text/html": [
       "<div>\n",
       "<style scoped>\n",
       "    .dataframe tbody tr th:only-of-type {\n",
       "        vertical-align: middle;\n",
       "    }\n",
       "\n",
       "    .dataframe tbody tr th {\n",
       "        vertical-align: top;\n",
       "    }\n",
       "\n",
       "    .dataframe thead th {\n",
       "        text-align: right;\n",
       "    }\n",
       "</style>\n",
       "<table border=\"1\" class=\"dataframe\">\n",
       "  <thead>\n",
       "    <tr style=\"text-align: right;\">\n",
       "      <th></th>\n",
       "      <th>name</th>\n",
       "      <th>year</th>\n",
       "      <th>selling_price</th>\n",
       "      <th>km_driven</th>\n",
       "      <th>km/liter</th>\n",
       "      <th>engine</th>\n",
       "      <th>max_power</th>\n",
       "      <th>seats</th>\n",
       "    </tr>\n",
       "  </thead>\n",
       "  <tbody>\n",
       "    <tr>\n",
       "      <th>0</th>\n",
       "      <td>Maruti Swift Dzire VDI</td>\n",
       "      <td>2014</td>\n",
       "      <td>450000</td>\n",
       "      <td>145500</td>\n",
       "      <td>23.40</td>\n",
       "      <td>1248.0</td>\n",
       "      <td>74.00</td>\n",
       "      <td>5.0</td>\n",
       "    </tr>\n",
       "    <tr>\n",
       "      <th>1</th>\n",
       "      <td>Skoda Rapid 1.5 TDI Ambition</td>\n",
       "      <td>2014</td>\n",
       "      <td>370000</td>\n",
       "      <td>120000</td>\n",
       "      <td>21.14</td>\n",
       "      <td>1498.0</td>\n",
       "      <td>103.52</td>\n",
       "      <td>5.0</td>\n",
       "    </tr>\n",
       "    <tr>\n",
       "      <th>2</th>\n",
       "      <td>Honda City 2017-2020 EXi</td>\n",
       "      <td>2006</td>\n",
       "      <td>158000</td>\n",
       "      <td>140000</td>\n",
       "      <td>17.70</td>\n",
       "      <td>1497.0</td>\n",
       "      <td>78.00</td>\n",
       "      <td>5.0</td>\n",
       "    </tr>\n",
       "    <tr>\n",
       "      <th>3</th>\n",
       "      <td>Hyundai i20 Sportz Diesel</td>\n",
       "      <td>2010</td>\n",
       "      <td>225000</td>\n",
       "      <td>127000</td>\n",
       "      <td>23.00</td>\n",
       "      <td>1396.0</td>\n",
       "      <td>90.00</td>\n",
       "      <td>5.0</td>\n",
       "    </tr>\n",
       "  </tbody>\n",
       "</table>\n",
       "</div>"
      ],
      "text/plain": [
       "                           name  year  selling_price  km_driven  km/liter  \\\n",
       "0        Maruti Swift Dzire VDI  2014         450000     145500     23.40   \n",
       "1  Skoda Rapid 1.5 TDI Ambition  2014         370000     120000     21.14   \n",
       "2      Honda City 2017-2020 EXi  2006         158000     140000     17.70   \n",
       "3     Hyundai i20 Sportz Diesel  2010         225000     127000     23.00   \n",
       "\n",
       "   engine  max_power  seats  \n",
       "0  1248.0      74.00    5.0  \n",
       "1  1498.0     103.52    5.0  \n",
       "2  1497.0      78.00    5.0  \n",
       "3  1396.0      90.00    5.0  "
      ]
     },
     "execution_count": 2,
     "metadata": {},
     "output_type": "execute_result"
    }
   ],
   "source": [
    "# Read data from a .csv (comma-separated-values) file in the local directory\n",
    "# Adapted from: \n",
    "# https://www.kaggle.com/datasets/nehalbirla/vehicle-dataset-from-cardekho?select=Car+details+v3.csv\n",
    "df = pd.read_csv('../data/cars.csv')  # Notice the path to the data file\n",
    "df.head(4)"
   ]
  },
  {
   "cell_type": "markdown",
   "metadata": {},
   "source": [
    "#### Investigate the data"
   ]
  },
  {
   "cell_type": "code",
   "execution_count": 3,
   "metadata": {},
   "outputs": [
    {
     "data": {
      "text/plain": [
       "name              object\n",
       "year               int64\n",
       "selling_price      int64\n",
       "km_driven          int64\n",
       "km/liter         float64\n",
       "engine           float64\n",
       "max_power        float64\n",
       "seats            float64\n",
       "dtype: object"
      ]
     },
     "execution_count": 3,
     "metadata": {},
     "output_type": "execute_result"
    }
   ],
   "source": [
    "# Look at the data type of each column\n",
    "df.dtypes"
   ]
  },
  {
   "cell_type": "code",
   "execution_count": 4,
   "metadata": {},
   "outputs": [
    {
     "data": {
      "text/html": [
       "<div>\n",
       "<style scoped>\n",
       "    .dataframe tbody tr th:only-of-type {\n",
       "        vertical-align: middle;\n",
       "    }\n",
       "\n",
       "    .dataframe tbody tr th {\n",
       "        vertical-align: top;\n",
       "    }\n",
       "\n",
       "    .dataframe thead th {\n",
       "        text-align: right;\n",
       "    }\n",
       "</style>\n",
       "<table border=\"1\" class=\"dataframe\">\n",
       "  <thead>\n",
       "    <tr style=\"text-align: right;\">\n",
       "      <th></th>\n",
       "      <th>year</th>\n",
       "      <th>selling_price</th>\n",
       "      <th>km_driven</th>\n",
       "      <th>km/liter</th>\n",
       "      <th>engine</th>\n",
       "      <th>max_power</th>\n",
       "      <th>seats</th>\n",
       "    </tr>\n",
       "  </thead>\n",
       "  <tbody>\n",
       "    <tr>\n",
       "      <th>count</th>\n",
       "      <td>7906.000000</td>\n",
       "      <td>7.906000e+03</td>\n",
       "      <td>7.906000e+03</td>\n",
       "      <td>7906.000000</td>\n",
       "      <td>7906.000000</td>\n",
       "      <td>7906.000000</td>\n",
       "      <td>7906.000000</td>\n",
       "    </tr>\n",
       "    <tr>\n",
       "      <th>mean</th>\n",
       "      <td>2013.983936</td>\n",
       "      <td>6.498137e+05</td>\n",
       "      <td>6.918866e+04</td>\n",
       "      <td>19.419861</td>\n",
       "      <td>1458.708829</td>\n",
       "      <td>91.587374</td>\n",
       "      <td>5.416393</td>\n",
       "    </tr>\n",
       "    <tr>\n",
       "      <th>std</th>\n",
       "      <td>3.863695</td>\n",
       "      <td>8.135827e+05</td>\n",
       "      <td>5.679230e+04</td>\n",
       "      <td>4.036263</td>\n",
       "      <td>503.893057</td>\n",
       "      <td>35.747216</td>\n",
       "      <td>0.959208</td>\n",
       "    </tr>\n",
       "    <tr>\n",
       "      <th>min</th>\n",
       "      <td>1994.000000</td>\n",
       "      <td>2.999900e+04</td>\n",
       "      <td>1.000000e+00</td>\n",
       "      <td>0.000000</td>\n",
       "      <td>624.000000</td>\n",
       "      <td>32.800000</td>\n",
       "      <td>2.000000</td>\n",
       "    </tr>\n",
       "    <tr>\n",
       "      <th>25%</th>\n",
       "      <td>2012.000000</td>\n",
       "      <td>2.700000e+05</td>\n",
       "      <td>3.500000e+04</td>\n",
       "      <td>16.780000</td>\n",
       "      <td>1197.000000</td>\n",
       "      <td>68.050000</td>\n",
       "      <td>5.000000</td>\n",
       "    </tr>\n",
       "    <tr>\n",
       "      <th>50%</th>\n",
       "      <td>2015.000000</td>\n",
       "      <td>4.500000e+05</td>\n",
       "      <td>6.000000e+04</td>\n",
       "      <td>19.300000</td>\n",
       "      <td>1248.000000</td>\n",
       "      <td>82.000000</td>\n",
       "      <td>5.000000</td>\n",
       "    </tr>\n",
       "    <tr>\n",
       "      <th>75%</th>\n",
       "      <td>2017.000000</td>\n",
       "      <td>6.900000e+05</td>\n",
       "      <td>9.542500e+04</td>\n",
       "      <td>22.320000</td>\n",
       "      <td>1582.000000</td>\n",
       "      <td>102.000000</td>\n",
       "      <td>5.000000</td>\n",
       "    </tr>\n",
       "    <tr>\n",
       "      <th>max</th>\n",
       "      <td>2020.000000</td>\n",
       "      <td>1.000000e+07</td>\n",
       "      <td>2.360457e+06</td>\n",
       "      <td>42.000000</td>\n",
       "      <td>3604.000000</td>\n",
       "      <td>400.000000</td>\n",
       "      <td>14.000000</td>\n",
       "    </tr>\n",
       "  </tbody>\n",
       "</table>\n",
       "</div>"
      ],
      "text/plain": [
       "              year  selling_price     km_driven     km/liter       engine  \\\n",
       "count  7906.000000   7.906000e+03  7.906000e+03  7906.000000  7906.000000   \n",
       "mean   2013.983936   6.498137e+05  6.918866e+04    19.419861  1458.708829   \n",
       "std       3.863695   8.135827e+05  5.679230e+04     4.036263   503.893057   \n",
       "min    1994.000000   2.999900e+04  1.000000e+00     0.000000   624.000000   \n",
       "25%    2012.000000   2.700000e+05  3.500000e+04    16.780000  1197.000000   \n",
       "50%    2015.000000   4.500000e+05  6.000000e+04    19.300000  1248.000000   \n",
       "75%    2017.000000   6.900000e+05  9.542500e+04    22.320000  1582.000000   \n",
       "max    2020.000000   1.000000e+07  2.360457e+06    42.000000  3604.000000   \n",
       "\n",
       "         max_power        seats  \n",
       "count  7906.000000  7906.000000  \n",
       "mean     91.587374     5.416393  \n",
       "std      35.747216     0.959208  \n",
       "min      32.800000     2.000000  \n",
       "25%      68.050000     5.000000  \n",
       "50%      82.000000     5.000000  \n",
       "75%     102.000000     5.000000  \n",
       "max     400.000000    14.000000  "
      ]
     },
     "execution_count": 4,
     "metadata": {},
     "output_type": "execute_result"
    }
   ],
   "source": [
    "# Use describe() to give summary statistics of the numeric data\n",
    "#  https://pandas.pydata.org/docs/reference/api/pandas.DataFrame.describe.html\n",
    "df.describe()"
   ]
  },
  {
   "cell_type": "markdown",
   "metadata": {},
   "source": [
    "#### Pull out the target column and load them into the 'y' variable"
   ]
  },
  {
   "cell_type": "code",
   "execution_count": 5,
   "metadata": {},
   "outputs": [],
   "source": [
    "# Your code here"
   ]
  },
  {
   "cell_type": "code",
   "execution_count": 6,
   "metadata": {},
   "outputs": [
    {
     "data": {
      "text/plain": [
       "0    450000\n",
       "1    370000\n",
       "2    158000\n",
       "3    225000\n",
       "4    130000\n",
       "Name: selling_price, dtype: int64"
      ]
     },
     "execution_count": 6,
     "metadata": {},
     "output_type": "execute_result"
    }
   ],
   "source": [
    "# Pull out selling_price as the target (the value we will predict)\n",
    "y = df['selling_price']\n",
    "y.head(5)"
   ]
  },
  {
   "cell_type": "markdown",
   "metadata": {},
   "source": [
    "### 2. Perform Feature Selection: \n",
    "\n",
    "There are 6 possible columns to use as features. Perform feature selection using a correlational analysis to remove columns."
   ]
  },
  {
   "cell_type": "code",
   "execution_count": 7,
   "metadata": {},
   "outputs": [],
   "source": [
    "# Your code here"
   ]
  },
  {
   "cell_type": "code",
   "execution_count": 8,
   "metadata": {},
   "outputs": [
    {
     "data": {
      "text/html": [
       "<div>\n",
       "<style scoped>\n",
       "    .dataframe tbody tr th:only-of-type {\n",
       "        vertical-align: middle;\n",
       "    }\n",
       "\n",
       "    .dataframe tbody tr th {\n",
       "        vertical-align: top;\n",
       "    }\n",
       "\n",
       "    .dataframe thead th {\n",
       "        text-align: right;\n",
       "    }\n",
       "</style>\n",
       "<table border=\"1\" class=\"dataframe\">\n",
       "  <thead>\n",
       "    <tr style=\"text-align: right;\">\n",
       "      <th></th>\n",
       "      <th>year</th>\n",
       "      <th>km_driven</th>\n",
       "      <th>km/liter</th>\n",
       "      <th>engine</th>\n",
       "      <th>max_power</th>\n",
       "      <th>seats</th>\n",
       "    </tr>\n",
       "  </thead>\n",
       "  <tbody>\n",
       "    <tr>\n",
       "      <th>0</th>\n",
       "      <td>2014</td>\n",
       "      <td>145500</td>\n",
       "      <td>23.40</td>\n",
       "      <td>1248.0</td>\n",
       "      <td>74.00</td>\n",
       "      <td>5.0</td>\n",
       "    </tr>\n",
       "    <tr>\n",
       "      <th>1</th>\n",
       "      <td>2014</td>\n",
       "      <td>120000</td>\n",
       "      <td>21.14</td>\n",
       "      <td>1498.0</td>\n",
       "      <td>103.52</td>\n",
       "      <td>5.0</td>\n",
       "    </tr>\n",
       "    <tr>\n",
       "      <th>2</th>\n",
       "      <td>2006</td>\n",
       "      <td>140000</td>\n",
       "      <td>17.70</td>\n",
       "      <td>1497.0</td>\n",
       "      <td>78.00</td>\n",
       "      <td>5.0</td>\n",
       "    </tr>\n",
       "    <tr>\n",
       "      <th>3</th>\n",
       "      <td>2010</td>\n",
       "      <td>127000</td>\n",
       "      <td>23.00</td>\n",
       "      <td>1396.0</td>\n",
       "      <td>90.00</td>\n",
       "      <td>5.0</td>\n",
       "    </tr>\n",
       "    <tr>\n",
       "      <th>4</th>\n",
       "      <td>2007</td>\n",
       "      <td>120000</td>\n",
       "      <td>16.10</td>\n",
       "      <td>1298.0</td>\n",
       "      <td>88.20</td>\n",
       "      <td>5.0</td>\n",
       "    </tr>\n",
       "  </tbody>\n",
       "</table>\n",
       "</div>"
      ],
      "text/plain": [
       "   year  km_driven  km/liter  engine  max_power  seats\n",
       "0  2014     145500     23.40  1248.0      74.00    5.0\n",
       "1  2014     120000     21.14  1498.0     103.52    5.0\n",
       "2  2006     140000     17.70  1497.0      78.00    5.0\n",
       "3  2010     127000     23.00  1396.0      90.00    5.0\n",
       "4  2007     120000     16.10  1298.0      88.20    5.0"
      ]
     },
     "execution_count": 8,
     "metadata": {},
     "output_type": "execute_result"
    }
   ],
   "source": [
    "# First, let's drop the name and selling price from the df\n",
    "#    https://pandas.pydata.org/docs/reference/api/pandas.DataFrame.drop.html\n",
    "df = df.drop(['name','selling_price'], axis = 1)\n",
    "df.head()"
   ]
  },
  {
   "cell_type": "code",
   "execution_count": 9,
   "metadata": {},
   "outputs": [
    {
     "data": {
      "text/html": [
       "<style  type=\"text/css\" >\n",
       "    #T_fb23ab9a_05ec_11ed_80fc_e5b21263a414row0_col0 {\n",
       "            background-color:  #b40426;\n",
       "            color:  #f1f1f1;\n",
       "        }    #T_fb23ab9a_05ec_11ed_80fc_e5b21263a414row0_col1 {\n",
       "            background-color:  #3b4cc0;\n",
       "            color:  #f1f1f1;\n",
       "        }    #T_fb23ab9a_05ec_11ed_80fc_e5b21263a414row0_col2 {\n",
       "            background-color:  #edd1c2;\n",
       "            color:  #000000;\n",
       "        }    #T_fb23ab9a_05ec_11ed_80fc_e5b21263a414row0_col3 {\n",
       "            background-color:  #b9d0f9;\n",
       "            color:  #000000;\n",
       "        }    #T_fb23ab9a_05ec_11ed_80fc_e5b21263a414row0_col4 {\n",
       "            background-color:  #cbd8ee;\n",
       "            color:  #000000;\n",
       "        }    #T_fb23ab9a_05ec_11ed_80fc_e5b21263a414row0_col5 {\n",
       "            background-color:  #a1c0ff;\n",
       "            color:  #000000;\n",
       "        }    #T_fb23ab9a_05ec_11ed_80fc_e5b21263a414row1_col0 {\n",
       "            background-color:  #3b4cc0;\n",
       "            color:  #f1f1f1;\n",
       "        }    #T_fb23ab9a_05ec_11ed_80fc_e5b21263a414row1_col1 {\n",
       "            background-color:  #b40426;\n",
       "            color:  #f1f1f1;\n",
       "        }    #T_fb23ab9a_05ec_11ed_80fc_e5b21263a414row1_col2 {\n",
       "            background-color:  #8fb1fe;\n",
       "            color:  #000000;\n",
       "        }    #T_fb23ab9a_05ec_11ed_80fc_e5b21263a414row1_col3 {\n",
       "            background-color:  #dcdddd;\n",
       "            color:  #000000;\n",
       "        }    #T_fb23ab9a_05ec_11ed_80fc_e5b21263a414row1_col4 {\n",
       "            background-color:  #8badfd;\n",
       "            color:  #000000;\n",
       "        }    #T_fb23ab9a_05ec_11ed_80fc_e5b21263a414row1_col5 {\n",
       "            background-color:  #d4dbe6;\n",
       "            color:  #000000;\n",
       "        }    #T_fb23ab9a_05ec_11ed_80fc_e5b21263a414row2_col0 {\n",
       "            background-color:  #e4d9d2;\n",
       "            color:  #000000;\n",
       "        }    #T_fb23ab9a_05ec_11ed_80fc_e5b21263a414row2_col1 {\n",
       "            background-color:  #7396f5;\n",
       "            color:  #000000;\n",
       "        }    #T_fb23ab9a_05ec_11ed_80fc_e5b21263a414row2_col2 {\n",
       "            background-color:  #b40426;\n",
       "            color:  #f1f1f1;\n",
       "        }    #T_fb23ab9a_05ec_11ed_80fc_e5b21263a414row2_col3 {\n",
       "            background-color:  #3b4cc0;\n",
       "            color:  #f1f1f1;\n",
       "        }    #T_fb23ab9a_05ec_11ed_80fc_e5b21263a414row2_col4 {\n",
       "            background-color:  #3b4cc0;\n",
       "            color:  #f1f1f1;\n",
       "        }    #T_fb23ab9a_05ec_11ed_80fc_e5b21263a414row2_col5 {\n",
       "            background-color:  #3b4cc0;\n",
       "            color:  #f1f1f1;\n",
       "        }    #T_fb23ab9a_05ec_11ed_80fc_e5b21263a414row3_col0 {\n",
       "            background-color:  #a3c2fe;\n",
       "            color:  #000000;\n",
       "        }    #T_fb23ab9a_05ec_11ed_80fc_e5b21263a414row3_col1 {\n",
       "            background-color:  #cdd9ec;\n",
       "            color:  #000000;\n",
       "        }    #T_fb23ab9a_05ec_11ed_80fc_e5b21263a414row3_col2 {\n",
       "            background-color:  #3b4cc0;\n",
       "            color:  #f1f1f1;\n",
       "        }    #T_fb23ab9a_05ec_11ed_80fc_e5b21263a414row3_col3 {\n",
       "            background-color:  #b40426;\n",
       "            color:  #f1f1f1;\n",
       "        }    #T_fb23ab9a_05ec_11ed_80fc_e5b21263a414row3_col4 {\n",
       "            background-color:  #f08b6e;\n",
       "            color:  #000000;\n",
       "        }    #T_fb23ab9a_05ec_11ed_80fc_e5b21263a414row3_col5 {\n",
       "            background-color:  #f5a081;\n",
       "            color:  #000000;\n",
       "        }    #T_fb23ab9a_05ec_11ed_80fc_e5b21263a414row4_col0 {\n",
       "            background-color:  #d2dbe8;\n",
       "            color:  #000000;\n",
       "        }    #T_fb23ab9a_05ec_11ed_80fc_e5b21263a414row4_col1 {\n",
       "            background-color:  #94b6ff;\n",
       "            color:  #000000;\n",
       "        }    #T_fb23ab9a_05ec_11ed_80fc_e5b21263a414row4_col2 {\n",
       "            background-color:  #6282ea;\n",
       "            color:  #000000;\n",
       "        }    #T_fb23ab9a_05ec_11ed_80fc_e5b21263a414row4_col3 {\n",
       "            background-color:  #ec7f63;\n",
       "            color:  #000000;\n",
       "        }    #T_fb23ab9a_05ec_11ed_80fc_e5b21263a414row4_col4 {\n",
       "            background-color:  #b40426;\n",
       "            color:  #f1f1f1;\n",
       "        }    #T_fb23ab9a_05ec_11ed_80fc_e5b21263a414row4_col5 {\n",
       "            background-color:  #cdd9ec;\n",
       "            color:  #000000;\n",
       "        }    #T_fb23ab9a_05ec_11ed_80fc_e5b21263a414row5_col0 {\n",
       "            background-color:  #9dbdff;\n",
       "            color:  #000000;\n",
       "        }    #T_fb23ab9a_05ec_11ed_80fc_e5b21263a414row5_col1 {\n",
       "            background-color:  #d2dbe8;\n",
       "            color:  #000000;\n",
       "        }    #T_fb23ab9a_05ec_11ed_80fc_e5b21263a414row5_col2 {\n",
       "            background-color:  #536edd;\n",
       "            color:  #000000;\n",
       "        }    #T_fb23ab9a_05ec_11ed_80fc_e5b21263a414row5_col3 {\n",
       "            background-color:  #f4987a;\n",
       "            color:  #000000;\n",
       "        }    #T_fb23ab9a_05ec_11ed_80fc_e5b21263a414row5_col4 {\n",
       "            background-color:  #c4d5f3;\n",
       "            color:  #000000;\n",
       "        }    #T_fb23ab9a_05ec_11ed_80fc_e5b21263a414row5_col5 {\n",
       "            background-color:  #b40426;\n",
       "            color:  #f1f1f1;\n",
       "        }</style><table id=\"T_fb23ab9a_05ec_11ed_80fc_e5b21263a414\" ><thead>    <tr>        <th class=\"blank level0\" ></th>        <th class=\"col_heading level0 col0\" >year</th>        <th class=\"col_heading level0 col1\" >km_driven</th>        <th class=\"col_heading level0 col2\" >km/liter</th>        <th class=\"col_heading level0 col3\" >engine</th>        <th class=\"col_heading level0 col4\" >max_power</th>        <th class=\"col_heading level0 col5\" >seats</th>    </tr></thead><tbody>\n",
       "                <tr>\n",
       "                        <th id=\"T_fb23ab9a_05ec_11ed_80fc_e5b21263a414level0_row0\" class=\"row_heading level0 row0\" >year</th>\n",
       "                        <td id=\"T_fb23ab9a_05ec_11ed_80fc_e5b21263a414row0_col0\" class=\"data row0 col0\" >1.00</td>\n",
       "                        <td id=\"T_fb23ab9a_05ec_11ed_80fc_e5b21263a414row0_col1\" class=\"data row0 col1\" >-0.43</td>\n",
       "                        <td id=\"T_fb23ab9a_05ec_11ed_80fc_e5b21263a414row0_col2\" class=\"data row0 col2\" >0.33</td>\n",
       "                        <td id=\"T_fb23ab9a_05ec_11ed_80fc_e5b21263a414row0_col3\" class=\"data row0 col3\" >0.02</td>\n",
       "                        <td id=\"T_fb23ab9a_05ec_11ed_80fc_e5b21263a414row0_col4\" class=\"data row0 col4\" >0.23</td>\n",
       "                        <td id=\"T_fb23ab9a_05ec_11ed_80fc_e5b21263a414row0_col5\" class=\"data row0 col5\" >-0.01</td>\n",
       "            </tr>\n",
       "            <tr>\n",
       "                        <th id=\"T_fb23ab9a_05ec_11ed_80fc_e5b21263a414level0_row1\" class=\"row_heading level0 row1\" >km_driven</th>\n",
       "                        <td id=\"T_fb23ab9a_05ec_11ed_80fc_e5b21263a414row1_col0\" class=\"data row1 col0\" >-0.43</td>\n",
       "                        <td id=\"T_fb23ab9a_05ec_11ed_80fc_e5b21263a414row1_col1\" class=\"data row1 col1\" >1.00</td>\n",
       "                        <td id=\"T_fb23ab9a_05ec_11ed_80fc_e5b21263a414row1_col2\" class=\"data row1 col2\" >-0.17</td>\n",
       "                        <td id=\"T_fb23ab9a_05ec_11ed_80fc_e5b21263a414row1_col3\" class=\"data row1 col3\" >0.21</td>\n",
       "                        <td id=\"T_fb23ab9a_05ec_11ed_80fc_e5b21263a414row1_col4\" class=\"data row1 col4\" >-0.04</td>\n",
       "                        <td id=\"T_fb23ab9a_05ec_11ed_80fc_e5b21263a414row1_col5\" class=\"data row1 col5\" >0.23</td>\n",
       "            </tr>\n",
       "            <tr>\n",
       "                        <th id=\"T_fb23ab9a_05ec_11ed_80fc_e5b21263a414level0_row2\" class=\"row_heading level0 row2\" >km/liter</th>\n",
       "                        <td id=\"T_fb23ab9a_05ec_11ed_80fc_e5b21263a414row2_col0\" class=\"data row2 col0\" >0.33</td>\n",
       "                        <td id=\"T_fb23ab9a_05ec_11ed_80fc_e5b21263a414row2_col1\" class=\"data row2 col1\" >-0.17</td>\n",
       "                        <td id=\"T_fb23ab9a_05ec_11ed_80fc_e5b21263a414row2_col2\" class=\"data row2 col2\" >1.00</td>\n",
       "                        <td id=\"T_fb23ab9a_05ec_11ed_80fc_e5b21263a414row2_col3\" class=\"data row2 col3\" >-0.58</td>\n",
       "                        <td id=\"T_fb23ab9a_05ec_11ed_80fc_e5b21263a414row2_col4\" class=\"data row2 col4\" >-0.37</td>\n",
       "                        <td id=\"T_fb23ab9a_05ec_11ed_80fc_e5b21263a414row2_col5\" class=\"data row2 col5\" >-0.45</td>\n",
       "            </tr>\n",
       "            <tr>\n",
       "                        <th id=\"T_fb23ab9a_05ec_11ed_80fc_e5b21263a414level0_row3\" class=\"row_heading level0 row3\" >engine</th>\n",
       "                        <td id=\"T_fb23ab9a_05ec_11ed_80fc_e5b21263a414row3_col0\" class=\"data row3 col0\" >0.02</td>\n",
       "                        <td id=\"T_fb23ab9a_05ec_11ed_80fc_e5b21263a414row3_col1\" class=\"data row3 col1\" >0.21</td>\n",
       "                        <td id=\"T_fb23ab9a_05ec_11ed_80fc_e5b21263a414row3_col2\" class=\"data row3 col2\" >-0.58</td>\n",
       "                        <td id=\"T_fb23ab9a_05ec_11ed_80fc_e5b21263a414row3_col3\" class=\"data row3 col3\" >1.00</td>\n",
       "                        <td id=\"T_fb23ab9a_05ec_11ed_80fc_e5b21263a414row3_col4\" class=\"data row3 col4\" >0.70</td>\n",
       "                        <td id=\"T_fb23ab9a_05ec_11ed_80fc_e5b21263a414row3_col5\" class=\"data row3 col5\" >0.61</td>\n",
       "            </tr>\n",
       "            <tr>\n",
       "                        <th id=\"T_fb23ab9a_05ec_11ed_80fc_e5b21263a414level0_row4\" class=\"row_heading level0 row4\" >max_power</th>\n",
       "                        <td id=\"T_fb23ab9a_05ec_11ed_80fc_e5b21263a414row4_col0\" class=\"data row4 col0\" >0.23</td>\n",
       "                        <td id=\"T_fb23ab9a_05ec_11ed_80fc_e5b21263a414row4_col1\" class=\"data row4 col1\" >-0.04</td>\n",
       "                        <td id=\"T_fb23ab9a_05ec_11ed_80fc_e5b21263a414row4_col2\" class=\"data row4 col2\" >-0.37</td>\n",
       "                        <td id=\"T_fb23ab9a_05ec_11ed_80fc_e5b21263a414row4_col3\" class=\"data row4 col3\" >0.70</td>\n",
       "                        <td id=\"T_fb23ab9a_05ec_11ed_80fc_e5b21263a414row4_col4\" class=\"data row4 col4\" >1.00</td>\n",
       "                        <td id=\"T_fb23ab9a_05ec_11ed_80fc_e5b21263a414row4_col5\" class=\"data row4 col5\" >0.19</td>\n",
       "            </tr>\n",
       "            <tr>\n",
       "                        <th id=\"T_fb23ab9a_05ec_11ed_80fc_e5b21263a414level0_row5\" class=\"row_heading level0 row5\" >seats</th>\n",
       "                        <td id=\"T_fb23ab9a_05ec_11ed_80fc_e5b21263a414row5_col0\" class=\"data row5 col0\" >-0.01</td>\n",
       "                        <td id=\"T_fb23ab9a_05ec_11ed_80fc_e5b21263a414row5_col1\" class=\"data row5 col1\" >0.23</td>\n",
       "                        <td id=\"T_fb23ab9a_05ec_11ed_80fc_e5b21263a414row5_col2\" class=\"data row5 col2\" >-0.45</td>\n",
       "                        <td id=\"T_fb23ab9a_05ec_11ed_80fc_e5b21263a414row5_col3\" class=\"data row5 col3\" >0.61</td>\n",
       "                        <td id=\"T_fb23ab9a_05ec_11ed_80fc_e5b21263a414row5_col4\" class=\"data row5 col4\" >0.19</td>\n",
       "                        <td id=\"T_fb23ab9a_05ec_11ed_80fc_e5b21263a414row5_col5\" class=\"data row5 col5\" >1.00</td>\n",
       "            </tr>\n",
       "    </tbody></table>"
      ],
      "text/plain": [
       "<pandas.io.formats.style.Styler at 0x7f671af40b10>"
      ]
     },
     "execution_count": 9,
     "metadata": {},
     "output_type": "execute_result"
    }
   ],
   "source": [
    "# Create a correlation plot\n",
    "corr_df = df.corr()\n",
    "corr_df.style.background_gradient(cmap='coolwarm').set_precision(2)"
   ]
  },
  {
   "cell_type": "markdown",
   "metadata": {},
   "source": [
    "#### Result of my 'feature selection':"
   ]
  },
  {
   "cell_type": "code",
   "execution_count": 10,
   "metadata": {},
   "outputs": [
    {
     "data": {
      "text/html": [
       "<div>\n",
       "<style scoped>\n",
       "    .dataframe tbody tr th:only-of-type {\n",
       "        vertical-align: middle;\n",
       "    }\n",
       "\n",
       "    .dataframe tbody tr th {\n",
       "        vertical-align: top;\n",
       "    }\n",
       "\n",
       "    .dataframe thead th {\n",
       "        text-align: right;\n",
       "    }\n",
       "</style>\n",
       "<table border=\"1\" class=\"dataframe\">\n",
       "  <thead>\n",
       "    <tr style=\"text-align: right;\">\n",
       "      <th></th>\n",
       "      <th>year</th>\n",
       "      <th>km_driven</th>\n",
       "      <th>km/liter</th>\n",
       "      <th>engine</th>\n",
       "      <th>max_power</th>\n",
       "      <th>seats</th>\n",
       "    </tr>\n",
       "  </thead>\n",
       "  <tbody>\n",
       "    <tr>\n",
       "      <th>0</th>\n",
       "      <td>2014</td>\n",
       "      <td>145500</td>\n",
       "      <td>23.40</td>\n",
       "      <td>1248.0</td>\n",
       "      <td>74.00</td>\n",
       "      <td>5.0</td>\n",
       "    </tr>\n",
       "    <tr>\n",
       "      <th>1</th>\n",
       "      <td>2014</td>\n",
       "      <td>120000</td>\n",
       "      <td>21.14</td>\n",
       "      <td>1498.0</td>\n",
       "      <td>103.52</td>\n",
       "      <td>5.0</td>\n",
       "    </tr>\n",
       "  </tbody>\n",
       "</table>\n",
       "</div>"
      ],
      "text/plain": [
       "   year  km_driven  km/liter  engine  max_power  seats\n",
       "0  2014     145500     23.40  1248.0      74.00    5.0\n",
       "1  2014     120000     21.14  1498.0     103.52    5.0"
      ]
     },
     "execution_count": 10,
     "metadata": {},
     "output_type": "execute_result"
    }
   ],
   "source": [
    "# After my \"qualitative\" evaluation, I've decided to go with:\n",
    "# Everything!\n",
    "X = df\n",
    "# I really considered dropping 'engine', but the model did slightly better with it.\n",
    "#  X = df.drop(['engine'],axis = 1)\n",
    "X.head(2)"
   ]
  },
  {
   "cell_type": "markdown",
   "metadata": {},
   "source": [
    "### 3. Split the data into training & test datasets"
   ]
  },
  {
   "cell_type": "code",
   "execution_count": 11,
   "metadata": {},
   "outputs": [],
   "source": [
    "# Your code here"
   ]
  },
  {
   "cell_type": "code",
   "execution_count": 12,
   "metadata": {},
   "outputs": [
    {
     "name": "stdout",
     "output_type": "stream",
     "text": [
      "X_train: (6324, 6)\n",
      "y_train: (6324,)\n",
      "X_test: (1582, 6)\n",
      "y_test: (1582,)\n"
     ]
    }
   ],
   "source": [
    "# Reserve 20% for testing\n",
    "X_train, X_test, y_train, y_test = train_test_split(X, y, test_size = 0.20)\n",
    "# Verify the sizes of the split datasets\n",
    "print('X_train:', X_train.shape)\n",
    "print('y_train:', y_train.shape)\n",
    "print('X_test:', X_test.shape)\n",
    "print('y_test:', y_test.shape)"
   ]
  },
  {
   "cell_type": "markdown",
   "metadata": {},
   "source": [
    "### 4. Format the data for the algorithm\n",
    "Since the X data is already in a dataframe, we should be good. Just verify it."
   ]
  },
  {
   "cell_type": "code",
   "execution_count": 13,
   "metadata": {},
   "outputs": [],
   "source": [
    "# Your code here"
   ]
  },
  {
   "cell_type": "code",
   "execution_count": 14,
   "metadata": {},
   "outputs": [
    {
     "name": "stdout",
     "output_type": "stream",
     "text": [
      "<class 'pandas.core.frame.DataFrame'>\n",
      "<class 'pandas.core.frame.DataFrame'>\n"
     ]
    }
   ],
   "source": [
    "print(type(X_train))\n",
    "print(type(X_test))"
   ]
  },
  {
   "cell_type": "markdown",
   "metadata": {},
   "source": [
    "### 5. Create the model and train it"
   ]
  },
  {
   "cell_type": "code",
   "execution_count": 15,
   "metadata": {},
   "outputs": [],
   "source": [
    "# Your code here:"
   ]
  },
  {
   "cell_type": "code",
   "execution_count": 16,
   "metadata": {},
   "outputs": [
    {
     "name": "stdout",
     "output_type": "stream",
     "text": [
      "The linear model coefficents are: [ 4.32132605e+04 -1.25061258e+00  1.05014597e+04  1.12587046e+02\n",
      "  1.57756949e+04 -7.45352888e+04]\n",
      "Intercept: -87702684.43864024\n"
     ]
    }
   ],
   "source": [
    "# Create linear regression object\n",
    "model = linear_model.LinearRegression()\n",
    "#\n",
    "# Train the model using the training sets\n",
    "model.fit(X_train, y_train)\n",
    "#\n",
    "print('The linear model coefficents are:',model.coef_)\n",
    "print('Intercept:',model.intercept_)"
   ]
  },
  {
   "cell_type": "markdown",
   "metadata": {},
   "source": [
    "### 6. Use the test set to measure the model's performance"
   ]
  },
  {
   "cell_type": "code",
   "execution_count": 17,
   "metadata": {},
   "outputs": [
    {
     "name": "stdout",
     "output_type": "stream",
     "text": [
      "Coefficient of determination: 0.63\n"
     ]
    }
   ],
   "source": [
    "# Make predictions of waist size using weights from the test dataset\n",
    "y_pred = model.predict(X_test)\n",
    "# Calc performance\n",
    "print(\"Coefficient of determination: %.2f\" % r2_score(y_test, y_pred))"
   ]
  },
  {
   "cell_type": "markdown",
   "metadata": {},
   "source": [
    "### 7.  Use the model to make new predictions:\n",
    "You need to create a few fictitious cars that we can predict. <BR>\n",
    "Dataframes are excellent data structures to pass to the .predict() function"
   ]
  },
  {
   "cell_type": "code",
   "execution_count": 18,
   "metadata": {},
   "outputs": [],
   "source": [
    "# Your code here"
   ]
  },
  {
   "cell_type": "code",
   "execution_count": 19,
   "metadata": {},
   "outputs": [
    {
     "data": {
      "text/plain": [
       "[2060116.2650402337,\n",
       " 634826.7276916504,\n",
       " 1222200.653628245,\n",
       " 1144682.5248035043,\n",
       " 1765248.1415283233]"
      ]
     },
     "execution_count": 19,
     "metadata": {},
     "output_type": "execute_result"
    }
   ],
   "source": [
    "# Let's define some new cars and predict\n",
    "cols = list(X.columns)\n",
    "c1 = [2014.0, 77000.0, 12.55, 2982.0, 168.5, 4.0]\n",
    "c2 = [2013.0, 99000.0, 12.99, 2494.0, 100.0, 7.0]\n",
    "c3 = [2014.0, 27800.0, 14.8, 2143.0, 120.7, 5.0]\n",
    "c4 = [2015.0, 49800.0, 24.7, 1498.0, 98.63, 2.0]\n",
    "c5 = [2013.0, 151000.0, 13.5, 2477.0, 175.56, 7.0]\n",
    "new_cars_df = pd.DataFrame(data = [c1,c2,c3,c4,c5], columns = cols)\n",
    "#\n",
    "# Call the predict function from the model\n",
    "new_selling_price = model.predict(new_cars_df) # Returns list of arrays\n",
    "# Need to flatten this list of arrays to just a list of scalers so we can plot it\n",
    "new_selling_price = new_selling_price.flatten().tolist()\n",
    "new_selling_price # Predicted values"
   ]
  },
  {
   "cell_type": "code",
   "execution_count": 20,
   "metadata": {},
   "outputs": [
    {
     "data": {
      "image/png": "[encoded data removed]",
      "text/plain": [
       "<Figure size 432x288 with 1 Axes>"
      ]
     },
     "metadata": {
      "needs_background": "light"
     },
     "output_type": "display_data"
    }
   ],
   "source": [
    "# Plot bar chart of the predicted values\n",
    "x_bars = ['car 1','car 2','car 3','car 4','car 5']\n",
    "plt.bar(x_bars, new_selling_price)\n",
    "plt.xlabel(\"Fictitious Cars\")\n",
    "plt.ylabel(\"Predicted Selling Price\")\n",
    "plt.show()"
   ]
  },
  {
   "cell_type": "code",
   "execution_count": null,
   "metadata": {},
   "outputs": [],
   "source": []
  }
 ],
 "metadata": {
  "instance_type": "ml.t3.medium",
  "kernelspec": {
   "display_name": "Python 3 (Data Science)",
   "language": "python",
   "name": "python3__SAGEMAKER_INTERNAL__arn:aws:sagemaker:us-west-2:236514542706:image/datascience-1.0"
  },
  "language_info": {
   "codemirror_mode": {
    "name": "ipython",
    "version": 3
   },
   "file_extension": ".py",
   "mimetype": "text/x-python",
   "name": "python",
   "nbconvert_exporter": "python",
   "pygments_lexer": "ipython3",
   "version": "3.7.10"
  }
 },
 "nbformat": 4,
 "nbformat_minor": 4
}
