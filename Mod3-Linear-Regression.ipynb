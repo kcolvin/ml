{
 "cells": [
  {
   "cell_type": "markdown",
   "metadata": {},
   "source": [
    "### Module 3 Learning: Linear Regression as an example of Machine Learning\n",
    "In this activity, become familiar with the concept of a mathematical model used to predict a value.  This concept will carry us forward to using more sophisticated machine learning models to predict increasingly complex data.<P>\n",
    "    \n",
    "References:<P>\n",
    "- https://www.youtube.com/watch?v=b0L47BeklTE\n",
    "-https://data36.com/linear-regression-in-python-numpy-polyfit/"
   ]
  },
  {
   "cell_type": "code",
   "execution_count": 1,
   "metadata": {},
   "outputs": [],
   "source": [
    "from sklearn import datasets # We'll get a data set from this module\n",
    "import pandas as pd # Used to store data in a DataFrame\n",
    "import numpy as np # We will use the np linear model\n",
    "import matplotlib.pyplot as plt # Visualization module\n",
    "%matplotlib inline"
   ]
  },
  {
   "cell_type": "markdown",
   "metadata": {},
   "source": [
    "### Get some data to work with"
   ]
  },
  {
   "cell_type": "code",
   "execution_count": 35,
   "metadata": {},
   "outputs": [
    {
     "name": "stdout",
     "output_type": "stream",
     "text": [
      "Size of data (Rows,Cols): (20, 3)\n"
     ]
    },
    {
     "data": {
      "text/html": [
       "<div>\n",
       "<style scoped>\n",
       "    .dataframe tbody tr th:only-of-type {\n",
       "        vertical-align: middle;\n",
       "    }\n",
       "\n",
       "    .dataframe tbody tr th {\n",
       "        vertical-align: top;\n",
       "    }\n",
       "\n",
       "    .dataframe thead th {\n",
       "        text-align: right;\n",
       "    }\n",
       "</style>\n",
       "<table border=\"1\" class=\"dataframe\">\n",
       "  <thead>\n",
       "    <tr style=\"text-align: right;\">\n",
       "      <th></th>\n",
       "      <th>Weight</th>\n",
       "      <th>Waist</th>\n",
       "      <th>Pulse</th>\n",
       "    </tr>\n",
       "  </thead>\n",
       "  <tbody>\n",
       "    <tr>\n",
       "      <th>0</th>\n",
       "      <td>191.0</td>\n",
       "      <td>36.0</td>\n",
       "      <td>50.0</td>\n",
       "    </tr>\n",
       "    <tr>\n",
       "      <th>1</th>\n",
       "      <td>189.0</td>\n",
       "      <td>37.0</td>\n",
       "      <td>52.0</td>\n",
       "    </tr>\n",
       "    <tr>\n",
       "      <th>2</th>\n",
       "      <td>193.0</td>\n",
       "      <td>38.0</td>\n",
       "      <td>58.0</td>\n",
       "    </tr>\n",
       "    <tr>\n",
       "      <th>3</th>\n",
       "      <td>162.0</td>\n",
       "      <td>35.0</td>\n",
       "      <td>62.0</td>\n",
       "    </tr>\n",
       "  </tbody>\n",
       "</table>\n",
       "</div>"
      ],
      "text/plain": [
       "   Weight  Waist  Pulse\n",
       "0   191.0   36.0   50.0\n",
       "1   189.0   37.0   52.0\n",
       "2   193.0   38.0   58.0\n",
       "3   162.0   35.0   62.0"
      ]
     },
     "execution_count": 35,
     "metadata": {},
     "output_type": "execute_result"
    }
   ],
   "source": [
    "# Import an example dataset\n",
    "# From: https://scikit-learn.org/stable/datasets/toy_dataset.html#diabetes-dataset\n",
    "data = datasets.load_linnerud()\n",
    "# Convert the data to a pandas DataFrame\n",
    "df = pd.DataFrame(data=data.target, columns=data.target_names)\n",
    "print('Size of data (Rows,Cols):',df.shape)\n",
    "df.head(4) # Show just the first 4"
   ]
  },
  {
   "cell_type": "code",
   "execution_count": 36,
   "metadata": {},
   "outputs": [
    {
     "name": "stdout",
     "output_type": "stream",
     "text": [
      "0    191.0\n",
      "1    189.0\n",
      "2    193.0\n",
      "Name: Weight, dtype: float64\n",
      "0    36.0\n",
      "1    37.0\n",
      "2    38.0\n",
      "Name: Waist, dtype: float64\n"
     ]
    }
   ],
   "source": [
    "# Isolate two columns to which we will fit a model\n",
    "X = df['Weight'] # We'll call this our independent variable\n",
    "y = df['Waist'] # This will be our dependent variable\n",
    "# Print the first 3 of each\n",
    "print(X.head(3))\n",
    "print(y.head(3))"
   ]
  },
  {
   "cell_type": "code",
   "execution_count": 37,
   "metadata": {},
   "outputs": [
    {
     "data": {
      "image/png": "[encoded data removed]",
      "text/plain": [
       "<Figure size 432x288 with 1 Axes>"
      ]
     },
     "metadata": {
      "needs_background": "light"
     },
     "output_type": "display_data"
    }
   ],
   "source": [
    "# Plot the data\n",
    "plt.scatter(X, y, c =\"blue\")\n",
    "plt.title(\"Weight vs. Waist\")\n",
    "plt.xlabel(\"Weight (lbs)\")\n",
    "plt.ylabel(\"Waist (inches)\")\n",
    "plt.show()"
   ]
  },
  {
   "cell_type": "code",
   "execution_count": 49,
   "metadata": {},
   "outputs": [
    {
     "name": "stdout",
     "output_type": "stream",
     "text": [
      "The linear model has equation of:\n",
      "y =  0.11285699485443927 x +  15.243740718997135\n"
     ]
    }
   ],
   "source": [
    "# Fit a model to the data\n",
    "model = np.polyfit(X,y,1)\n",
    "print('The linear model has equation of:')\n",
    "print('y = ',model[0],'x + ',model[1]) # intercept/constant\n",
    "#print(model[1]) # x coefficient"
   ]
  },
  {
   "cell_type": "code",
   "execution_count": 52,
   "metadata": {},
   "outputs": [
    {
     "data": {
      "text/plain": [
       "38.94370963842938"
      ]
     },
     "execution_count": 52,
     "metadata": {},
     "output_type": "execute_result"
    }
   ],
   "source": [
    "# Use the model to predict my waist size\n",
    "predict = np.poly1d(model)\n",
    "myWeight = 210\n",
    "predict(myWeight)"
   ]
  },
  {
   "cell_type": "code",
   "execution_count": 47,
   "metadata": {},
   "outputs": [
    {
     "data": {
      "image/png": "[encoded data removed]",
      "text/plain": [
       "<Figure size 432x288 with 1 Axes>"
      ]
     },
     "metadata": {
      "needs_background": "light"
     },
     "output_type": "display_data"
    }
   ],
   "source": [
    "# Predict a range of values between 130 lbs and 250 lbs\n",
    "X_pred = range(130,250) # Integers between low and high\n",
    "y_pred = predict(X_pred) # Predicted values for each of these\n",
    "# Plot both the original data points and the predicted line\n",
    "plt.scatter(X,y, c = 'blue') # Original data\n",
    "plt.plot(X_pred,y_pred, c = 'red') # Predicted linear line\n",
    "plt.show()"
   ]
  },
  {
   "cell_type": "code",
   "execution_count": 53,
   "metadata": {},
   "outputs": [
    {
     "data": {
      "text/plain": [
       "0.7573237354913916"
      ]
     },
     "execution_count": 53,
     "metadata": {},
     "output_type": "execute_result"
    }
   ],
   "source": [
    "# How good?\n",
    "from sklearn.metrics import r2_score # Coefficient of determination (R^2)\n",
    "# Caculate this metric using the original y and the predicted y\n",
    "r2_score(y,predict(X))"
   ]
  },
  {
   "cell_type": "code",
   "execution_count": null,
   "metadata": {},
   "outputs": [],
   "source": []
  }
 ],
 "metadata": {
  "instance_type": "ml.t3.medium",
  "kernelspec": {
   "display_name": "Python 3 (Data Science)",
   "language": "python",
   "name": "python3__SAGEMAKER_INTERNAL__arn:aws:sagemaker:us-west-2:236514542706:image/datascience-1.0"
  },
  "language_info": {
   "codemirror_mode": {
    "name": "ipython",
    "version": 3
   },
   "file_extension": ".py",
   "mimetype": "text/x-python",
   "name": "python",
   "nbconvert_exporter": "python",
   "pygments_lexer": "ipython3",
   "version": "3.7.10"
  }
 },
 "nbformat": 4,
 "nbformat_minor": 4
}
