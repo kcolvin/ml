{
 "cells": [
  {
   "cell_type": "markdown",
   "metadata": {},
   "source": [
    "### Use this code to make a backup and upload it to S3.\n",
    "\n",
    "You can then download easily from S3 using the console."
   ]
  },
  {
   "cell_type": "code",
   "execution_count": 6,
   "metadata": {},
   "outputs": [
    {
     "name": "stdout",
     "output_type": "stream",
     "text": [
      "/root/ml/misc\n"
     ]
    }
   ],
   "source": [
    "#What is my present working directory?\n",
    "!pwd"
   ]
  },
  {
   "cell_type": "code",
   "execution_count": 7,
   "metadata": {},
   "outputs": [
    {
     "name": "stdout",
     "output_type": "stream",
     "text": [
      "total 16\n",
      "-rw-r--r--  1 root root 1537 Mar 15  2022 demo.ipynb\n",
      "-rw-r--r--  1 root root  831 Mar 15  2022 demo2.ipynb\n",
      "drwxr-xr-x  8 root root 6144 Mar 15  2022 gse580-SageMakerStudioLabs\n",
      "drwxr-xr-x 25 root root 6144 Sep 15 18:27 ml\n"
     ]
    }
   ],
   "source": [
    "# List the folders and files in the /root directory\n",
    "!ls -l /root"
   ]
  },
  {
   "cell_type": "code",
   "execution_count": 8,
   "metadata": {},
   "outputs": [
    {
     "name": "stdout",
     "output_type": "stream",
     "text": [
      "tar: Removing leading `/' from member names\n",
      "tar: /root/ml/misc/ml-backup.tar.gz: file changed as we read it\n"
     ]
    }
   ],
   "source": [
    "# Backup a folder to a zip file here in the /root/ml/misc directory\n",
    "#\n",
    "# Here I'll backup the '/root/ml' directory. Name the zipped file 'ml-backup.tar.gz'\n",
    "#\n",
    "!tar -zcf ml-backup.tar.gz /root/ml"
   ]
  },
  {
   "cell_type": "code",
   "execution_count": 9,
   "metadata": {},
   "outputs": [
    {
     "name": "stdout",
     "output_type": "stream",
     "text": [
      "total 260568\n",
      "-rw-r--r-- 1 root root      3675 Sep 15 18:50 backup-ml.ipynb\n",
      "-rw-r--r-- 1 root root       922 Jul 13 17:37 cars.csv\n",
      "-rw-r--r-- 1 root root 266812037 Sep 15 18:51 ml-backup.tar.gz\n"
     ]
    }
   ],
   "source": [
    "# Show backup file here\n",
    "!ls -l"
   ]
  },
  {
   "cell_type": "code",
   "execution_count": 10,
   "metadata": {},
   "outputs": [
    {
     "name": "stdout",
     "output_type": "stream",
     "text": [
      "All OK, it worked.\n"
     ]
    }
   ],
   "source": [
    "# Now upload that file to S3. You can download it from there.\n",
    "import boto3\n",
    "# Local file I want to upload\n",
    "local_file = 'ml-backup.tar.gz'\n",
    "#\n",
    "sess = boto3.session.Session()\n",
    "s3 = sess.client('s3')\n",
    "bucket = 'machinelearning-shared'\n",
    "# Where I want to store it on S3\n",
    "key = 'data/kcolvin/ml-backup.tar.gz'  # Make sure you customize this\n",
    "try:\n",
    "    response = s3.upload_file(local_file, bucket, key)\n",
    "    print('All OK, it worked.')\n",
    "except Exception as e:\n",
    "    print(\"\\nSomething went wrong: \",e)"
   ]
  },
  {
   "cell_type": "code",
   "execution_count": null,
   "metadata": {},
   "outputs": [],
   "source": []
  }
 ],
 "metadata": {
  "instance_type": "ml.t3.medium",
  "kernelspec": {
   "display_name": "Python 3 (Data Science)",
   "language": "python",
   "name": "python3__SAGEMAKER_INTERNAL__arn:aws:sagemaker:us-west-2:236514542706:image/datascience-1.0"
  },
  "language_info": {
   "codemirror_mode": {
    "name": "ipython",
    "version": 3
   },
   "file_extension": ".py",
   "mimetype": "text/x-python",
   "name": "python",
   "nbconvert_exporter": "python",
   "pygments_lexer": "ipython3",
   "version": "3.7.10"
  }
 },
 "nbformat": 4,
 "nbformat_minor": 4
}
