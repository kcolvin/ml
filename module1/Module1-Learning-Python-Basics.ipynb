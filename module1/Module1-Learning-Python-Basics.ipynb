{
 "cells": [
  {
   "cell_type": "code",
   "execution_count": null,
   "metadata": {},
   "outputs": [],
   "source": [
    "# Adapted from: http://justinbois.github.io/bootcamp/2020_fsri/lessons/l01_welcome.html"
   ]
  },
  {
   "cell_type": "markdown",
   "metadata": {},
   "source": [
    "### Module 1 Learning: Working in SageMaker Studio & Review of Python concepts\n",
    "In this activity, become familiar with the SageMaker Studio IDE (Integrated Development Environment) and learn/review some basic Python concepts"
   ]
  },
  {
   "cell_type": "code",
   "execution_count": null,
   "metadata": {},
   "outputs": [],
   "source": [
    "# This is a code cell. The '#' character makes this a commented line.\n",
    "# The next line is executable code.\n",
    "print('Hello, world.')"
   ]
  },
  {
   "cell_type": "markdown",
   "metadata": {},
   "source": [
    "### Cells\n",
    "\n",
    "A Jupyter notebook consists of cells. The two main types of cells you will use are code cells and markdown cells. First, an overview.\n",
    "\n",
    "A code cell contains actual code that you want to run. You can specify a cell as a code cell using the pulldown menu in the toolbar of your Jupyter notebook. Otherwise, you can can hit Esc and then y (denoted Esc - y”) while a cell is selected to specify that it is a code cell. Note that you will have to hit enter after doing this to start editing it.\n",
    "\n",
    "If you want to execute the code in a code cell, hit Enter while holding down the Shift key (denoted Shift + Enter). Note that code cells are executed in the order you shift-enter them. That is to say, the ordering of the cells for which you hit Shift + Enter is the order in which the code is executed. If you did not explicitly execute a cell early in the document, its results are not known to the Python interpreter. This is a very important point and is often a source of confusion and frustration for students.\n",
    "\n",
    "Markdown cells contain text. The text is written in markdown, a lightweight markup language. As you are typing the contents of these cells, the results appear as text. Hitting Shift + Enter renders the text in the formatting you specify.\n",
    "\n",
    "Markdown formatting reference: https://www.ibm.com/docs/en/db2-event-store/2.0.0?topic=notebooks-markdown-jupyter-cheatsheet\n",
    "\n",
    "You can specify a cell as being a markdown cell in the Jupyter toolbar, or by hitting Esc - m in the cell. Again, you have to hit enter after using the quick keys to bring the cell into edit mode.\n",
    "\n",
    "In general, when you want to add a new cell, you can click the + icon on the notebook toolbar. The shortcut to insert a cell below is Esc - b and to insert a cell above is Esc - a. Alternatively, you can execute a cell and automatically add a new one below it by hitting Alt + Enter.\n"
   ]
  },
  {
   "cell_type": "markdown",
   "metadata": {},
   "source": [
    "<P><P><P><P>If you evaluate a Python expression that returns a value, that value is displayed as output of the code cell. This only happens, however, for the last line of the code cell."
   ]
  },
  {
   "cell_type": "code",
   "execution_count": null,
   "metadata": {},
   "outputs": [],
   "source": [
    "# Would show 9 if this were the last line, but it is not, so shows nothing\n",
    "4 + 5\n",
    "\n",
    "# I hope we see 11.\n",
    "5 + 6"
   ]
  },
  {
   "cell_type": "markdown",
   "metadata": {},
   "source": [
    "Note, however, if the last line does not return a value, such as if we assigned value to a variable, there is no visible output from the code cell.\n",
    "\n"
   ]
  },
  {
   "cell_type": "code",
   "execution_count": null,
   "metadata": {},
   "outputs": [],
   "source": [
    "# Variable assignment, so no visible output.\n",
    "a = 5 + 6"
   ]
  },
  {
   "cell_type": "code",
   "execution_count": null,
   "metadata": {},
   "outputs": [],
   "source": [
    "# However, now if we ask for a, its value will be displayed\n",
    "a"
   ]
  },
  {
   "cell_type": "markdown",
   "metadata": {},
   "source": [
    "## Colvin's Top 5 Tips:\n",
    "For working in juyter notebooks and Python for data\n",
    "### Tip #1\n",
    "Use the keyboard as much as possible. With a little practice, you can move very quickly around a notebook.\n",
    "<P>\n",
    "Bigger list of keyboard shortcuts than shown here:<BR> \n",
    "    https://gist.github.com/discdiver/9e00618756d120a8c9fa344ac1c375ac"
   ]
  },
  {
   "cell_type": "code",
   "execution_count": null,
   "metadata": {},
   "outputs": [],
   "source": [
    "# To execute a cell, use the keyboard\n",
    "# for Windows: shift-enter (move to next cell) or ctrl-enter (stay on current cell)\n",
    "# Mac may be slightly different\n",
    "print('Using shift-enter will save you lots of time.')"
   ]
  },
  {
   "cell_type": "code",
   "execution_count": null,
   "metadata": {},
   "outputs": [],
   "source": [
    "# Use the command mode keystrokes:\n",
    "# 'Esc' puts the cell into command mode\n",
    "# 'Enter' puts the cell into edit mode\n",
    "# Try this sequence:\n",
    "# - hit the Esc key\n",
    "# - then hit the 'b' key\n",
    "# This inserts a cell below. Very fast and useful."
   ]
  },
  {
   "cell_type": "code",
   "execution_count": null,
   "metadata": {},
   "outputs": [],
   "source": [
    "# Insert above\n",
    "# use the key stroke: Esc a\n",
    "# Inserts a cell above."
   ]
  },
  {
   "cell_type": "code",
   "execution_count": null,
   "metadata": {},
   "outputs": [],
   "source": [
    "# Delete a cell\n",
    "# Esc d d"
   ]
  },
  {
   "cell_type": "code",
   "execution_count": null,
   "metadata": {},
   "outputs": [],
   "source": [
    "# Undo last action\n",
    "# Esc z"
   ]
  },
  {
   "cell_type": "code",
   "execution_count": null,
   "metadata": {},
   "outputs": [],
   "source": [
    "# Change cell type:\n",
    "# Esc m (markdown)\n",
    "# Esc y (code)\n",
    "#\n",
    "# Then hit enter to edit the cell."
   ]
  },
  {
   "cell_type": "markdown",
   "metadata": {},
   "source": [
    "### Tip #2: Using software from others: (importing explained)\n",
    "Installing and loading modules. \n",
    "This is often difficult on a laptop, but easy on SageMaker Studio Lab"
   ]
  },
  {
   "cell_type": "code",
   "execution_count": null,
   "metadata": {},
   "outputs": [],
   "source": [
    "# Checking Python kernel version\n",
    "# import a single function from a module\n",
    "from platform import python_version\n",
    "python_version()"
   ]
  },
  {
   "cell_type": "markdown",
   "metadata": {},
   "source": [
    "#### Functions, Modules & Packages\n",
    "In brief:\n",
    "- packages are a collection of modules\n",
    "- modules are a collection of functions\n",
    "- functions are code someone else wrote to do useful things"
   ]
  },
  {
   "cell_type": "code",
   "execution_count": null,
   "metadata": {},
   "outputs": [],
   "source": [
    "# If a package is already installed, then we can just import it\n",
    "import pandas\n",
    "# No error, so we are OK.\n",
    "# Then we can immedately use it:\n",
    "df = pandas.DataFrame(data = [1,2,3])\n",
    "df.head()"
   ]
  },
  {
   "cell_type": "code",
   "execution_count": null,
   "metadata": {},
   "outputs": [],
   "source": [
    "# On often used items, we can give them a simple, short name\n",
    "import pandas as pd # Give this package a name 'pd'\n",
    "df = pd.DataFrame(data = [1,2,3])\n",
    "df.head()"
   ]
  },
  {
   "cell_type": "code",
   "execution_count": null,
   "metadata": {},
   "outputs": [],
   "source": [
    "# Try to import something that isn't installed\n",
    "import geopandas\n",
    "# Error: not installed, so you can't import it"
   ]
  },
  {
   "cell_type": "code",
   "execution_count": null,
   "metadata": {},
   "outputs": [],
   "source": [
    "# Pip is a 'package mangement system' for Python. Use it to install packages, if needed.\n",
    "%pip install geopandas\n",
    "import geopandas"
   ]
  },
  {
   "cell_type": "code",
   "execution_count": null,
   "metadata": {},
   "outputs": [],
   "source": [
    "# You can also \"un-import\" the module\n",
    "del geopandas\n",
    "# And use pip to remove it\n",
    "%pip uninstall geopandas -y"
   ]
  },
  {
   "cell_type": "code",
   "execution_count": null,
   "metadata": {},
   "outputs": [],
   "source": [
    "# You can also see what packages are loaded\n",
    "%pip list"
   ]
  },
  {
   "cell_type": "markdown",
   "metadata": {},
   "source": [
    "#### Practice using an imported package\n",
    "Let's create a pandas dataframe and use a few of its functions"
   ]
  },
  {
   "cell_type": "code",
   "execution_count": null,
   "metadata": {},
   "outputs": [],
   "source": [
    "# Create a list of lists, then load that data into a pandas DataFrame\n",
    "data_lst = [[1,3,5],[7,9,11],[13,15,17]]  # This is using just the default Python language\n",
    "# Now let's use pandas\n",
    "df = pd.DataFrame(data = data_lst)\n",
    "# Show the dataframe\n",
    "df"
   ]
  },
  {
   "cell_type": "code",
   "execution_count": null,
   "metadata": {},
   "outputs": [],
   "source": [
    "# Get the average value of a column\n",
    "print('Col 0 mean:',df[0].mean())\n",
    "# To see pandas documentation for this function, Google \"pandas series mean\"\n",
    "# Get the total of the first row\n",
    "print('Row 0 sum:',df.loc[0].sum()) # Used pandas 'loc' and 'sum' functions"
   ]
  },
  {
   "cell_type": "markdown",
   "metadata": {},
   "source": [
    "### Tip #3: Write \"good\" code\n",
    "Use descriptive variable names.<BR>\n",
    "Spend lots of time verifying the output from a cell is exactly what you expect.<BR>\n",
    "Write comments so others can understand (and you can remember quickly when you come back to your code."
   ]
  },
  {
   "cell_type": "code",
   "execution_count": null,
   "metadata": {},
   "outputs": [],
   "source": [
    "# Often, it is useful to  know the type of every variable.This often leads finding a bug in your code.\n",
    "# Very bad variable name, as you might assume it is a \"Python list\"\n",
    "strange_lst = pd.DataFrame([1,'2',[{'mobile':'(805) 867-5309'}]])\n",
    "# Also, this is a complex data structure.\n",
    "strange_lst"
   ]
  },
  {
   "cell_type": "code",
   "execution_count": null,
   "metadata": {},
   "outputs": [],
   "source": [
    "# Display the 2nd item in the list.\n",
    "strange_lst[1]  # This works on a Python list, but not a pandas DataFrame"
   ]
  },
  {
   "cell_type": "code",
   "execution_count": null,
   "metadata": {},
   "outputs": [],
   "source": [
    "# I use the type() function a lot.\n",
    "type(strange_lst)"
   ]
  },
  {
   "cell_type": "code",
   "execution_count": null,
   "metadata": {},
   "outputs": [],
   "source": [
    "# Show me the 2nd item in a pandas DataFrame\n",
    "print(strange_lst.iloc[1])  # Use the position in the DataFrame (the 2nd element)\n",
    "# Documentation for iloc: https://pandas.pydata.org/docs/reference/api/pandas.DataFrame.iloc.html\n",
    "#\n",
    "print(strange_lst.loc[1]) # Use the index of the item in the DataFrame (right now, the index is 0,1,2)\n",
    "# Documentation for loc: https://pandas.pydata.org/docs/reference/api/pandas.DataFrame.loc.html\n",
    "# Print the type of the 3rd item in the DataFrame\n",
    "print('Third item in the list:', strange_lst.iloc[2])\n",
    "print('Type:',type(strange_lst.iloc[2]))"
   ]
  },
  {
   "cell_type": "code",
   "execution_count": null,
   "metadata": {},
   "outputs": [],
   "source": [
    "# Dig in on 3rd item\n",
    "complex_item = strange_lst.iloc[2]\n",
    "complex_item"
   ]
  },
  {
   "cell_type": "markdown",
   "metadata": {},
   "source": [
    "### Tip #4: Use the Internet to help you write code\n",
    "- Look for help and examples from the web. You can often find some useful code in less than 1 minute.<BR>\n",
    "- stackoverflow.com is a great resource.<BR>\n",
    "- google search: pandas merge two dataframes side by side<BR>\n",
    "- Leads quickly to: https://stackoverflow.com/questions/23891575/how-to-merge-two-dataframes-side-by-side"
   ]
  },
  {
   "cell_type": "markdown",
   "metadata": {},
   "source": [
    "#### Practice using the Internet for code"
   ]
  },
  {
   "cell_type": "code",
   "execution_count": null,
   "metadata": {},
   "outputs": [],
   "source": [
    "# Question #1: You have a 'legend.jpg' file in your current directory. \n",
    "# Display that file below this cell.\n",
    "# Your code here:"
   ]
  },
  {
   "cell_type": "code",
   "execution_count": null,
   "metadata": {},
   "outputs": [],
   "source": [
    "# Question #2: Display a scatter plot of the following points using the matplotlib package\n",
    "x = [1,3,5,7,9]\n",
    "y = [2.2,7.1,1.1,7.5,10.1]\n",
    "# Your code here"
   ]
  },
  {
   "cell_type": "markdown",
   "metadata": {},
   "source": [
    "### Tip #5\n",
    "Get comfortable with data structures:\n",
    "- udemy.com $13 course: https://www.udemy.com/course/python-and-jupyter-notebooks-for-beginners/\n",
    "- Python native: lists, dicts, tuples.\n",
    "- Get good at looping through any data structure: lists, dicts, DataFrames, arrays, etc.\n",
    "- If working with AWS in Python, you need to be a master of dictionaries and JSON (use the json library). AWS responsds with JSON.\n",
    "- Learn a lot about pandas: creating, editing, merging, apply(), filtering\n",
    "- The NumPy module: Sometimes NumPy enhances or improve pandas.\n",
    "- Simple visualizaiton with matplotlib. Useful for quick and dirty visual analysis.\n",
    "- If doing machine learning, a great place to start is scikit-learn. It will teach the fundamentals, then other ML (including AWS SageMaker and other Cloud providers) algorithms will be easy."
   ]
  },
  {
   "cell_type": "code",
   "execution_count": null,
   "metadata": {},
   "outputs": [],
   "source": [
    "# The range() function creates a range of numbers, often very useful for loops\n",
    "x = range(5)\n",
    "print('The x variable is of type:',type(x))\n",
    "# Let's use x in a loop\n",
    "for num in x:\n",
    "    print(num)"
   ]
  },
  {
   "cell_type": "code",
   "execution_count": null,
   "metadata": {},
   "outputs": [],
   "source": [
    "print(\"\\nLet's try an embedded loop using 2 ranges.\\n\")\n",
    "# This is an embedded for loop:\n",
    "for i in range(5):\n",
    "    # For every i = 0,1,2,...4, do this    \n",
    "    for j in range(2):\n",
    "        # Print current i & 0, then i & 1\n",
    "        print('i=',i,'j=',j)"
   ]
  },
  {
   "cell_type": "markdown",
   "metadata": {},
   "source": [
    "#### Extreme datatypes"
   ]
  },
  {
   "cell_type": "code",
   "execution_count": null,
   "metadata": {},
   "outputs": [],
   "source": [
    "# Let's investigate datatypes\n",
    "# Create a Python list, but make each item a different type\n",
    "lst = [1,2.0,'Three',{'Four':4},('Five','Six',7)] # int, float, string, dict, tuple\n",
    "# Display the list:\n",
    "lst"
   ]
  },
  {
   "cell_type": "code",
   "execution_count": null,
   "metadata": {},
   "outputs": [],
   "source": [
    "# Let's append the strange_lst (actually a pandas dataframe) the real Python list\n",
    "lst.append(strange_lst)\n",
    "# Now look at the value and type of each item\n",
    "for item in lst: # This is a real Python list, but it has a variety of datatypes in its elements\n",
    "    print('Print the item:\\n',item,', Type of item:',type(item))"
   ]
  },
  {
   "cell_type": "code",
   "execution_count": null,
   "metadata": {},
   "outputs": [],
   "source": [
    "# Question #3: Generate 10 random integers between 1 and 10 and store them in a pandas dataframe\n",
    "# Your code here"
   ]
  },
  {
   "cell_type": "code",
   "execution_count": null,
   "metadata": {},
   "outputs": [],
   "source": [
    "# Question #4: Transpose your dataframe\n",
    "# Your code here"
   ]
  },
  {
   "cell_type": "markdown",
   "metadata": {},
   "source": [
    "### One last thing: In jupyter notebooks, order of cell execution matters.."
   ]
  },
  {
   "cell_type": "code",
   "execution_count": null,
   "metadata": {},
   "outputs": [],
   "source": [
    "# Restart the kernel and clear all outputs: Esc 0 0 (this is zero zero)\n",
    "# This is a fresh beginning for the notebook.\n",
    "# This variable will be gone until you rerun the cell that defines it.\n",
    "lst"
   ]
  },
  {
   "cell_type": "code",
   "execution_count": null,
   "metadata": {},
   "outputs": [],
   "source": []
  }
 ],
 "metadata": {
  "instance_type": "ml.t3.medium",
  "kernelspec": {
   "display_name": "Python 3 (Data Science)",
   "language": "python",
   "name": "python3__SAGEMAKER_INTERNAL__arn:aws:sagemaker:us-west-2:236514542706:image/datascience-1.0"
  },
  "language_info": {
   "codemirror_mode": {
    "name": "ipython",
    "version": 3
   },
   "file_extension": ".py",
   "mimetype": "text/x-python",
   "name": "python",
   "nbconvert_exporter": "python",
   "pygments_lexer": "ipython3",
   "version": "3.7.10"
  }
 },
 "nbformat": 4,
 "nbformat_minor": 4
}
