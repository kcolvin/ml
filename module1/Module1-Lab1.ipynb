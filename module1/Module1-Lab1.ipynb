{
 "cells": [
  {
   "cell_type": "markdown",
   "metadata": {},
   "source": [
    "## Lab 1: Practice the concepts we covered in the learning."
   ]
  },
  {
   "cell_type": "markdown",
   "metadata": {},
   "source": [
    "### 1: Create a dataset with these parameters:\n",
    "- 5 rows\n",
    "- 5 columns\n",
    "- each number is a random integer between 1 and 10\n",
    "- store the dataset in a single list named 'raw_data'\n",
    "\n",
    "Hints:\n",
    "- There are several ways to do this. Any is OK if you meet the requirements above.\n",
    "- One possible data structure to use is a list of lists.\n",
    "- To generate a random integer: https://www.w3schools.com/python/ref_random_randint.asp\n",
    "- This might be a good time to use 2 'for loops'"
   ]
  },
  {
   "cell_type": "code",
   "execution_count": null,
   "metadata": {},
   "outputs": [],
   "source": [
    "# Your code here"
   ]
  },
  {
   "cell_type": "markdown",
   "metadata": {},
   "source": [
    "### 2: Convert your dataset to a pandas DataFrame\n",
    "- store the new dataset in a variable called 'data_df'\n",
    "- The size of the dataframe should also be 5 rows by 5 columns\n",
    "- Don't change the values, use the same values created above\n",
    "\n",
    "Hints:\n",
    "- The method depends on the type of your existing dataset. \n",
    "- If needed, search for 'create pandas dataframe from <your existing data type.'\n",
    "- I used a 'list of lists', so I searched for 'create pandas dataframe from a list of lists'"
   ]
  },
  {
   "cell_type": "code",
   "execution_count": null,
   "metadata": {},
   "outputs": [],
   "source": [
    "# Your code here"
   ]
  },
  {
   "cell_type": "markdown",
   "metadata": {},
   "source": [
    "### 3: Using the pandas DataFrame, calcualte and display the the average number of each column\n",
    "- Hint: Read the documentation: https://pandas.pydata.org/docs/reference/api/pandas.DataFrame.mean.html\n",
    "- Verify you've taken the average of the columns and not the rows. You can control this with the 'axis' paramter"
   ]
  },
  {
   "cell_type": "code",
   "execution_count": null,
   "metadata": {},
   "outputs": [],
   "source": [
    "# Your code here"
   ]
  },
  {
   "cell_type": "markdown",
   "metadata": {},
   "source": [
    "### 4: Increase the dimensions to 100 x 100\n",
    "- Create a similar DataFrame as above, but make its dimensions 100 rows by 100 columns. \n",
    "- Still create random integers between 1 and 10.\n",
    "- What is the average from all 10,000 numbers? (take the average of all numbers in the dataframe)\n"
   ]
  },
  {
   "cell_type": "code",
   "execution_count": null,
   "metadata": {},
   "outputs": [],
   "source": [
    "# Your code here"
   ]
  }
 ],
 "metadata": {
  "instance_type": "ml.t3.medium",
  "kernelspec": {
   "display_name": "Python 3 (Data Science)",
   "language": "python",
   "name": "python3__SAGEMAKER_INTERNAL__arn:aws:sagemaker:us-west-2:236514542706:image/datascience-1.0"
  },
  "language_info": {
   "codemirror_mode": {
    "name": "ipython",
    "version": 3
   },
   "file_extension": ".py",
   "mimetype": "text/x-python",
   "name": "python",
   "nbconvert_exporter": "python",
   "pygments_lexer": "ipython3",
   "version": "3.7.10"
  }
 },
 "nbformat": 4,
 "nbformat_minor": 4
}
