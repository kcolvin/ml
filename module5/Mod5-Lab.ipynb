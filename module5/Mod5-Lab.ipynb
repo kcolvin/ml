{
 "cells": [
  {
   "cell_type": "markdown",
   "metadata": {},
   "source": [
    "### Lab 5: Decision Tree Regression\n",
    "\n",
    "OK, your turn. I'll set it up, but then build a decision tree model to predict car selling price. You'll also need to tune max_depth to make sure you're not overfitting your model.\n",
    "\n",
    "Follow the ML workflow:\n",
    "1. Obtain and isolate the data\n",
    "2. Split the data into training & test datasets\n",
    "3. Format the data for the algorithm\n",
    "4. Create an initial model and train it\n",
    "5. Use the test set to measure the model's performance\n",
    "6. Tune the model to minimize error\n",
    "7. Use the model to make new predictions"
   ]
  },
  {
   "cell_type": "code",
   "execution_count": 75,
   "metadata": {},
   "outputs": [],
   "source": [
    "from sklearn import datasets\n",
    "from sklearn import tree\n",
    "from sklearn.model_selection import train_test_split\n",
    "from sklearn.metrics import r2_score,mean_squared_error\n",
    "import pandas as pd\n",
    "import numpy as np\n",
    "from matplotlib import pyplot as plt"
   ]
  },
  {
   "cell_type": "markdown",
   "metadata": {},
   "source": [
    "### 1. Obtain and isolate the data"
   ]
  },
  {
   "cell_type": "code",
   "execution_count": 76,
   "metadata": {},
   "outputs": [
    {
     "data": {
      "text/html": [
       "<div>\n",
       "<style scoped>\n",
       "    .dataframe tbody tr th:only-of-type {\n",
       "        vertical-align: middle;\n",
       "    }\n",
       "\n",
       "    .dataframe tbody tr th {\n",
       "        vertical-align: top;\n",
       "    }\n",
       "\n",
       "    .dataframe thead th {\n",
       "        text-align: right;\n",
       "    }\n",
       "</style>\n",
       "<table border=\"1\" class=\"dataframe\">\n",
       "  <thead>\n",
       "    <tr style=\"text-align: right;\">\n",
       "      <th></th>\n",
       "      <th>name</th>\n",
       "      <th>year</th>\n",
       "      <th>selling_price</th>\n",
       "      <th>km_driven</th>\n",
       "      <th>km/liter</th>\n",
       "      <th>engine</th>\n",
       "      <th>max_power</th>\n",
       "      <th>seats</th>\n",
       "    </tr>\n",
       "  </thead>\n",
       "  <tbody>\n",
       "    <tr>\n",
       "      <th>0</th>\n",
       "      <td>Maruti Swift Dzire VDI</td>\n",
       "      <td>2014</td>\n",
       "      <td>450000</td>\n",
       "      <td>145500</td>\n",
       "      <td>23.40</td>\n",
       "      <td>1248.0</td>\n",
       "      <td>74.00</td>\n",
       "      <td>5.0</td>\n",
       "    </tr>\n",
       "    <tr>\n",
       "      <th>1</th>\n",
       "      <td>Skoda Rapid 1.5 TDI Ambition</td>\n",
       "      <td>2014</td>\n",
       "      <td>370000</td>\n",
       "      <td>120000</td>\n",
       "      <td>21.14</td>\n",
       "      <td>1498.0</td>\n",
       "      <td>103.52</td>\n",
       "      <td>5.0</td>\n",
       "    </tr>\n",
       "    <tr>\n",
       "      <th>2</th>\n",
       "      <td>Honda City 2017-2020 EXi</td>\n",
       "      <td>2006</td>\n",
       "      <td>158000</td>\n",
       "      <td>140000</td>\n",
       "      <td>17.70</td>\n",
       "      <td>1497.0</td>\n",
       "      <td>78.00</td>\n",
       "      <td>5.0</td>\n",
       "    </tr>\n",
       "    <tr>\n",
       "      <th>3</th>\n",
       "      <td>Hyundai i20 Sportz Diesel</td>\n",
       "      <td>2010</td>\n",
       "      <td>225000</td>\n",
       "      <td>127000</td>\n",
       "      <td>23.00</td>\n",
       "      <td>1396.0</td>\n",
       "      <td>90.00</td>\n",
       "      <td>5.0</td>\n",
       "    </tr>\n",
       "  </tbody>\n",
       "</table>\n",
       "</div>"
      ],
      "text/plain": [
       "                           name  year  selling_price  km_driven  km/liter  \\\n",
       "0        Maruti Swift Dzire VDI  2014         450000     145500     23.40   \n",
       "1  Skoda Rapid 1.5 TDI Ambition  2014         370000     120000     21.14   \n",
       "2      Honda City 2017-2020 EXi  2006         158000     140000     17.70   \n",
       "3     Hyundai i20 Sportz Diesel  2010         225000     127000     23.00   \n",
       "\n",
       "   engine  max_power  seats  \n",
       "0  1248.0      74.00    5.0  \n",
       "1  1498.0     103.52    5.0  \n",
       "2  1497.0      78.00    5.0  \n",
       "3  1396.0      90.00    5.0  "
      ]
     },
     "execution_count": 76,
     "metadata": {},
     "output_type": "execute_result"
    }
   ],
   "source": [
    "# Read data from a .csv (comma-separated-values) file in the local directory\n",
    "# Adapted from: \n",
    "# https://www.kaggle.com/datasets/nehalbirla/vehicle-dataset-from-cardekho?select=Car+details+v3.csv\n",
    "df = pd.read_csv('../data/cars.csv')  # Notice the path to the data file\n",
    "df.head(4)"
   ]
  },
  {
   "cell_type": "code",
   "execution_count": 77,
   "metadata": {},
   "outputs": [],
   "source": [
    "# Your code here"
   ]
  },
  {
   "cell_type": "code",
   "execution_count": 78,
   "metadata": {},
   "outputs": [
    {
     "data": {
      "text/plain": [
       "0    450000\n",
       "1    370000\n",
       "Name: selling_price, dtype: int64"
      ]
     },
     "execution_count": 78,
     "metadata": {},
     "output_type": "execute_result"
    }
   ],
   "source": [
    "# kcolvin code:\n",
    "# Pull out selling_price as the target (the value we will predict)\n",
    "y = df['selling_price']\n",
    "y.head(2)"
   ]
  },
  {
   "cell_type": "code",
   "execution_count": 79,
   "metadata": {},
   "outputs": [
    {
     "data": {
      "text/html": [
       "<div>\n",
       "<style scoped>\n",
       "    .dataframe tbody tr th:only-of-type {\n",
       "        vertical-align: middle;\n",
       "    }\n",
       "\n",
       "    .dataframe tbody tr th {\n",
       "        vertical-align: top;\n",
       "    }\n",
       "\n",
       "    .dataframe thead th {\n",
       "        text-align: right;\n",
       "    }\n",
       "</style>\n",
       "<table border=\"1\" class=\"dataframe\">\n",
       "  <thead>\n",
       "    <tr style=\"text-align: right;\">\n",
       "      <th></th>\n",
       "      <th>year</th>\n",
       "      <th>km_driven</th>\n",
       "      <th>km/liter</th>\n",
       "      <th>engine</th>\n",
       "      <th>max_power</th>\n",
       "      <th>seats</th>\n",
       "    </tr>\n",
       "  </thead>\n",
       "  <tbody>\n",
       "    <tr>\n",
       "      <th>0</th>\n",
       "      <td>2014</td>\n",
       "      <td>145500</td>\n",
       "      <td>23.40</td>\n",
       "      <td>1248.0</td>\n",
       "      <td>74.00</td>\n",
       "      <td>5.0</td>\n",
       "    </tr>\n",
       "    <tr>\n",
       "      <th>1</th>\n",
       "      <td>2014</td>\n",
       "      <td>120000</td>\n",
       "      <td>21.14</td>\n",
       "      <td>1498.0</td>\n",
       "      <td>103.52</td>\n",
       "      <td>5.0</td>\n",
       "    </tr>\n",
       "  </tbody>\n",
       "</table>\n",
       "</div>"
      ],
      "text/plain": [
       "   year  km_driven  km/liter  engine  max_power  seats\n",
       "0  2014     145500     23.40  1248.0      74.00    5.0\n",
       "1  2014     120000     21.14  1498.0     103.52    5.0"
      ]
     },
     "execution_count": 79,
     "metadata": {},
     "output_type": "execute_result"
    }
   ],
   "source": [
    "X = df.drop(['name','selling_price'],axis=1)\n",
    "X.head(2)"
   ]
  },
  {
   "cell_type": "markdown",
   "metadata": {},
   "source": [
    "### 2. Split the data into training & test datasets"
   ]
  },
  {
   "cell_type": "code",
   "execution_count": 80,
   "metadata": {},
   "outputs": [],
   "source": [
    "# Your code here"
   ]
  },
  {
   "cell_type": "code",
   "execution_count": 81,
   "metadata": {},
   "outputs": [],
   "source": [
    "# kcolvin code\n",
    "X_train, X_test, y_train, y_test = train_test_split(X, y, test_size = 0.20)"
   ]
  },
  {
   "cell_type": "markdown",
   "metadata": {},
   "source": [
    "### 3. Format the data for the algorithm"
   ]
  },
  {
   "cell_type": "code",
   "execution_count": 82,
   "metadata": {},
   "outputs": [],
   "source": [
    "# your code here"
   ]
  },
  {
   "cell_type": "code",
   "execution_count": 83,
   "metadata": {},
   "outputs": [
    {
     "name": "stdout",
     "output_type": "stream",
     "text": [
      "<class 'pandas.core.frame.DataFrame'>\n",
      "<class 'pandas.core.frame.DataFrame'>\n"
     ]
    }
   ],
   "source": [
    "# kcolvin code\n",
    "# Just check features for dataframes\n",
    "print(type(X_train))\n",
    "print(type(X_test))"
   ]
  },
  {
   "cell_type": "markdown",
   "metadata": {},
   "source": [
    "### 4. Create an initial model and train it"
   ]
  },
  {
   "cell_type": "code",
   "execution_count": 84,
   "metadata": {},
   "outputs": [],
   "source": [
    "# your code here"
   ]
  },
  {
   "cell_type": "code",
   "execution_count": 85,
   "metadata": {},
   "outputs": [
    {
     "data": {
      "text/plain": [
       "DecisionTreeRegressor(ccp_alpha=0.0, criterion='mse', max_depth=None,\n",
       "                      max_features=None, max_leaf_nodes=None,\n",
       "                      min_impurity_decrease=0.0, min_impurity_split=None,\n",
       "                      min_samples_leaf=1, min_samples_split=2,\n",
       "                      min_weight_fraction_leaf=0.0, presort='deprecated',\n",
       "                      random_state=42, splitter='best')"
      ]
     },
     "execution_count": 85,
     "metadata": {},
     "output_type": "execute_result"
    }
   ],
   "source": [
    "# Create the model and train it\n",
    "regressor = tree.DecisionTreeRegressor(max_depth = None, random_state = 42) # Full depth\n",
    "# Train the model\n",
    "fit_tree = regressor.fit(X_train, y_train)\n",
    "fit_tree # Show hyperparameters"
   ]
  },
  {
   "cell_type": "markdown",
   "metadata": {},
   "source": [
    "### 5. Use the test set to measure the model's performance"
   ]
  },
  {
   "cell_type": "code",
   "execution_count": 86,
   "metadata": {},
   "outputs": [],
   "source": [
    "# Your code here"
   ]
  },
  {
   "cell_type": "code",
   "execution_count": 87,
   "metadata": {},
   "outputs": [],
   "source": [
    "# kcolvin code\n",
    "y_pred = regressor.predict(X_test)"
   ]
  },
  {
   "cell_type": "code",
   "execution_count": 88,
   "metadata": {},
   "outputs": [],
   "source": [
    "# Define a function we can call later\n",
    "def tree_eval(test_data,predicted_data,max_depth):\n",
    "    r2 = round(r2_score(test_data, predicted_data),2)\n",
    "    mse = round(mean_squared_error(y_test, y_pred),2)\n",
    "    #\n",
    "    print('max_depth =', max_depth)\n",
    "    print(\"Coefficient of determination: %.2f\" % r2_score(y_test, y_pred))\n",
    "    print(\"MSE: \", mse)\n",
    "    print(\"RMSE: \", round(mse**(1/2.0),3)) # Root Mean Squared Error"
   ]
  },
  {
   "cell_type": "code",
   "execution_count": 89,
   "metadata": {},
   "outputs": [
    {
     "name": "stdout",
     "output_type": "stream",
     "text": [
      "max_depth = None\n",
      "Coefficient of determination: 0.96\n",
      "MSE:  25190631678.31\n",
      "RMSE:  158715.568\n"
     ]
    }
   ],
   "source": [
    "# Report the performance metrics\n",
    "tree_eval(y_test,y_pred, None)"
   ]
  },
  {
   "cell_type": "markdown",
   "metadata": {},
   "source": [
    "### 6. Tune the model to minimize error"
   ]
  },
  {
   "cell_type": "code",
   "execution_count": 90,
   "metadata": {},
   "outputs": [],
   "source": [
    "# your code here"
   ]
  },
  {
   "cell_type": "code",
   "execution_count": 91,
   "metadata": {},
   "outputs": [
    {
     "data": {
      "image/png": "[encoded data removed]",
      "text/plain": [
       "<Figure size 600x300 with 1 Axes>"
      ]
     },
     "metadata": {},
     "output_type": "display_data"
    }
   ],
   "source": [
    "# kcolvin code\n",
    "# Max dimensions is the same as the number of features\n",
    "max_depths = np.linspace(1, 6, 6, endpoint=True)\n",
    "mse_lst = []\n",
    "for md in max_depths:\n",
    "    regressor = tree.DecisionTreeRegressor(max_depth=md, random_state = 42)\n",
    "    regressor.fit(X_train, y_train)\n",
    "    y_pred = regressor.predict(X_test)\n",
    "    mse = round(mean_squared_error(y_test, y_pred),2)\n",
    "    #print(mse)\n",
    "    mse_lst.append(mse)\n",
    "# Plot the max_depth vs. mse\n",
    "plt.figure(figsize=(4,2), dpi=150)\n",
    "plt.plot(max_depths,mse_lst)\n",
    "plt.xlabel(\"max_depth\")\n",
    "plt.ylabel(\"Mean Square Error\")\n",
    "plt.show()"
   ]
  },
  {
   "cell_type": "code",
   "execution_count": 92,
   "metadata": {},
   "outputs": [
    {
     "name": "stdout",
     "output_type": "stream",
     "text": [
      "max_depth = None\n",
      "Coefficient of determination: 0.96\n",
      "MSE:  25190631678.31\n",
      "RMSE:  158715.568\n"
     ]
    }
   ],
   "source": [
    "# Looks like full depth is the best for our data\n",
    "regressor = tree.DecisionTreeRegressor(max_depth = None, random_state = 42)\n",
    "regressor.fit(X_train, y_train)\n",
    "y_pred = regressor.predict(X_test)\n",
    "tree_eval(y_test,y_pred, None)"
   ]
  },
  {
   "cell_type": "code",
   "execution_count": 93,
   "metadata": {},
   "outputs": [],
   "source": [
    "# Print the full tree, if you want to see it\n",
    "text_representation = tree.export_text(regressor,feature_names = list(X.columns),show_weights = True)\n",
    "#print(text_representation)"
   ]
  },
  {
   "cell_type": "code",
   "execution_count": 94,
   "metadata": {},
   "outputs": [],
   "source": [
    "# This doesn't work for some reason with max_depth = None, but it does work if you create \n",
    "#     the regressor with max_value =6\n",
    "# Visualize the tree\n",
    "#plt.figure(figsize=(6,6), dpi=150)\n",
    "#tree.plot_tree(regressor, feature_names=X.columns,filled=True)\n",
    "#plt.show()"
   ]
  },
  {
   "cell_type": "markdown",
   "metadata": {},
   "source": [
    "### 7. Use the model to make new predictions"
   ]
  },
  {
   "cell_type": "code",
   "execution_count": 95,
   "metadata": {},
   "outputs": [],
   "source": [
    "# your code here"
   ]
  },
  {
   "cell_type": "code",
   "execution_count": 96,
   "metadata": {},
   "outputs": [
    {
     "name": "stdout",
     "output_type": "stream",
     "text": [
      "Car features: [2013.0, 192500.0, 22.32, 1582.0, 126.3, 5.0]\n",
      "Predicted Value in some currency: 522000 \n",
      "\n",
      "Car features: [2015.0, 9000.0, 9.4, 2179.0, 120.0, 7.0]\n",
      "Predicted Value in some currency: 520000 \n",
      "\n",
      "Car features: [2017.0, 99000.0, 13.6, 1999.0, 177.0, 4.0]\n",
      "Predicted Value in some currency: 3000000 \n",
      "\n",
      "Car features: [2019.0, 256000.0, 24.0, 1120.0, 70.0, 5.0]\n",
      "Predicted Value in some currency: 710000 \n",
      "\n",
      "Car features: [2021.0, 5000.0, 36.1, 796.0, 37.0, 2.0]\n",
      "Predicted Value in some currency: 66000 \n",
      "\n"
     ]
    }
   ],
   "source": [
    "# kcolvin code\n",
    "# Predict 'new' different cars selling price\n",
    "#\n",
    "# Recall the Features: \n",
    "#   ['year', 'km_driven', 'km/liter', 'engine', 'max_power', 'seats']\n",
    "#\n",
    "c1 = [2013.0, 192500.0, 22.32, 1582.0, 126.3, 5.0]\n",
    "c2 = [2015.0, 9000.0, 9.4, 2179.0, 120.0, 7.0]\n",
    "c3 = [2017.0, 99000.0, 13.6, 1999.0, 177.0, 4.0]\n",
    "c4 = [2019.0, 256000.0, 24.0, 1120.0, 70.0, 5.0]\n",
    "c5 = [2021.0, 5000.0, 36.1, 796.0, 37.0, 2.0]\n",
    "#\n",
    "c_lst = [c1, c2, c3, c4, c5]\n",
    "#\n",
    "for car in c_lst:\n",
    "    print('Car features:', car)\n",
    "    df = pd.DataFrame(data=car)\n",
    "    pv = int(regressor.predict(df.T).item())\n",
    "    print('Predicted Value in some currency:', pv , '\\n')"
   ]
  },
  {
   "cell_type": "code",
   "execution_count": null,
   "metadata": {},
   "outputs": [],
   "source": []
  }
 ],
 "metadata": {
  "instance_type": "ml.t3.medium",
  "kernelspec": {
   "display_name": "Python 3 (Data Science)",
   "language": "python",
   "name": "python3__SAGEMAKER_INTERNAL__arn:aws:sagemaker:us-west-2:236514542706:image/datascience-1.0"
  },
  "language_info": {
   "codemirror_mode": {
    "name": "ipython",
    "version": 3
   },
   "file_extension": ".py",
   "mimetype": "text/x-python",
   "name": "python",
   "nbconvert_exporter": "python",
   "pygments_lexer": "ipython3",
   "version": "3.7.10"
  }
 },
 "nbformat": 4,
 "nbformat_minor": 4
}
