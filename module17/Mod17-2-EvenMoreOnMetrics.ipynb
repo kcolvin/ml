{
 "cells": [
  {
   "cell_type": "markdown",
   "metadata": {},
   "source": [
    "## Module 17: Learning Notebook: Metrics ROC and AUC\n",
    "\n",
    "The AUC-ROC curve helps us visualize how well our machine learning classifier is performing. It's a better metric than accuracy. We'll discuss why below.\n",
    "\n",
    "Reference: https://www.analyticsvidhya.com/blog/2020/06/auc-roc-curve-machine-learning/"
   ]
  },
  {
   "cell_type": "code",
   "execution_count": 1,
   "metadata": {},
   "outputs": [],
   "source": [
    "from sklearn.linear_model import LogisticRegression\n",
    "from sklearn.ensemble import GradientBoostingClassifier\n",
    "from sklearn.pipeline import Pipeline\n",
    "from sklearn.metrics import f1_score\n",
    "from sklearn.metrics import recall_score\n",
    "from sklearn.metrics import accuracy_score\n",
    "from sklearn.model_selection import train_test_split\n",
    "from sklearn.metrics import confusion_matrix\n",
    "from sklearn.preprocessing import StandardScaler, MinMaxScaler\n",
    "import matplotlib.pyplot as plt\n",
    "import boto3\n",
    "import pandas as pd\n",
    "import numpy as np"
   ]
  },
  {
   "cell_type": "markdown",
   "metadata": {},
   "source": [
    "### 1. Load and Prepare Cancer Data"
   ]
  },
  {
   "cell_type": "code",
   "execution_count": 2,
   "metadata": {},
   "outputs": [],
   "source": [
    "# Load from S3\n",
    "sess = boto3.session.Session()\n",
    "s3 = sess.client('s3') \n",
    "source_bucket = 'machinelearning-read-only'\n",
    "source_key = 'data/cancer-10.csv' \n",
    "response = s3.get_object(Bucket = source_bucket, Key = source_key)\n",
    "df = pd.read_csv(response.get(\"Body\"))\n",
    "# Prepare data\n",
    "X = df.drop(['cancer_detected'], axis = 1)\n",
    "y = df['cancer_detected']\n",
    "X_train, X_test, y_train, y_test = train_test_split(X, y, test_size = 0.20,random_state = 7)"
   ]
  },
  {
   "cell_type": "markdown",
   "metadata": {},
   "source": [
    "### 2. Model using Logistic Regression"
   ]
  },
  {
   "cell_type": "code",
   "execution_count": 3,
   "metadata": {},
   "outputs": [
    {
     "name": "stdout",
     "output_type": "stream",
     "text": [
      "Logistic Regression accuracy: 0.905\n",
      "Confusion Matrix: \n",
      " [[  1  17]\n",
      " [  2 180]]\n"
     ]
    },
    {
     "data": {
      "text/plain": [
       "(1, 17, 2, 180)"
      ]
     },
     "execution_count": 3,
     "metadata": {},
     "output_type": "execute_result"
    }
   ],
   "source": [
    "# Logitic Regression\n",
    "scaler = StandardScaler() # Standardize the data\n",
    "lr = LogisticRegression()\n",
    "steps = [('Scaler', scaler), ('LogReg', lr)]\n",
    "lr_pipe = Pipeline(steps)\n",
    "lr_pipe.fit(X_train, y_train)\n",
    "lr_y_pred = lr_pipe.predict(X_test)\n",
    "lr_acc = accuracy_score(y_test, lr_y_pred)\n",
    "print('Logistic Regression accuracy:', round(lr_acc,4))\n",
    "print('Confusion Matrix: \\n', confusion_matrix(y_test, lr_y_pred,labels = [1,0]))\n",
    "# Store each value in the matrix. We'll use them below\n",
    "lr_tp, lr_fp, lr_fn, lr_tn = confusion_matrix(y_test, lr_y_pred,labels = [1,0]).ravel()\n",
    "# Print them out and disucss\n",
    "lr_tp, lr_fp, lr_fn, lr_tn"
   ]
  },
  {
   "cell_type": "markdown",
   "metadata": {},
   "source": [
    "### 3. More \"intermediate\" performance definitions: FPR and TRP\n",
    "Below, we will plot FPR vs TPR. Let'ss see how those are calculated."
   ]
  },
  {
   "cell_type": "code",
   "execution_count": 4,
   "metadata": {},
   "outputs": [
    {
     "data": {
      "text/plain": [
       "0.086"
      ]
     },
     "execution_count": 4,
     "metadata": {},
     "output_type": "execute_result"
    }
   ],
   "source": [
    "# False Positive Rate\n",
    "# FPR tells us what proportion of the negative class got incorrectly classified by the classifier.\n",
    "fpr = lr_fp / (lr_tn + lr_fp)\n",
    "round(fpr,3)"
   ]
  },
  {
   "cell_type": "code",
   "execution_count": 5,
   "metadata": {},
   "outputs": [
    {
     "data": {
      "text/plain": [
       "0.333"
      ]
     },
     "execution_count": 5,
     "metadata": {},
     "output_type": "execute_result"
    }
   ],
   "source": [
    "# Calculate True Positive Rate, tpr\n",
    "# We've already seen this as \"recall\", also known as Sensitivity. I'm not sure why there are so many names for it.\n",
    "# TPR tells us what proportion of the positive class got correctly classified.\n",
    "tpr = lr_tp / (lr_tp + lr_fn)\n",
    "round(tpr,3)"
   ]
  },
  {
   "cell_type": "markdown",
   "metadata": {},
   "source": [
    "### 4. Predict probability of being False (0) or True (1) instead of merely predicting integers\n",
    "Almost always, classification algorithms allow you to predict the probability of being in a class. For example, the logistic regression algorithm has the function:<P>\n",
    "    \n",
    "**predict_prob()** - this returns the probability of a rows being both 0 and 1"
   ]
  },
  {
   "cell_type": "code",
   "execution_count": 6,
   "metadata": {},
   "outputs": [
    {
     "name": "stdout",
     "output_type": "stream",
     "text": [
      "\n",
      "Original Logistic Regression Model Predction for rows 15 - 20: [0 1 0 0 0]\n",
      "Probability of being in False (0) or True (1) Class for rows 15-20:\n",
      " [[0.66007584 0.33992416]\n",
      " [0.3292678  0.6707322 ]\n",
      " [0.79674984 0.20325016]\n",
      " [0.93003456 0.06996544]\n",
      " [0.95676617 0.04323383]]\n"
     ]
    }
   ],
   "source": [
    "# predict probability of being in each class\n",
    "# Original Prediction of Integer for rows 15:20\n",
    "print('\\nOriginal Logistic Regression Model Predction for rows 15 - 20:', lr_y_pred[15:20])\n",
    "#\n",
    "# Now generate probabilities of being 0 or 1\n",
    "lr_y_pred_prob = lr_pipe.predict_proba(X_test)\n",
    "#\n",
    "# Show rows 15 - 20 from the predicted data\n",
    "# P(0) and P(1)\n",
    "print('Probability of being in False (0) or True (1) Class for rows 15-20:\\n', lr_y_pred_prob[15:20])\n",
    "#\n",
    "# Notice our current \"threshold\" is 0.5"
   ]
  },
  {
   "cell_type": "markdown",
   "metadata": {},
   "source": [
    "### 5. ROC - Receiver Operator Characteristic Curve\n",
    "The ROC curve is an evaluation metric for binary classification problems. It is a probability curve that plots the TPR against FPR at **various threshold** values.\n",
    "\n",
    "Ideally, we want TPR to be maximized and FPR to be minimized. Think of these as points along a line in a graph.\n",
    "\n",
    "Area Under the Curve (AUC)  is the measure of the ability of a classifier to distinguish between classes and is used as a summary of the ROC curve.\n",
    "\n",
    "When AUC = 1, then the classifier is able to perfectly distinguish between all the Positive and the Negative class points correctly. This is too good to be true.<BR>\n",
    "<img src=\"images/auc1.png\" width=150 height=150 /><BR>\n",
    "    \n",
    "When 0.5 < AUC < 1, there is a high chance that the classifier will be able to distinguish the positive class values from the negative class values. This is desirable.<BR>\n",
    "<img src=\"images/auc2.png\" width=150 height=150 /><BR>\n",
    "\n",
    "When AUC=0.5 or less, then the classifier is not able to distinguish between Positive and Negative class points. Kind of like flipping a coin.<BR>\n",
    "\n",
    "<img src=\"images/auc3.png\" width=150 height=150 /><BR>\n",
    "\n",
    "So, the higher the AUC value for a classifier, the better its ability to distinguish between positive and negative classes. High AUC is good. "
   ]
  },
  {
   "cell_type": "markdown",
   "metadata": {},
   "source": [
    "### 6. Model a competing algorithm\n",
    "So we can compare, let's use a different algorithm: Gradient Boosting Classifier"
   ]
  },
  {
   "cell_type": "code",
   "execution_count": 7,
   "metadata": {},
   "outputs": [
    {
     "name": "stdout",
     "output_type": "stream",
     "text": [
      "Gradient Boosting Classifier accuracy: 0.915\n",
      "Confusion Matrix: \n",
      " [[  5  13]\n",
      " [  4 178]]\n"
     ]
    }
   ],
   "source": [
    "# Model usign GBC\n",
    "scaler = StandardScaler() # Standardize the data\n",
    "gbc = GradientBoostingClassifier()\n",
    "steps = [('Scaler', scaler), ('GBC', gbc)]\n",
    "gbc_pipe = Pipeline(steps)\n",
    "gbc_pipe.fit(X_train, y_train)\n",
    "gbc_y_pred = gbc_pipe.predict(X_test)\n",
    "gbc_acc = accuracy_score(y_test, gbc_y_pred)\n",
    "print('Gradient Boosting Classifier accuracy:', round(gbc_acc,4))\n",
    "print('Confusion Matrix: \\n', confusion_matrix(y_test, gbc_y_pred,labels = [1,0]))\n",
    "# Store each value in the matrix\n",
    "# gbc_tp, gbc_fp, gbc_fn, gbc_tn = confusion_matrix(y_test, gbc_y_pred,labels = [1,0]).ravel()\n",
    "# # Calculate TPR and FPR\n",
    "# gbc_tpr = gbc_tp / (gbc_tp + gbc_fn)\n",
    "# gbc_fpr = gbc_fp / (gbc_tn + gbc_fp)\n",
    "# predict probability of being in each class\n",
    "gbc_y_pred_prob = gbc_pipe.predict_proba(X_test)"
   ]
  },
  {
   "cell_type": "markdown",
   "metadata": {},
   "source": [
    "### 7. What is the Area Under the Curve (AUC) score for the existing algorithms?"
   ]
  },
  {
   "cell_type": "code",
   "execution_count": 8,
   "metadata": {},
   "outputs": [
    {
     "name": "stdout",
     "output_type": "stream",
     "text": [
      "Current Logistic Regression AUC Score: 0.705\n",
      "Current GBC AUC Score: 0.909\n"
     ]
    }
   ],
   "source": [
    "# Before we generate curves, let's just compute AUC\n",
    "from sklearn.metrics import roc_auc_score\n",
    "\n",
    "# auc scores\n",
    "lr_auc_score = roc_auc_score(y_test, lr_y_pred_prob[:,1])\n",
    "gbc_auc_score = roc_auc_score(y_test, gbc_y_pred_prob[:,1])\n",
    "\n",
    "print('Current Logistic Regression AUC Score:', round(lr_auc_score,3))\n",
    "print('Current GBC AUC Score:', round(gbc_auc_score,3))"
   ]
  },
  {
   "cell_type": "markdown",
   "metadata": {},
   "source": [
    "### 8. Generate ROC Curves to Compare Algorithms"
   ]
  },
  {
   "cell_type": "code",
   "execution_count": 9,
   "metadata": {},
   "outputs": [
    {
     "data": {
      "image/png": "[encoded data removed]",
      "text/plain": [
       "<Figure size 800x550 with 1 Axes>"
      ]
     },
     "metadata": {},
     "output_type": "display_data"
    }
   ],
   "source": [
    "# This is the code to generate the datapoints for a curve\n",
    "#  https://scikit-learn.org/stable/modules/generated/sklearn.metrics.roc_curve.html\n",
    "from sklearn.metrics import roc_curve\n",
    "#\n",
    "# Generate points for ROC curves for models\n",
    "lr_fpr, lr_tpr, lr_thresh = roc_curve(y_test, lr_y_pred_prob[:,1], pos_label=1) # y_test & P(1)\n",
    "gbc_fpr, gbc_tpr, gbc_thresh = roc_curve(y_test, gbc_y_pred_prob[:,1], pos_label=1)\n",
    "#\n",
    "# roc curve for tpr = fpr (Straight line, like flipping a coin)\n",
    "random_probs = [0 for i in range(len(y_test))]\n",
    "p_fpr, p_tpr, _ = roc_curve(y_test, random_probs, pos_label=1)\n",
    "#\n",
    "# Code to plot those points\n",
    "# matplotlib\n",
    "import matplotlib.pyplot as plt\n",
    "plt.style.use('seaborn')\n",
    "# plot roc curves\n",
    "plt.plot(lr_fpr, lr_tpr, linestyle='--',color='orange', label='Logistic Regression')\n",
    "plt.plot(gbc_fpr, gbc_tpr, linestyle='--',color='green', label='Gradient Boosting Classifier')\n",
    "plt.plot(p_fpr, p_tpr, linestyle='--', color='blue', label='TPR = FPR or Random Flip of Coin')\n",
    "# title\n",
    "plt.title('ROC curve')\n",
    "# x label\n",
    "plt.xlabel('False Positive Rate')\n",
    "# y label\n",
    "plt.ylabel('True Positive rate')\n",
    "plt.legend(loc='best')\n",
    "plt.show()"
   ]
  },
  {
   "cell_type": "markdown",
   "metadata": {},
   "source": [
    "### 9. What if we use a different threshold than 0.5?\n",
    "\n",
    "In this case, we are using a dataset with a big imbalance many more False than True"
   ]
  },
  {
   "cell_type": "code",
   "execution_count": 10,
   "metadata": {},
   "outputs": [
    {
     "data": {
      "text/plain": [
       "0    899\n",
       "1    101\n",
       "Name: cancer_detected, dtype: int64"
      ]
     },
     "execution_count": 10,
     "metadata": {},
     "output_type": "execute_result"
    }
   ],
   "source": [
    "# Whole dataset\n",
    "df['cancer_detected'].value_counts()"
   ]
  },
  {
   "cell_type": "code",
   "execution_count": 11,
   "metadata": {},
   "outputs": [
    {
     "data": {
      "text/plain": [
       "0    182\n",
       "1     18\n",
       "Name: cancer_detected, dtype: int64"
      ]
     },
     "execution_count": 11,
     "metadata": {},
     "output_type": "execute_result"
    }
   ],
   "source": [
    "# Test dataset\n",
    "y_test.value_counts()"
   ]
  },
  {
   "cell_type": "markdown",
   "metadata": {},
   "source": [
    "For those classification problems that have a severe class imbalance, the default threshold can result in poor performance. As such, a simple and straightforward approach to improving the performance of a classifier that predicts probabilities on an imbalanced classification problem is to tune the threshold used to map probabilities to class labels."
   ]
  },
  {
   "cell_type": "code",
   "execution_count": 12,
   "metadata": {},
   "outputs": [
    {
     "data": {
      "text/plain": [
       "array([[  1,  17],\n",
       "       [  2, 180]])"
      ]
     },
     "execution_count": 12,
     "metadata": {},
     "output_type": "execute_result"
    }
   ],
   "source": [
    "# Recall our confusion matrix using a threshold of 0.5, the default for Logistic Regression\n",
    "confusion_matrix(y_test, lr_y_pred,labels = [1,0])"
   ]
  },
  {
   "cell_type": "code",
   "execution_count": 13,
   "metadata": {},
   "outputs": [
    {
     "name": "stdout",
     "output_type": "stream",
     "text": [
      "Confusion Matrix for threshold = : 0.05  \n",
      " [[ 16   2]\n",
      " [ 33 149]] \n",
      "\n",
      "Confusion Matrix for threshold = : 0.1  \n",
      " [[ 15   3]\n",
      " [ 20 162]] \n",
      "\n",
      "Confusion Matrix for threshold = : 0.15  \n",
      " [[ 13   5]\n",
      " [ 15 167]] \n",
      "\n",
      "Confusion Matrix for threshold = : 0.2  \n",
      " [[ 12   6]\n",
      " [ 11 171]] \n",
      "\n",
      "Confusion Matrix for threshold = : 0.25  \n",
      " [[  9   9]\n",
      " [  8 174]] \n",
      "\n",
      "Confusion Matrix for threshold = : 0.3  \n",
      " [[  7  11]\n",
      " [  8 174]] \n",
      "\n",
      "Confusion Matrix for threshold = : 0.35  \n",
      " [[  6  12]\n",
      " [  7 175]] \n",
      "\n",
      "Confusion Matrix for threshold = : 0.4  \n",
      " [[  6  12]\n",
      " [  5 177]] \n",
      "\n",
      "Confusion Matrix for threshold = : 0.45  \n",
      " [[  6  12]\n",
      " [  5 177]] \n",
      "\n",
      "Confusion Matrix for threshold = : 0.5  \n",
      " [[  5  13]\n",
      " [  4 178]] \n",
      "\n",
      "Confusion Matrix for threshold = : 0.55  \n",
      " [[  5  13]\n",
      " [  4 178]] \n",
      "\n",
      "Confusion Matrix for threshold = : 0.6  \n",
      " [[  4  14]\n",
      " [  4 178]] \n",
      "\n",
      "Confusion Matrix for threshold = : 0.65  \n",
      " [[  4  14]\n",
      " [  4 178]] \n",
      "\n",
      "Confusion Matrix for threshold = : 0.7  \n",
      " [[  3  15]\n",
      " [  3 179]] \n",
      "\n",
      "Confusion Matrix for threshold = : 0.75  \n",
      " [[  2  16]\n",
      " [  1 181]] \n",
      "\n",
      "Confusion Matrix for threshold = : 0.8  \n",
      " [[  2  16]\n",
      " [  0 182]] \n",
      "\n",
      "Confusion Matrix for threshold = : 0.85  \n",
      " [[  2  16]\n",
      " [  0 182]] \n",
      "\n",
      "Confusion Matrix for threshold = : 0.9  \n",
      " [[  1  17]\n",
      " [  0 182]] \n",
      "\n"
     ]
    }
   ],
   "source": [
    "# Let's iterate over the theshold values of .1 to .95 and evalute how the predictions to for each threshold\n",
    "for i in np.arange(.05, .95, 0.05):\n",
    "    thresh = i # Set the threshold\n",
    "    temp_pred = (gbc_pipe.predict_proba(X_test)[:,1] >= thresh).astype(int) # This accepts as True if over threshold\n",
    "    # Now print the confusion matrix\n",
    "    # Remember, for cancer detection, we really want to avoid not identifying cancer\n",
    "    print('Confusion Matrix for threshold = :', round(thresh,2),' \\n', confusion_matrix(y_test, temp_pred,labels = [1,0]),'\\n')"
   ]
  },
  {
   "cell_type": "markdown",
   "metadata": {},
   "source": [
    "There is much more to discuss here, but we'll stop."
   ]
  },
  {
   "cell_type": "code",
   "execution_count": null,
   "metadata": {},
   "outputs": [],
   "source": []
  }
 ],
 "metadata": {
  "instance_type": "ml.t3.medium",
  "kernelspec": {
   "display_name": "Python 3 (Data Science)",
   "language": "python",
   "name": "python3__SAGEMAKER_INTERNAL__arn:aws:sagemaker:us-west-2:236514542706:image/datascience-1.0"
  },
  "language_info": {
   "codemirror_mode": {
    "name": "ipython",
    "version": 3
   },
   "file_extension": ".py",
   "mimetype": "text/x-python",
   "name": "python",
   "nbconvert_exporter": "python",
   "pygments_lexer": "ipython3",
   "version": "3.7.10"
  }
 },
 "nbformat": 4,
 "nbformat_minor": 4
}
