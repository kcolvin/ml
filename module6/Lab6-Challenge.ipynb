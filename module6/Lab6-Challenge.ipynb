{
 "cells": [
  {
   "cell_type": "markdown",
   "metadata": {},
   "source": [
    "### Challenge Lab: Predicting student grades without grading!\n",
    "\n",
    "In most school situations, the teacher makes assignments and grades them to determine a student's grade in the course.  Typically, lots of time and effort is spent earning points to determine a grade.\n",
    "\n",
    "What if a teacher could accurately assign grades without all the effort that go into students earning points?\n",
    "\n",
    "This dataset has collected many student attributes and a final grade in a course. There is no \"points earned\" data that was used to determine the grade, just attributes about the student.\n",
    "\n",
    "Your assignment is to create a ML model to predict grades based on the student's attributes. \n",
    "\n",
    "You are free to attack this problem any way you want. Of course, you are encouraged to follow the ML workflow and use the algorithms we've discussed so far in this course.\n",
    "\n",
    "The dataset is simplfied for you, but based on this raw data: <P>\n",
    "\n",
    "https://archive.ics.uci.edu/ml/datasets/Student+Performance"
   ]
  },
  {
   "cell_type": "code",
   "execution_count": null,
   "metadata": {},
   "outputs": [],
   "source": [
    "import pandas as pd"
   ]
  },
  {
   "cell_type": "markdown",
   "metadata": {},
   "source": [
    "### 1. Load the data"
   ]
  },
  {
   "cell_type": "code",
   "execution_count": null,
   "metadata": {},
   "outputs": [],
   "source": [
    "# This is an excel file we are pulling data from, use read_excel to get it to a dataframe\n",
    "df = pd.read_excel('../data/students.xlsx')  # Notice the path to the data file\n",
    "df.head()"
   ]
  },
  {
   "cell_type": "code",
   "execution_count": null,
   "metadata": {},
   "outputs": [],
   "source": [
    "df.describe()"
   ]
  },
  {
   "cell_type": "code",
   "execution_count": null,
   "metadata": {},
   "outputs": [],
   "source": [
    "# your code here"
   ]
  },
  {
   "cell_type": "code",
   "execution_count": null,
   "metadata": {},
   "outputs": [],
   "source": []
  }
 ],
 "metadata": {
  "instance_type": "ml.t3.medium",
  "kernelspec": {
   "display_name": "Python 3 (Data Science)",
   "language": "python",
   "name": "python3__SAGEMAKER_INTERNAL__arn:aws:sagemaker:us-west-2:236514542706:image/datascience-1.0"
  },
  "language_info": {
   "codemirror_mode": {
    "name": "ipython",
    "version": 3
   },
   "file_extension": ".py",
   "mimetype": "text/x-python",
   "name": "python",
   "nbconvert_exporter": "python",
   "pygments_lexer": "ipython3",
   "version": "3.7.10"
  }
 },
 "nbformat": 4,
 "nbformat_minor": 4
}
