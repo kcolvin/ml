{
 "cells": [
  {
   "cell_type": "markdown",
   "metadata": {},
   "source": [
    "### Module 3 Learning #2: Machine Learning using Linear Regression\n",
    "In this activity, we are going to again fit a linear model to a set of data, but we are going to do it as a machine learning method.  This is to show you that prediction using machine learning is very similar to statistical prediction using linear regression.<P>\n",
    "    \n",
    "We will call this a machine learning method to fit a linear model:<P>\n",
    "1. Obtain and isolate the data\n",
    "2. Split the data into training & test datasets\n",
    "3. Format the data for the algorithm\n",
    "4. Create the model and train it\n",
    "5. Use the test set to measure the model's performance\n",
    "6.  Use the model to make new predictions\n"
   ]
  },
  {
   "cell_type": "code",
   "execution_count": 2,
   "metadata": {},
   "outputs": [],
   "source": [
    "from sklearn import datasets, linear_model # Both the data & the linear model\n",
    "from sklearn.metrics import mean_squared_error, r2_score # Some metrics\n",
    "import pandas as pd # Used to store data in a DataFrame\n",
    "import numpy as np # We will use the np linear model\n",
    "import matplotlib.pyplot as plt # Visualization module\n",
    "%matplotlib inline"
   ]
  },
  {
   "cell_type": "markdown",
   "metadata": {},
   "source": [
    "### 1. Obtain and isolate the data"
   ]
  },
  {
   "cell_type": "code",
   "execution_count": 3,
   "metadata": {},
   "outputs": [
    {
     "name": "stdout",
     "output_type": "stream",
     "text": [
      "Size of data (Rows,Cols): (20, 3)\n"
     ]
    },
    {
     "data": {
      "text/html": [
       "<div>\n",
       "<style scoped>\n",
       "    .dataframe tbody tr th:only-of-type {\n",
       "        vertical-align: middle;\n",
       "    }\n",
       "\n",
       "    .dataframe tbody tr th {\n",
       "        vertical-align: top;\n",
       "    }\n",
       "\n",
       "    .dataframe thead th {\n",
       "        text-align: right;\n",
       "    }\n",
       "</style>\n",
       "<table border=\"1\" class=\"dataframe\">\n",
       "  <thead>\n",
       "    <tr style=\"text-align: right;\">\n",
       "      <th></th>\n",
       "      <th>Weight</th>\n",
       "      <th>Waist</th>\n",
       "      <th>Pulse</th>\n",
       "    </tr>\n",
       "  </thead>\n",
       "  <tbody>\n",
       "    <tr>\n",
       "      <th>0</th>\n",
       "      <td>191.0</td>\n",
       "      <td>36.0</td>\n",
       "      <td>50.0</td>\n",
       "    </tr>\n",
       "    <tr>\n",
       "      <th>1</th>\n",
       "      <td>189.0</td>\n",
       "      <td>37.0</td>\n",
       "      <td>52.0</td>\n",
       "    </tr>\n",
       "    <tr>\n",
       "      <th>2</th>\n",
       "      <td>193.0</td>\n",
       "      <td>38.0</td>\n",
       "      <td>58.0</td>\n",
       "    </tr>\n",
       "    <tr>\n",
       "      <th>3</th>\n",
       "      <td>162.0</td>\n",
       "      <td>35.0</td>\n",
       "      <td>62.0</td>\n",
       "    </tr>\n",
       "  </tbody>\n",
       "</table>\n",
       "</div>"
      ],
      "text/plain": [
       "   Weight  Waist  Pulse\n",
       "0   191.0   36.0   50.0\n",
       "1   189.0   37.0   52.0\n",
       "2   193.0   38.0   58.0\n",
       "3   162.0   35.0   62.0"
      ]
     },
     "execution_count": 3,
     "metadata": {},
     "output_type": "execute_result"
    }
   ],
   "source": [
    "# Same process as before\n",
    "data = datasets.load_linnerud()\n",
    "df = pd.DataFrame(data=data.target, columns=data.target_names)\n",
    "print('Size of data (Rows,Cols):',df.shape)\n",
    "df.head(4) # Show just the first 4"
   ]
  },
  {
   "cell_type": "code",
   "execution_count": 4,
   "metadata": {},
   "outputs": [
    {
     "data": {
      "image/png": "[encoded data removed]",
      "text/plain": [
       "<Figure size 432x288 with 1 Axes>"
      ]
     },
     "metadata": {
      "needs_background": "light"
     },
     "output_type": "display_data"
    }
   ],
   "source": [
    "# Isolate two columns\n",
    "X = df['Weight'] # We'll call this our independent variable. It is a pandas Series datatype.\n",
    "y = df['Waist'] # This will be our dependent variable\n",
    "# Plot the data using the matplotlib library\n",
    "plt.scatter(X, y, c =\"blue\")\n",
    "plt.title(\"Weight vs. Waist\")\n",
    "plt.xlabel(\"Weight (lbs)\")\n",
    "plt.ylabel(\"Waist (inches)\")\n",
    "plt.show()"
   ]
  },
  {
   "cell_type": "markdown",
   "metadata": {},
   "source": [
    "### 2. Split the data into training and test sets\n",
    "In machine learning, we spit our data into training and test sets. Once we train our model, then we use the test set to evaluate how well our model performs. This is a very common practice.<P>\n",
    "    \n",
    "In this example, we have only 20 rows of data, which is much too few, but we'll get the idea.<P>\n",
    "    \n",
    "Let's put 15 rows (75%) in the training set and leave 5 rows (25%) to evaluate how good the model is performing."
   ]
  },
  {
   "cell_type": "code",
   "execution_count": 5,
   "metadata": {},
   "outputs": [],
   "source": [
    "# Split the data into training/testing sets\n",
    "X_train = X[:-5] # Exclude the last 5 rows (15 rows of data)\n",
    "X_test = X[-5:]  # Include the only the last 5 rows (5 rows of data)\n",
    "\n",
    "# Split the targets into training/testing sets\n",
    "y_train = y[:-5] # Exclude the last 5 rows\n",
    "y_test = y[-5:] # Include the last 5 rows"
   ]
  },
  {
   "cell_type": "markdown",
   "metadata": {},
   "source": [
    "### 3. Format the data for the algorithm\n",
    "\n",
    "This is a special situation and takes a little data preparation.\n",
    "\n",
    "The sklearn.linear_model is expecting the X data in a pandas dataframe. Currently, the X data are pandas Series datatype, which is a single array.<P>\n",
    "    \n",
    "We will convert the X data into single-column dataframes"
   ]
  },
  {
   "cell_type": "code",
   "execution_count": 6,
   "metadata": {},
   "outputs": [
    {
     "data": {
      "text/plain": [
       "pandas.core.series.Series"
      ]
     },
     "execution_count": 6,
     "metadata": {},
     "output_type": "execute_result"
    }
   ],
   "source": [
    "type(X_train)"
   ]
  },
  {
   "cell_type": "code",
   "execution_count": 7,
   "metadata": {},
   "outputs": [
    {
     "data": {
      "text/plain": [
       "pandas.core.frame.DataFrame"
      ]
     },
     "execution_count": 7,
     "metadata": {},
     "output_type": "execute_result"
    }
   ],
   "source": [
    "# Prepare the data for the sklearn.linear_model()\n",
    "# numpy.reshape(): https://numpy.org/doc/stable/reference/generated/numpy.reshape.html\n",
    "# This will create a 2d arrary from the pandas series\n",
    "X_train = X_train.to_frame()\n",
    "X_test = X_test.to_frame()\n",
    "type(X_train)"
   ]
  },
  {
   "cell_type": "markdown",
   "metadata": {},
   "source": [
    "### 4. Create the model and train it"
   ]
  },
  {
   "cell_type": "code",
   "execution_count": 8,
   "metadata": {},
   "outputs": [
    {
     "name": "stdout",
     "output_type": "stream",
     "text": [
      "The linear model has equation of:\n",
      "y =  0.1263838092270349 * x +  12.62194741934955\n"
     ]
    }
   ],
   "source": [
    "# Create linear regression object\n",
    "model = linear_model.LinearRegression()\n",
    "#\n",
    "# Train the model using the training sets\n",
    "model.fit(X_train, y_train)\n",
    "#\n",
    "#Pull out the coefficients\n",
    "x_coef = model.coef_.item(0)\n",
    "intercept = model.intercept_.item(0)\n",
    "print('The linear model has equation of:')\n",
    "print('y = ',x_coef,'* x + ',intercept)"
   ]
  },
  {
   "cell_type": "markdown",
   "metadata": {},
   "source": [
    "### 5. Use the test set to measure the model's performance"
   ]
  },
  {
   "cell_type": "code",
   "execution_count": 9,
   "metadata": {},
   "outputs": [
    {
     "name": "stdout",
     "output_type": "stream",
     "text": [
      "Prediction: 38.1514768832106 Actual: 36.0 Error: 2.1514768832105986\n",
      "Prediction: 34.86549784330769 Actual: 37.0 Error: 2.1345021566923066\n",
      "Prediction: 32.464205467994034 Actual: 38.0 Error: 5.535794532005966\n"
     ]
    }
   ],
   "source": [
    "# Make predictions of waist size using weights from the test dataset\n",
    "y_pred = model.predict(X_test)\n",
    "# Compare a few waist predictions to the actual waist measurements from the test data\n",
    "for row in range(3):\n",
    "    print('Prediction:', y_pred.item(row),'Actual:',y[row],'Error:',abs(y_pred.item(row) - y[row]))"
   ]
  },
  {
   "cell_type": "code",
   "execution_count": 10,
   "metadata": {},
   "outputs": [
    {
     "name": "stdout",
     "output_type": "stream",
     "text": [
      "Coefficient of determination: 0.35\n"
     ]
    }
   ],
   "source": [
    "# Now, use the waist size prediction and the true waist size to see how well our model does\n",
    "print(\"Coefficient of determination: %.2f\" % r2_score(y_test, y_pred))"
   ]
  },
  {
   "cell_type": "markdown",
   "metadata": {},
   "source": [
    "### 6. Use the model to make new predictions"
   ]
  },
  {
   "cell_type": "code",
   "execution_count": 11,
   "metadata": {},
   "outputs": [
    {
     "name": "stdout",
     "output_type": "stream",
     "text": [
      "My predicted waist is 39.16254735702688 while my actual waist is 36 for an error of: 3.162547357026881 inches.\n"
     ]
    }
   ],
   "source": [
    "# Use the model to predict my waist size\n",
    "myWeight = pd.DataFrame(data=[210]) # Create a dataframe with 1 row, 1 col\n",
    "myPredictedWaist = model.predict(myWeight)\n",
    "myTrueWaist = 36\n",
    "print(\"My predicted waist is {} while my actual waist is {} for an error of: {} inches.\"\\\n",
    "      .format(myPredictedWaist.item(0), myTrueWaist, myPredictedWaist.item(0) - myTrueWaist))"
   ]
  },
  {
   "cell_type": "markdown",
   "metadata": {},
   "source": [
    "### Plot the test data and the prediction linear model"
   ]
  },
  {
   "cell_type": "code",
   "execution_count": 12,
   "metadata": {},
   "outputs": [
    {
     "data": {
      "image/png": "[encoded data removed]",
      "text/plain": [
       "<Figure size 432x288 with 1 Axes>"
      ]
     },
     "metadata": {
      "needs_background": "light"
     },
     "output_type": "display_data"
    }
   ],
   "source": [
    "# Plot the just test data \n",
    "plt.scatter(X_test, y_test, c =\"blue\")\n",
    "# Plot my personal data\n",
    "plt.scatter(myWeight, myTrueWaist, c =\"green\")\n",
    "# Create a list of integers to on the x-axis\n",
    "x_nums = np.arange(130,250,5).reshape(-1,1) # Integers between low and high, as a 2d array\n",
    "# From each of those integers, predict the y-axis value using the linear model prediction\n",
    "y_nums = model.predict(x_nums) # Predicted values for each of these\n",
    "plt.plot(x_nums,y_nums, c = 'red') # Predicted linear line\n",
    "plt.title(\"Weight vs. Waist\")\n",
    "plt.xlabel(\"Weight (lbs)\")\n",
    "plt.ylabel(\"Waist (inches)\")\n",
    "plt.show()"
   ]
  },
  {
   "cell_type": "code",
   "execution_count": null,
   "metadata": {},
   "outputs": [],
   "source": []
  },
  {
   "cell_type": "code",
   "execution_count": null,
   "metadata": {},
   "outputs": [],
   "source": []
  }
 ],
 "metadata": {
  "instance_type": "ml.t3.medium",
  "kernelspec": {
   "display_name": "Python 3 (Data Science)",
   "language": "python",
   "name": "python3__SAGEMAKER_INTERNAL__arn:aws:sagemaker:us-west-2:236514542706:image/datascience-1.0"
  },
  "language_info": {
   "codemirror_mode": {
    "name": "ipython",
    "version": 3
   },
   "file_extension": ".py",
   "mimetype": "text/x-python",
   "name": "python",
   "nbconvert_exporter": "python",
   "pygments_lexer": "ipython3",
   "version": "3.7.10"
  }
 },
 "nbformat": 4,
 "nbformat_minor": 4
}
