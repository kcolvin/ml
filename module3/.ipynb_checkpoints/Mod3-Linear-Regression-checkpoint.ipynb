{
 "cells": [
  {
   "cell_type": "markdown",
   "metadata": {},
   "source": [
    "### Module 3 Learning: Linear Regression as an example of Machine Learning\n",
    "In this activity, become familiar with the concept of a mathematical model used to predict a value.  This concept will carry us forward to using more sophisticated machine learning models to predict increasingly complex data.<P>\n",
    "    \n",
    "We might call this a \"statistical\" method. We will contrast this to the \"machine learning\" method in the next activity. <P>\n",
    "    \n",
    "References:<P>\n",
    "- https://www.youtube.com/watch?v=b0L47BeklTE\n",
    "-https://data36.com/linear-regression-in-python-numpy-polyfit/"
   ]
  },
  {
   "cell_type": "code",
   "execution_count": null,
   "metadata": {},
   "outputs": [],
   "source": [
    "from sklearn import datasets # We'll get a data set from this module\n",
    "import pandas as pd # Used to store data in a DataFrame\n",
    "import numpy as np # We will use the np linear model\n",
    "import matplotlib.pyplot as plt # Visualization module\n",
    "%matplotlib inline"
   ]
  },
  {
   "cell_type": "markdown",
   "metadata": {},
   "source": [
    "### Get some data to work with"
   ]
  },
  {
   "cell_type": "code",
   "execution_count": null,
   "metadata": {},
   "outputs": [],
   "source": [
    "# Import an example dataset\n",
    "# From: https://scikit-learn.org/stable/datasets/toy_dataset.html#diabetes-dataset\n",
    "data = datasets.load_linnerud()\n",
    "# Convert the data to a pandas DataFrame\n",
    "df = pd.DataFrame(data=data.target, columns=data.target_names)\n",
    "print('Size of data (Rows,Cols):',df.shape)\n",
    "df.head(4) # Show just the first 4"
   ]
  },
  {
   "cell_type": "code",
   "execution_count": null,
   "metadata": {},
   "outputs": [],
   "source": [
    "# Isolate two columns to which we will fit a model\n",
    "X = df['Weight'] # We'll call this our independent variable. It is a pandas Series datatype.\n",
    "y = df['Waist'] # This will be our dependent variable\n",
    "# Print the first 3 rows of each Series\n",
    "print(X.head(3))\n",
    "print(y.head(3))"
   ]
  },
  {
   "cell_type": "code",
   "execution_count": null,
   "metadata": {},
   "outputs": [],
   "source": [
    "# Plot the data using the matplotlib library\n",
    "plt.scatter(X, y, c =\"blue\")\n",
    "plt.title(\"Weight vs. Waist\")\n",
    "plt.xlabel(\"Weight (lbs)\")\n",
    "plt.ylabel(\"Waist (inches)\")\n",
    "plt.show()"
   ]
  },
  {
   "cell_type": "code",
   "execution_count": null,
   "metadata": {},
   "outputs": [],
   "source": [
    "# Fit a model to the data\n",
    "model = np.polyfit(X,y,1) # polyfit() is used to perform a least squares fit using a deg = 1 line.\n",
    "print('The linear model has equation of:')\n",
    "print('y = ',model[0],'* x + ',model[1]) # intercept/constant\n",
    "#print(model[1]) # x coefficient"
   ]
  },
  {
   "cell_type": "code",
   "execution_count": null,
   "metadata": {},
   "outputs": [],
   "source": [
    "# Use the model to predict my waist size\n",
    "predict = np.poly1d(model) # uses the model to predict waist size from a given weight.\n",
    "myWeight = 210\n",
    "myWaist = predict(myWeight)\n",
    "print(\"My predicted waist is {0} while my actual waist is 36.0 for an error of: {1} inches.\".format(myWaist, myWaist - 36))"
   ]
  },
  {
   "cell_type": "code",
   "execution_count": null,
   "metadata": {},
   "outputs": [],
   "source": [
    "# Let's plot the predicted line\n",
    "#\n",
    "# Create a list of integers to on the x-axis\n",
    "X_pred = range(130,250) # Integers between low and high\n",
    "# From each of those integers, predict the y-axis value using the linear model prediction\n",
    "y_pred = predict(X_pred) # Predicted values for each of these\n",
    "#\n",
    "# Plot both the original data points and the predicted line\n",
    "plt.scatter(X,y, c = 'blue') # Original data\n",
    "plt.plot(X_pred,y_pred, c = 'red') # Predicted linear line\n",
    "plt.title(\"Weight vs. Waist\")\n",
    "plt.xlabel(\"Weight (lbs)\")\n",
    "plt.ylabel(\"Waist (inches)\")\n",
    "plt.show()"
   ]
  },
  {
   "cell_type": "code",
   "execution_count": null,
   "metadata": {},
   "outputs": [],
   "source": [
    "# This isn't a perfect model, right?\n",
    "# But, how good is it? Let's use a common metric called R^2\n",
    "from sklearn.metrics import r2_score # import the coefficient of determination (R^2) from skearn library\n",
    "# Caculate this metric using the original y and the predicted y\n",
    "r2_score(y,predict(X))"
   ]
  },
  {
   "cell_type": "code",
   "execution_count": null,
   "metadata": {},
   "outputs": [],
   "source": []
  }
 ],
 "metadata": {
  "instance_type": "ml.t3.medium",
  "kernelspec": {
   "display_name": "Python 3 (Data Science)",
   "language": "python",
   "name": "python3__SAGEMAKER_INTERNAL__arn:aws:sagemaker:us-west-2:236514542706:image/datascience-1.0"
  },
  "language_info": {
   "codemirror_mode": {
    "name": "ipython",
    "version": 3
   },
   "file_extension": ".py",
   "mimetype": "text/x-python",
   "name": "python",
   "nbconvert_exporter": "python",
   "pygments_lexer": "ipython3",
   "version": "3.7.10"
  }
 },
 "nbformat": 4,
 "nbformat_minor": 4
}
