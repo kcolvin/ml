{
 "cells": [
  {
   "cell_type": "markdown",
   "metadata": {},
   "source": [
    "### Module 3 Challenge Lab\n",
    "\n",
    "Hopefully by now, you understand the concept of using the linear regression algorithm in the machine learning method.\n",
    "\n",
    "Let's test your understanding. I'll help you load some data, but then it is up to you to build a linear regression model and measure how good it is.\n",
    "\n",
    "Here is where I got the idea for this challenge lab:\n",
    "\n",
    "https://towardsdatascience.com/simple-and-multiple-linear-regression-in-python-c928425168f9"
   ]
  },
  {
   "cell_type": "code",
   "execution_count": null,
   "metadata": {},
   "outputs": [],
   "source": [
    "# Same libraries\n",
    "from sklearn import datasets, linear_model # Both the data & the linear model\n",
    "from sklearn.metrics import mean_squared_error, r2_score # Some metrics\n",
    "import pandas as pd # Used to store data in a DataFrame\n",
    "import numpy as np # We will use the np linear model\n",
    "import matplotlib.pyplot as plt # Visualization module\n",
    "%matplotlib inline"
   ]
  },
  {
   "cell_type": "code",
   "execution_count": null,
   "metadata": {},
   "outputs": [],
   "source": [
    "# Load the Boston housing dataset.\n",
    "# You can read about it here: \n",
    "#     https://scikit-learn.org/stable/modules/generated/sklearn.datasets.load_boston.html\n",
    "data = datasets.load_boston() # loads Boston dataset from datasets library \n",
    "print(data.DESCR)"
   ]
  },
  {
   "cell_type": "code",
   "execution_count": null,
   "metadata": {},
   "outputs": [],
   "source": [
    "# Load all the possible features\n",
    "df = pd.DataFrame(data.data, columns=data.feature_names)\n",
    "df.head(2)"
   ]
  },
  {
   "cell_type": "code",
   "execution_count": null,
   "metadata": {},
   "outputs": [],
   "source": [
    "# The Target will be the median value \"MEDV\" in thousands of dollars\n",
    "y = pd.DataFrame(data.target, columns=[\"MEDV\"])\n",
    "y.head(2)"
   ]
  },
  {
   "cell_type": "markdown",
   "metadata": {},
   "source": [
    "### Your task:\n",
    "- Create a multiple linear regression model to predict home value \"MEDV\"\n",
    "- Select between 2 and 5 columns to use as your features (Xs) that you believe are good predictors\n",
    "- Split the data into training and test sets\n",
    "- Train the model\n",
    "- Evaluate it's performance against the test set\n",
    "- Use the trained model to predict new data"
   ]
  },
  {
   "cell_type": "code",
   "execution_count": null,
   "metadata": {},
   "outputs": [],
   "source": [
    "# Your code here"
   ]
  },
  {
   "cell_type": "code",
   "execution_count": null,
   "metadata": {},
   "outputs": [],
   "source": []
  }
 ],
 "metadata": {
  "instance_type": "ml.t3.medium",
  "kernelspec": {
   "display_name": "Python 3 (Data Science)",
   "language": "python",
   "name": "python3__SAGEMAKER_INTERNAL__arn:aws:sagemaker:us-west-2:236514542706:image/datascience-1.0"
  },
  "language_info": {
   "codemirror_mode": {
    "name": "ipython",
    "version": 3
   },
   "file_extension": ".py",
   "mimetype": "text/x-python",
   "name": "python",
   "nbconvert_exporter": "python",
   "pygments_lexer": "ipython3",
   "version": "3.7.10"
  }
 },
 "nbformat": 4,
 "nbformat_minor": 4
}
