{
 "cells": [
  {
   "cell_type": "markdown",
   "metadata": {},
   "source": [
    "### Module 2 Learning: Interacting with AWS using the boto3 SDK\n",
    "In this activity, use the AWS boto3 library to use AWS services."
   ]
  },
  {
   "cell_type": "code",
   "execution_count": 34,
   "metadata": {},
   "outputs": [],
   "source": [
    "# Import the AWS boto3 package. This allows you to use all of the AWS API using Python\n",
    "import boto3"
   ]
  },
  {
   "cell_type": "markdown",
   "metadata": {},
   "source": [
    "Boto3 is the name of the Python SDK for AWS. It allows you to directly create, update, and delete AWS resources from your Python code.<P>\n",
    "Common workflow:\n",
    "1. Configure your AWS credentials (only required the first time)\n",
    "2. Create a new AWS session using your credentials\n",
    "3. Using that session, create a client or resource you want to use\n",
    "4. Call the correct client function to accomplish what you want"
   ]
  },
  {
   "cell_type": "markdown",
   "metadata": {},
   "source": [
    "### 1. Configure your credentials using the File Menu -> New Launcher -> system terminal\n",
    "- at the terminal prompt, run: <code>aws configure</code>\n",
    "    - enter your 'AWS Access Key ID'\n",
    "    - enter your 'AWS Secret Access Key'\n",
    "    - enter the default region name: <code>us-west-2</code>\n",
    "    - enter the default output format: <code>json</code>"
   ]
  },
  {
   "cell_type": "markdown",
   "metadata": {},
   "source": [
    "### 2. Create a new session using your credentials"
   ]
  },
  {
   "cell_type": "code",
   "execution_count": 9,
   "metadata": {},
   "outputs": [
    {
     "data": {
      "text/plain": [
       "boto3.session.Session"
      ]
     },
     "execution_count": 9,
     "metadata": {},
     "output_type": "execute_result"
    }
   ],
   "source": [
    "# Create a new session and store it in the variable called 'sess' \n",
    "sess = boto3.session.Session()\n",
    "# This uses your AWS credentials created above.\n",
    "# What the 'type' of the 'sess' variable?\n",
    "type(sess)"
   ]
  },
  {
   "cell_type": "markdown",
   "metadata": {},
   "source": [
    "### 3. Use the session to create a client of an AWS service we want to use.\n",
    "For example, let's use the AWS service called \"Secure Token Service\". This will allow us to verify our account and credentials."
   ]
  },
  {
   "cell_type": "code",
   "execution_count": 10,
   "metadata": {},
   "outputs": [],
   "source": [
    "# Create a sts client object (Secure Token Service)\n",
    "sts = sess.client('sts')"
   ]
  },
  {
   "cell_type": "markdown",
   "metadata": {},
   "source": [
    "### 4. Call the correct client function to accomplish what you want\n",
    "In our example, we want to verify we have the correct credentails to use our AWS account."
   ]
  },
  {
   "cell_type": "code",
   "execution_count": 8,
   "metadata": {},
   "outputs": [
    {
     "data": {
      "text/plain": [
       "{'UserId': 'AIDAWWVMBM7EGCKXQSL4Y',\n",
       " 'Account': '460996044744',\n",
       " 'Arn': 'arn:aws:iam::460996044744:user/kcolvin',\n",
       " 'ResponseMetadata': {'RequestId': '0c87cfbb-ad15-4011-9559-5cecdb54e366',\n",
       "  'HTTPStatusCode': 200,\n",
       "  'HTTPHeaders': {'x-amzn-requestid': '0c87cfbb-ad15-4011-9559-5cecdb54e366',\n",
       "   'content-type': 'text/xml',\n",
       "   'content-length': '404',\n",
       "   'date': 'Mon, 04 Jul 2022 17:18:26 GMT'},\n",
       "  'RetryAttempts': 0}}"
      ]
     },
     "execution_count": 8,
     "metadata": {},
     "output_type": "execute_result"
    }
   ],
   "source": [
    "# Use the 'sts' client to call the 'get_caller_identity()' function. \n",
    "# Store the result in a variable called 'response'\n",
    "response = sts.get_caller_identity()\n",
    "# Show the whole response. What can you see?\n",
    "response"
   ]
  },
  {
   "cell_type": "markdown",
   "metadata": {},
   "source": [
    "### The pattern is always very similar.\n",
    "Once you have the right AWS service client, then you just need to figure out how to call the right function, with the right parameters and confirm by parsing the response."
   ]
  },
  {
   "cell_type": "markdown",
   "metadata": {},
   "source": [
    "### Dictionaries in Python"
   ]
  },
  {
   "cell_type": "code",
   "execution_count": 13,
   "metadata": {},
   "outputs": [
    {
     "name": "stdout",
     "output_type": "stream",
     "text": [
      "The type of the response object from AWS is: <class 'dict'>\n"
     ]
    }
   ],
   "source": [
    "# Investigate the response\n",
    "print('The type of the response object from AWS is:', type(response))"
   ]
  },
  {
   "cell_type": "markdown",
   "metadata": {},
   "source": [
    "The 'dict' is a data structure in Python.<P>\n",
    "A Python dictionary is a data structure for storing groups of objects. It consists of a mapping of <B>key-value pairs</B>, where each key is associated with a value. It can contain data with the same or different data types, is unordered, and is mutable (which just means you can change it)."
   ]
  },
  {
   "cell_type": "code",
   "execution_count": 18,
   "metadata": {},
   "outputs": [
    {
     "name": "stdout",
     "output_type": "stream",
     "text": [
      "Print just the keys: dict_keys(['UserId', 'Account', 'Arn', 'ResponseMetadata'])\n"
     ]
    }
   ],
   "source": [
    "# Investigate the 'keys' in the 'response' dict\n",
    "print('Print just the keys:', response.keys())"
   ]
  },
  {
   "cell_type": "code",
   "execution_count": 24,
   "metadata": {},
   "outputs": [
    {
     "data": {
      "text/plain": [
       "'AIDAWWVMBM7EGCKXQSL4Y'"
      ]
     },
     "execution_count": 24,
     "metadata": {},
     "output_type": "execute_result"
    }
   ],
   "source": [
    "# Use the square brackets [] to show just the value of the 'UserId' key\n",
    "response['UserId']"
   ]
  },
  {
   "cell_type": "code",
   "execution_count": 29,
   "metadata": {},
   "outputs": [
    {
     "name": "stdout",
     "output_type": "stream",
     "text": [
      "For key: UserId , the value is: AIDAWWVMBM7EGCKXQSL4Y\n",
      "For key: Account , the value is: 460996044744\n",
      "For key: Arn , the value is: arn:aws:iam::460996044744:user/kcolvin\n",
      "For key: ResponseMetadata , the value is: {'RequestId': '0c87cfbb-ad15-4011-9559-5cecdb54e366', 'HTTPStatusCode': 200, 'HTTPHeaders': {'x-amzn-requestid': '0c87cfbb-ad15-4011-9559-5cecdb54e366', 'content-type': 'text/xml', 'content-length': '404', 'date': 'Mon, 04 Jul 2022 17:18:26 GMT'}, 'RetryAttempts': 0}\n"
     ]
    }
   ],
   "source": [
    "# loop through the keys and print each key's value\n",
    "for k in response.keys():\n",
    "    print('For key:',k, ', the value is:', response[k])"
   ]
  },
  {
   "cell_type": "markdown",
   "metadata": {},
   "source": [
    "### So for using the AWS boto3 SDK, the pattern is always the same:\n",
    "- Create the AWS service's client\n",
    "- Find the right client function to call to achieve what you want\n",
    "- Evaluate the function's response using your knowledge of Python dictionaries.\n",
    "\n",
    "List of all boto3 clients: https://boto3.amazonaws.com/v1/documentation/api/latest/reference/services/index.html"
   ]
  },
  {
   "cell_type": "markdown",
   "metadata": {},
   "source": [
    "### AWS S3 Client example\n",
    "For example, if I want to list all the S3 buckets in our account:"
   ]
  },
  {
   "cell_type": "code",
   "execution_count": 33,
   "metadata": {},
   "outputs": [
    {
     "name": "stdout",
     "output_type": "stream",
     "text": [
      "athena-ime312-data\n",
      "athena-ime312-results\n",
      "cf-templates-1557tsq4h6qye-us-west-2\n",
      "custom-labels-console-us-east-1-7816f32253\n",
      "custom-labels-console-us-west-2-1e5e5a5693\n",
      "forecastbucket-1m2t9x653tz4n\n",
      "ftp-dlink-cam1\n",
      "gse580-read-only\n",
      "kcolvintemp\n",
      "msba-rekognition\n",
      "sagemaker-us-west-2-460996044744\n",
      "sbc-imagery\n",
      "temp-235612\n"
     ]
    }
   ],
   "source": [
    "# Create the right client\n",
    "s3 = sess.client('s3')\n",
    "# Find the right function from this list:\n",
    "#  https://boto3.amazonaws.com/v1/documentation/api/latest/reference/services/s3.html#client\n",
    "# I found 'list_buckets()' here: \n",
    "#  https://boto3.amazonaws.com/v1/documentation/api/latest/reference/services/s3.html#S3.Client.list_buckets\n",
    "response = s3.list_buckets()\n",
    "# Parse the response using my knowledge of Python dicts\n",
    "for buck in response['Buckets']:\n",
    "    print(buck['Name'])"
   ]
  },
  {
   "cell_type": "code",
   "execution_count": null,
   "metadata": {},
   "outputs": [],
   "source": []
  }
 ],
 "metadata": {
  "instance_type": "ml.t3.medium",
  "kernelspec": {
   "display_name": "Python 3 (Data Science)",
   "language": "python",
   "name": "python3__SAGEMAKER_INTERNAL__arn:aws:sagemaker:us-west-2:236514542706:image/datascience-1.0"
  },
  "language_info": {
   "codemirror_mode": {
    "name": "ipython",
    "version": 3
   },
   "file_extension": ".py",
   "mimetype": "text/x-python",
   "name": "python",
   "nbconvert_exporter": "python",
   "pygments_lexer": "ipython3",
   "version": "3.7.10"
  }
 },
 "nbformat": 4,
 "nbformat_minor": 4
}
