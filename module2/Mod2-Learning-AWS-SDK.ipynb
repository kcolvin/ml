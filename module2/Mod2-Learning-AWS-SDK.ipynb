{
 "cells": [
  {
   "cell_type": "markdown",
   "metadata": {},
   "source": [
    "### Module 2 Learning: Interacting with AWS using the boto3 SDK\n",
    "In this activity, use the AWS boto3 library to use AWS services."
   ]
  },
  {
   "cell_type": "code",
   "execution_count": 2,
   "metadata": {},
   "outputs": [],
   "source": [
    "# Import the AWS boto3 package. This allows you to use all of the AWS API using Python\n",
    "import boto3"
   ]
  },
  {
   "cell_type": "markdown",
   "metadata": {},
   "source": [
    "Boto3 is the name of the Python SDK for AWS. It allows you to directly create, update, and delete AWS resources from your Python code.<P>\n",
    "Common workflow:\n",
    "1. Create a new AWS session using your credentials\n",
    "2. Using that session, create a client or resource you want to use\n",
    "3. Call the correct client function to accomplish what you want"
   ]
  },
  {
   "cell_type": "markdown",
   "metadata": {},
   "source": [
    "### 1. Create a new session using your credentials"
   ]
  },
  {
   "cell_type": "code",
   "execution_count": 3,
   "metadata": {},
   "outputs": [
    {
     "data": {
      "text/plain": [
       "boto3.session.Session"
      ]
     },
     "execution_count": 3,
     "metadata": {},
     "output_type": "execute_result"
    }
   ],
   "source": [
    "# Create a new session and store it in the variable called 'sess' \n",
    "sess = boto3.session.Session()\n",
    "# This uses your AWS credentials created above.\n",
    "# What the 'type' of the 'sess' variable?\n",
    "type(sess)"
   ]
  },
  {
   "cell_type": "markdown",
   "metadata": {},
   "source": [
    "### 2. Use the session to create a client of an AWS service we want to use.\n",
    "For example, let's use the AWS service called \"Secure Token Service\". This will allow us to verify our account and credentials."
   ]
  },
  {
   "cell_type": "code",
   "execution_count": 4,
   "metadata": {},
   "outputs": [],
   "source": [
    "# Create a sts client object (Secure Token Service)\n",
    "sts = sess.client('sts')"
   ]
  },
  {
   "cell_type": "markdown",
   "metadata": {},
   "source": [
    "### 3. Call the correct client function to accomplish what you want\n",
    "In our example, we want to verify we have the correct credentails to use our AWS account."
   ]
  },
  {
   "cell_type": "code",
   "execution_count": 7,
   "metadata": {},
   "outputs": [
    {
     "data": {
      "text/plain": [
       "{'UserId': 'AROAWWVMBM7EHU6KP3QO3:SageMaker',\n",
       " 'Account': '460996044744',\n",
       " 'Arn': 'arn:aws:sts::460996044744:assumed-role/AmazonSageMaker-ExecutionRole-20220222T110265/SageMaker',\n",
       " 'ResponseMetadata': {'RequestId': 'c5b686ac-6045-4398-8238-5a93b396786c',\n",
       "  'HTTPStatusCode': 200,\n",
       "  'HTTPHeaders': {'x-amzn-requestid': 'c5b686ac-6045-4398-8238-5a93b396786c',\n",
       "   'content-type': 'text/xml',\n",
       "   'content-length': '470',\n",
       "   'date': 'Fri, 15 Jul 2022 17:57:30 GMT'},\n",
       "  'RetryAttempts': 0}}"
      ]
     },
     "execution_count": 7,
     "metadata": {},
     "output_type": "execute_result"
    }
   ],
   "source": [
    "# Use the 'sts' client to call the 'get_caller_identity()' function. \n",
    "# Store the result in a variable called 'response'\n",
    "response = sts.get_caller_identity()\n",
    "# Show the whole response. What can you see?\n",
    "response"
   ]
  },
  {
   "cell_type": "markdown",
   "metadata": {},
   "source": [
    "### The pattern is always very similar.\n",
    "Once you have the right AWS service client, then you just need to figure out how to call the right function, with the right parameters and confirm by parsing the response."
   ]
  },
  {
   "cell_type": "markdown",
   "metadata": {},
   "source": [
    "### Dictionaries in Python"
   ]
  },
  {
   "cell_type": "code",
   "execution_count": 8,
   "metadata": {},
   "outputs": [
    {
     "name": "stdout",
     "output_type": "stream",
     "text": [
      "The type of the response object from AWS is: <class 'dict'>\n"
     ]
    }
   ],
   "source": [
    "# Investigate the response from above\n",
    "print('The type of the response object from AWS is:', type(response))"
   ]
  },
  {
   "cell_type": "markdown",
   "metadata": {},
   "source": [
    "The 'dict' is a data structure in Python.<P>\n",
    "A Python dictionary is a data structure for storing groups of objects. It consists of a mapping of <B>key-value pairs</B>, where each key is associated with a value. It is just like a real dictionary with only one defintion per word: you look up a word (the 'key') and it has an associated defintion (the 'value'). Each 'value\" can contain data with the same or different data types, is unordered, and is mutable (which just means you can change it)."
   ]
  },
  {
   "cell_type": "code",
   "execution_count": 9,
   "metadata": {},
   "outputs": [
    {
     "name": "stdout",
     "output_type": "stream",
     "text": [
      "Print just the keys: dict_keys(['UserId', 'Account', 'Arn', 'ResponseMetadata'])\n"
     ]
    }
   ],
   "source": [
    "# Investigate the 'keys' in the 'response' dict\n",
    "print('Print just the keys:', response.keys())"
   ]
  },
  {
   "cell_type": "code",
   "execution_count": 10,
   "metadata": {},
   "outputs": [
    {
     "data": {
      "text/plain": [
       "'AROAWWVMBM7EHU6KP3QO3:SageMaker'"
      ]
     },
     "execution_count": 10,
     "metadata": {},
     "output_type": "execute_result"
    }
   ],
   "source": [
    "# Use the square brackets [] to show just the value of the 'UserId' key\n",
    "response['UserId']"
   ]
  },
  {
   "cell_type": "code",
   "execution_count": 11,
   "metadata": {},
   "outputs": [
    {
     "name": "stdout",
     "output_type": "stream",
     "text": [
      "For key: UserId , the value is: AROAWWVMBM7EHU6KP3QO3:SageMaker\n",
      "For key: Account , the value is: 460996044744\n",
      "For key: Arn , the value is: arn:aws:sts::460996044744:assumed-role/AmazonSageMaker-ExecutionRole-20220222T110265/SageMaker\n",
      "For key: ResponseMetadata , the value is: {'RequestId': 'c5b686ac-6045-4398-8238-5a93b396786c', 'HTTPStatusCode': 200, 'HTTPHeaders': {'x-amzn-requestid': 'c5b686ac-6045-4398-8238-5a93b396786c', 'content-type': 'text/xml', 'content-length': '470', 'date': 'Fri, 15 Jul 2022 17:57:30 GMT'}, 'RetryAttempts': 0}\n"
     ]
    }
   ],
   "source": [
    "# loop through the keys and print each key's value\n",
    "for k in response.keys():\n",
    "    print('For key:',k, ', the value is:', response[k])"
   ]
  },
  {
   "cell_type": "markdown",
   "metadata": {},
   "source": [
    "### So for using the AWS boto3 SDK, the pattern is always the same:\n",
    "- Create the session (only once per jupyter notebook)\n",
    "- Create the AWS service's client\n",
    "- Find the right client function to call to achieve what you want\n",
    "- Evaluate the function's response using your knowledge of Python dictionaries.\n",
    "\n",
    "List of all boto3 clients: https://boto3.amazonaws.com/v1/documentation/api/latest/reference/services/index.html"
   ]
  },
  {
   "cell_type": "markdown",
   "metadata": {},
   "source": [
    "### AWS S3 Client example\n",
    "For example, if I want to list all the S3 buckets in our account:"
   ]
  },
  {
   "cell_type": "code",
   "execution_count": 12,
   "metadata": {},
   "outputs": [
    {
     "name": "stdout",
     "output_type": "stream",
     "text": [
      "athena-ime312-data\n",
      "athena-ime312-results\n",
      "cf-templates-1557tsq4h6qye-us-west-2\n",
      "custom-labels-console-us-east-1-7816f32253\n",
      "custom-labels-console-us-west-2-1e5e5a5693\n",
      "forecastbucket-1m2t9x653tz4n\n",
      "ftp-dlink-cam1\n",
      "gse580-read-only\n",
      "kcolvintemp\n",
      "machinelearning-read-only\n",
      "machinelearning-shared\n",
      "msba-rekognition\n",
      "sagemaker-us-west-2-460996044744\n",
      "sbc-imagery\n",
      "temp-235612\n"
     ]
    }
   ],
   "source": [
    "# 1. Remember, we already have a valid session, we called it 'sess'\n",
    "# 2. Create the right client\n",
    "s3 = sess.client('s3') # Use the S3 service\n",
    "# 3. Find the right S3 function from this list:\n",
    "    #  https://boto3.amazonaws.com/v1/documentation/api/latest/reference/services/s3.html#client\n",
    "    #\n",
    "    # I found 'list_buckets()' here: \n",
    "    #  https://boto3.amazonaws.com/v1/documentation/api/latest/reference/services/s3.html#S3.Client.list_buckets\n",
    "response = s3.list_buckets() # Run the function and store the response\n",
    "    #\n",
    "# 4. Parse the response using knowledge of Python dicts\n",
    "for buck in response['Buckets']:\n",
    "    print(buck['Name'])"
   ]
  },
  {
   "cell_type": "code",
   "execution_count": null,
   "metadata": {},
   "outputs": [],
   "source": []
  }
 ],
 "metadata": {
  "instance_type": "ml.t3.medium",
  "kernelspec": {
   "display_name": "Python 3 (Data Science)",
   "language": "python",
   "name": "python3__SAGEMAKER_INTERNAL__arn:aws:sagemaker:us-west-2:236514542706:image/datascience-1.0"
  },
  "language_info": {
   "codemirror_mode": {
    "name": "ipython",
    "version": 3
   },
   "file_extension": ".py",
   "mimetype": "text/x-python",
   "name": "python",
   "nbconvert_exporter": "python",
   "pygments_lexer": "ipython3",
   "version": "3.7.10"
  }
 },
 "nbformat": 4,
 "nbformat_minor": 4
}
