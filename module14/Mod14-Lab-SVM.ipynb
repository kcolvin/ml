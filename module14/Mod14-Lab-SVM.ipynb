{
 "cells": [
  {
   "cell_type": "markdown",
   "metadata": {},
   "source": [
    "### Module 14 Lab: Practice with SVM: Predict Abalone adult/youth\n",
    "\n",
    "The goal is the classify each abalone as 'adult' or 'youth'\n",
    "\n",
    "Recall, in the target column: adult = 1, youth = 0"
   ]
  },
  {
   "cell_type": "code",
   "execution_count": 2,
   "metadata": {},
   "outputs": [],
   "source": [
    "from sklearn import svm\n",
    "from sklearn.pipeline import Pipeline\n",
    "from sklearn.model_selection import GridSearchCV\n",
    "from sklearn.preprocessing import StandardScaler, MinMaxScaler\n",
    "from sklearn.model_selection import train_test_split\n",
    "from sklearn.metrics import confusion_matrix\n",
    "import matplotlib.pyplot as plt\n",
    "import seaborn as sns\n",
    "import boto3\n",
    "import pandas as pd\n",
    "import numpy as np\n",
    "import pickle\n",
    "import time"
   ]
  },
  {
   "cell_type": "markdown",
   "metadata": {},
   "source": [
    "### 1. Load and investigate the data\n"
   ]
  },
  {
   "cell_type": "code",
   "execution_count": 3,
   "metadata": {},
   "outputs": [
    {
     "data": {
      "text/html": [
       "<div>\n",
       "<style scoped>\n",
       "    .dataframe tbody tr th:only-of-type {\n",
       "        vertical-align: middle;\n",
       "    }\n",
       "\n",
       "    .dataframe tbody tr th {\n",
       "        vertical-align: top;\n",
       "    }\n",
       "\n",
       "    .dataframe thead th {\n",
       "        text-align: right;\n",
       "    }\n",
       "</style>\n",
       "<table border=\"1\" class=\"dataframe\">\n",
       "  <thead>\n",
       "    <tr style=\"text-align: right;\">\n",
       "      <th></th>\n",
       "      <th>sex</th>\n",
       "      <th>length</th>\n",
       "      <th>diameter</th>\n",
       "      <th>height</th>\n",
       "      <th>whole weight</th>\n",
       "      <th>shucked weight</th>\n",
       "      <th>viscera weight</th>\n",
       "      <th>shell weight</th>\n",
       "      <th>target</th>\n",
       "    </tr>\n",
       "  </thead>\n",
       "  <tbody>\n",
       "    <tr>\n",
       "      <th>0</th>\n",
       "      <td>0</td>\n",
       "      <td>0.455</td>\n",
       "      <td>0.365</td>\n",
       "      <td>0.095</td>\n",
       "      <td>0.5140</td>\n",
       "      <td>0.2245</td>\n",
       "      <td>0.1010</td>\n",
       "      <td>0.15</td>\n",
       "      <td>1</td>\n",
       "    </tr>\n",
       "    <tr>\n",
       "      <th>1</th>\n",
       "      <td>0</td>\n",
       "      <td>0.350</td>\n",
       "      <td>0.265</td>\n",
       "      <td>0.090</td>\n",
       "      <td>0.2255</td>\n",
       "      <td>0.0995</td>\n",
       "      <td>0.0485</td>\n",
       "      <td>0.07</td>\n",
       "      <td>0</td>\n",
       "    </tr>\n",
       "    <tr>\n",
       "      <th>2</th>\n",
       "      <td>1</td>\n",
       "      <td>0.530</td>\n",
       "      <td>0.420</td>\n",
       "      <td>0.135</td>\n",
       "      <td>0.6770</td>\n",
       "      <td>0.2565</td>\n",
       "      <td>0.1415</td>\n",
       "      <td>0.21</td>\n",
       "      <td>0</td>\n",
       "    </tr>\n",
       "  </tbody>\n",
       "</table>\n",
       "</div>"
      ],
      "text/plain": [
       "   sex  length  diameter  height  whole weight  shucked weight  \\\n",
       "0    0   0.455     0.365   0.095        0.5140          0.2245   \n",
       "1    0   0.350     0.265   0.090        0.2255          0.0995   \n",
       "2    1   0.530     0.420   0.135        0.6770          0.2565   \n",
       "\n",
       "   viscera weight  shell weight  target  \n",
       "0          0.1010          0.15       1  \n",
       "1          0.0485          0.07       0  \n",
       "2          0.1415          0.21       0  "
      ]
     },
     "execution_count": 3,
     "metadata": {},
     "output_type": "execute_result"
    }
   ],
   "source": [
    "# Setup boto3\n",
    "sess = boto3.session.Session()\n",
    "s3 = sess.client('s3') \n",
    "# Define the bucket & file you want to load\n",
    "source_bucket = 'machinelearning-shared'\n",
    "source_key = 'data/kcolvin/abalone_clean.pkl'  # You must use your data here\n",
    "# Get the file from S3 \n",
    "response = s3.get_object(Bucket = source_bucket, Key = source_key)\n",
    "#\n",
    "# Read the 'Body' part of the response into a variable. This is where the DataFrame data exists in the response.\n",
    "body = response['Body'].read()\n",
    "#\n",
    "# Create a new pandas DataFrame using the pickle.loads() function\n",
    "abalone_df = pickle.loads(body)\n",
    "abalone_df.head(3)"
   ]
  },
  {
   "cell_type": "code",
   "execution_count": 4,
   "metadata": {},
   "outputs": [
    {
     "name": "stdout",
     "output_type": "stream",
     "text": [
      "Unique values in target: [1, 0]\n"
     ]
    }
   ],
   "source": [
    "# This will be binary classification\n",
    "print('Unique values in target:', abalone_df['target'].unique().tolist())"
   ]
  },
  {
   "cell_type": "code",
   "execution_count": 5,
   "metadata": {},
   "outputs": [
    {
     "data": {
      "text/plain": [
       "sex                 int64\n",
       "length            float64\n",
       "diameter          float64\n",
       "height            float64\n",
       "whole weight      float64\n",
       "shucked weight    float64\n",
       "viscera weight    float64\n",
       "shell weight      float64\n",
       "target              int64\n",
       "dtype: object"
      ]
     },
     "execution_count": 5,
     "metadata": {},
     "output_type": "execute_result"
    }
   ],
   "source": [
    "# Data types: All integers or floats\n",
    "abalone_df.dtypes"
   ]
  },
  {
   "cell_type": "code",
   "execution_count": 6,
   "metadata": {},
   "outputs": [
    {
     "data": {
      "text/html": [
       "<div>\n",
       "<style scoped>\n",
       "    .dataframe tbody tr th:only-of-type {\n",
       "        vertical-align: middle;\n",
       "    }\n",
       "\n",
       "    .dataframe tbody tr th {\n",
       "        vertical-align: top;\n",
       "    }\n",
       "\n",
       "    .dataframe thead th {\n",
       "        text-align: right;\n",
       "    }\n",
       "</style>\n",
       "<table border=\"1\" class=\"dataframe\">\n",
       "  <thead>\n",
       "    <tr style=\"text-align: right;\">\n",
       "      <th></th>\n",
       "      <th>sex</th>\n",
       "      <th>length</th>\n",
       "      <th>diameter</th>\n",
       "      <th>height</th>\n",
       "      <th>whole weight</th>\n",
       "      <th>shucked weight</th>\n",
       "      <th>viscera weight</th>\n",
       "      <th>shell weight</th>\n",
       "      <th>target</th>\n",
       "    </tr>\n",
       "  </thead>\n",
       "  <tbody>\n",
       "    <tr>\n",
       "      <th>count</th>\n",
       "      <td>2835.000000</td>\n",
       "      <td>2835.000000</td>\n",
       "      <td>2835.000000</td>\n",
       "      <td>2835.000000</td>\n",
       "      <td>2835.000000</td>\n",
       "      <td>2835.000000</td>\n",
       "      <td>2835.000000</td>\n",
       "      <td>2835.000000</td>\n",
       "      <td>2835.000000</td>\n",
       "    </tr>\n",
       "    <tr>\n",
       "      <th>mean</th>\n",
       "      <td>0.461023</td>\n",
       "      <td>0.569552</td>\n",
       "      <td>0.446407</td>\n",
       "      <td>0.154437</td>\n",
       "      <td>1.016849</td>\n",
       "      <td>0.439051</td>\n",
       "      <td>0.222526</td>\n",
       "      <td>0.291208</td>\n",
       "      <td>0.646914</td>\n",
       "    </tr>\n",
       "    <tr>\n",
       "      <th>std</th>\n",
       "      <td>0.498566</td>\n",
       "      <td>0.095821</td>\n",
       "      <td>0.078850</td>\n",
       "      <td>0.037421</td>\n",
       "      <td>0.453217</td>\n",
       "      <td>0.212193</td>\n",
       "      <td>0.101880</td>\n",
       "      <td>0.128835</td>\n",
       "      <td>0.478014</td>\n",
       "    </tr>\n",
       "    <tr>\n",
       "      <th>min</th>\n",
       "      <td>0.000000</td>\n",
       "      <td>0.155000</td>\n",
       "      <td>0.110000</td>\n",
       "      <td>0.015000</td>\n",
       "      <td>0.015500</td>\n",
       "      <td>0.006500</td>\n",
       "      <td>0.003000</td>\n",
       "      <td>0.005000</td>\n",
       "      <td>0.000000</td>\n",
       "    </tr>\n",
       "    <tr>\n",
       "      <th>25%</th>\n",
       "      <td>0.000000</td>\n",
       "      <td>0.515000</td>\n",
       "      <td>0.400000</td>\n",
       "      <td>0.135000</td>\n",
       "      <td>0.701250</td>\n",
       "      <td>0.287000</td>\n",
       "      <td>0.152000</td>\n",
       "      <td>0.202500</td>\n",
       "      <td>0.000000</td>\n",
       "    </tr>\n",
       "    <tr>\n",
       "      <th>50%</th>\n",
       "      <td>0.000000</td>\n",
       "      <td>0.585000</td>\n",
       "      <td>0.460000</td>\n",
       "      <td>0.155000</td>\n",
       "      <td>1.003000</td>\n",
       "      <td>0.431500</td>\n",
       "      <td>0.217000</td>\n",
       "      <td>0.285000</td>\n",
       "      <td>1.000000</td>\n",
       "    </tr>\n",
       "    <tr>\n",
       "      <th>75%</th>\n",
       "      <td>1.000000</td>\n",
       "      <td>0.635000</td>\n",
       "      <td>0.500000</td>\n",
       "      <td>0.175000</td>\n",
       "      <td>1.289500</td>\n",
       "      <td>0.568750</td>\n",
       "      <td>0.287500</td>\n",
       "      <td>0.365000</td>\n",
       "      <td>1.000000</td>\n",
       "    </tr>\n",
       "    <tr>\n",
       "      <th>max</th>\n",
       "      <td>1.000000</td>\n",
       "      <td>0.815000</td>\n",
       "      <td>0.650000</td>\n",
       "      <td>1.130000</td>\n",
       "      <td>2.825500</td>\n",
       "      <td>1.488000</td>\n",
       "      <td>0.760000</td>\n",
       "      <td>1.005000</td>\n",
       "      <td>1.000000</td>\n",
       "    </tr>\n",
       "  </tbody>\n",
       "</table>\n",
       "</div>"
      ],
      "text/plain": [
       "               sex       length     diameter       height  whole weight  \\\n",
       "count  2835.000000  2835.000000  2835.000000  2835.000000   2835.000000   \n",
       "mean      0.461023     0.569552     0.446407     0.154437      1.016849   \n",
       "std       0.498566     0.095821     0.078850     0.037421      0.453217   \n",
       "min       0.000000     0.155000     0.110000     0.015000      0.015500   \n",
       "25%       0.000000     0.515000     0.400000     0.135000      0.701250   \n",
       "50%       0.000000     0.585000     0.460000     0.155000      1.003000   \n",
       "75%       1.000000     0.635000     0.500000     0.175000      1.289500   \n",
       "max       1.000000     0.815000     0.650000     1.130000      2.825500   \n",
       "\n",
       "       shucked weight  viscera weight  shell weight       target  \n",
       "count     2835.000000     2835.000000   2835.000000  2835.000000  \n",
       "mean         0.439051        0.222526      0.291208     0.646914  \n",
       "std          0.212193        0.101880      0.128835     0.478014  \n",
       "min          0.006500        0.003000      0.005000     0.000000  \n",
       "25%          0.287000        0.152000      0.202500     0.000000  \n",
       "50%          0.431500        0.217000      0.285000     1.000000  \n",
       "75%          0.568750        0.287500      0.365000     1.000000  \n",
       "max          1.488000        0.760000      1.005000     1.000000  "
      ]
     },
     "execution_count": 6,
     "metadata": {},
     "output_type": "execute_result"
    }
   ],
   "source": [
    "# Have a look at the scales of the features\n",
    "abalone_df.describe()"
   ]
  },
  {
   "cell_type": "markdown",
   "metadata": {},
   "source": [
    "### 3. Create the training and test datasets"
   ]
  },
  {
   "cell_type": "code",
   "execution_count": 7,
   "metadata": {},
   "outputs": [
    {
     "name": "stdout",
     "output_type": "stream",
     "text": [
      "X_train: (2268, 8)\n",
      "y_train: (2268,)\n",
      "X_test: (567, 8)\n",
      "y_test: (567,)\n"
     ]
    }
   ],
   "source": [
    "# Features\n",
    "X = abalone_df.drop(['target'],axis = 1)\n",
    "# Target\n",
    "y = abalone_df['target']\n",
    "# Split into train/test\n",
    "# Reserve 20% for testing\n",
    "X_train, X_test, y_train, y_test = train_test_split(\n",
    "    X, y, test_size = 0.20, random_state = 42)\n",
    "# Verify the sizes of the split datasets\n",
    "print('X_train:', X_train.shape)\n",
    "print('y_train:', y_train.shape)\n",
    "print('X_test:', X_test.shape)\n",
    "print('y_test:', y_test.shape)"
   ]
  },
  {
   "cell_type": "code",
   "execution_count": 8,
   "metadata": {},
   "outputs": [
    {
     "name": "stdout",
     "output_type": "stream",
     "text": [
      "1    1481\n",
      "0     787\n",
      "Name: target, dtype: int64\n",
      "1    353\n",
      "0    214\n",
      "Name: target, dtype: int64\n"
     ]
    }
   ],
   "source": [
    "# Quick check on number of adults/youth in the data sets\n",
    "print(y_train.value_counts())\n",
    "print(y_test.value_counts())"
   ]
  },
  {
   "cell_type": "markdown",
   "metadata": {},
   "source": [
    "### 4. Setup and Create the pipeline"
   ]
  },
  {
   "cell_type": "code",
   "execution_count": 8,
   "metadata": {},
   "outputs": [
    {
     "data": {
      "text/plain": [
       "'define your pipeline with the Pipeline() and the steps'"
      ]
     },
     "execution_count": 8,
     "metadata": {},
     "output_type": "execute_result"
    }
   ],
   "source": [
    "# Your code here:\n",
    "# Create the scaler\n",
    "scaler = 'what scaler will you use?'\n",
    "# Create the model\n",
    "svm_bc = 'What model will you use?'\n",
    "# Create the steps: recall, this is a list of tuples\n",
    "steps = 'define your steps'\n",
    "#\n",
    "# Create the pipeline\n",
    "pipe = 'define your pipeline with the Pipeline() and the steps'\n",
    "pipe # Show parameters"
   ]
  },
  {
   "cell_type": "code",
   "execution_count": 9,
   "metadata": {},
   "outputs": [
    {
     "data": {
      "text/plain": [
       "Pipeline(memory=None,\n",
       "         steps=[('Normalizer', MinMaxScaler(copy=True, feature_range=(0, 1))),\n",
       "                ('SVM_classifier',\n",
       "                 SVC(C=1.0, break_ties=False, cache_size=200, class_weight=None,\n",
       "                     coef0=0.0, decision_function_shape='ovr', degree=3,\n",
       "                     gamma='scale', kernel='rbf', max_iter=-1,\n",
       "                     probability=False, random_state=None, shrinking=True,\n",
       "                     tol=0.001, verbose=False))],\n",
       "         verbose=False)"
      ]
     },
     "execution_count": 9,
     "metadata": {},
     "output_type": "execute_result"
    }
   ],
   "source": [
    "# kcolvin\n",
    "# Create the scaler\n",
    "norm_scaler = MinMaxScaler()\n",
    "# Create the model\n",
    "svm_mc = svm.SVC() # SVM classifier with default parameters\n",
    "# Create the steps\n",
    "steps = [('Normalizer', norm_scaler), ('SVM_classifier', svm_mc)]\n",
    "#\n",
    "# Create the pipeline\n",
    "pipe = Pipeline(steps)\n",
    "pipe # Show parameters"
   ]
  },
  {
   "cell_type": "markdown",
   "metadata": {},
   "source": [
    "### 5. Transform data and train the model"
   ]
  },
  {
   "cell_type": "code",
   "execution_count": 10,
   "metadata": {},
   "outputs": [
    {
     "data": {
      "text/plain": [
       "Pipeline(memory=None,\n",
       "         steps=[('Normalizer', MinMaxScaler(copy=True, feature_range=(0, 1))),\n",
       "                ('SVM_classifier',\n",
       "                 SVC(C=1.0, break_ties=False, cache_size=200, class_weight=None,\n",
       "                     coef0=0.0, decision_function_shape='ovr', degree=3,\n",
       "                     gamma='scale', kernel='rbf', max_iter=-1,\n",
       "                     probability=False, random_state=None, shrinking=True,\n",
       "                     tol=0.001, verbose=False))],\n",
       "         verbose=False)"
      ]
     },
     "execution_count": 10,
     "metadata": {},
     "output_type": "execute_result"
    }
   ],
   "source": [
    "# your code here\n",
    "# Now, perform the pipeline steps on the data\n",
    "# The end result is a trained model\n",
    "# Hint: what function do you call when you want to transform & train the model?\n",
    "pipe "
   ]
  },
  {
   "cell_type": "code",
   "execution_count": 11,
   "metadata": {},
   "outputs": [
    {
     "data": {
      "text/plain": [
       "Pipeline(memory=None,\n",
       "         steps=[('Normalizer', MinMaxScaler(copy=True, feature_range=(0, 1))),\n",
       "                ('SVM_classifier',\n",
       "                 SVC(C=1.0, break_ties=False, cache_size=200, class_weight=None,\n",
       "                     coef0=0.0, decision_function_shape='ovr', degree=3,\n",
       "                     gamma='scale', kernel='rbf', max_iter=-1,\n",
       "                     probability=False, random_state=None, shrinking=True,\n",
       "                     tol=0.001, verbose=False))],\n",
       "         verbose=False)"
      ]
     },
     "execution_count": 11,
     "metadata": {},
     "output_type": "execute_result"
    }
   ],
   "source": [
    "# kcolvin\n",
    "# Now, perform the pipeline steps on the data\n",
    "# The end result is a trained model\n",
    "pipe.fit(X_train, y_train)"
   ]
  },
  {
   "cell_type": "markdown",
   "metadata": {},
   "source": [
    "### 5. Evaluate performance"
   ]
  },
  {
   "cell_type": "code",
   "execution_count": 12,
   "metadata": {},
   "outputs": [
    {
     "name": "stdout",
     "output_type": "stream",
     "text": [
      "Accuracy based on test data: 0.7178130511463845\n"
     ]
    },
    {
     "data": {
      "text/html": [
       "<div>\n",
       "<style scoped>\n",
       "    .dataframe tbody tr th:only-of-type {\n",
       "        vertical-align: middle;\n",
       "    }\n",
       "\n",
       "    .dataframe tbody tr th {\n",
       "        vertical-align: top;\n",
       "    }\n",
       "\n",
       "    .dataframe thead th {\n",
       "        text-align: right;\n",
       "    }\n",
       "</style>\n",
       "<table border=\"1\" class=\"dataframe\">\n",
       "  <thead>\n",
       "    <tr style=\"text-align: right;\">\n",
       "      <th></th>\n",
       "      <th>Youth</th>\n",
       "      <th>Adult</th>\n",
       "    </tr>\n",
       "  </thead>\n",
       "  <tbody>\n",
       "    <tr>\n",
       "      <th>Youth</th>\n",
       "      <td>97</td>\n",
       "      <td>117</td>\n",
       "    </tr>\n",
       "    <tr>\n",
       "      <th>Adult</th>\n",
       "      <td>43</td>\n",
       "      <td>310</td>\n",
       "    </tr>\n",
       "  </tbody>\n",
       "</table>\n",
       "</div>"
      ],
      "text/plain": [
       "       Youth  Adult\n",
       "Youth     97    117\n",
       "Adult     43    310"
      ]
     },
     "execution_count": 12,
     "metadata": {},
     "output_type": "execute_result"
    }
   ],
   "source": [
    "# Your pipe mus be fit for this code to run\n",
    "#\n",
    "# Predict based on the X_test data\n",
    "y_pred = pipe.predict(X_test)\n",
    "# Calculate the accuracy\n",
    "acc = pipe.score(X_test, y_test)\n",
    "print('Accuracy based on test data:', acc)\n",
    "cm = confusion_matrix(y_test, y_pred)\n",
    "cm_df = pd.DataFrame(cm,\n",
    "                     index = ['Youth', 'Adult'], \n",
    "                     columns = ['Youth', 'Adult'])\n",
    "cm_df"
   ]
  },
  {
   "cell_type": "code",
   "execution_count": 13,
   "metadata": {},
   "outputs": [
    {
     "data": {
      "image/png": "[encoded data removed]",
      "text/plain": [
       "<Figure size 500x400 with 2 Axes>"
      ]
     },
     "metadata": {},
     "output_type": "display_data"
    }
   ],
   "source": [
    "# Plot a fancy confusion matrix\n",
    "plt.figure(figsize=(5,4))\n",
    "sns.heatmap(cm_df, annot=True,cmap='Blues',fmt='g')\n",
    "plt.title('Confusion Matrix')\n",
    "plt.ylabel('Actal Values')\n",
    "plt.xlabel('Predicted Values')\n",
    "plt.show()"
   ]
  },
  {
   "cell_type": "code",
   "execution_count": null,
   "metadata": {},
   "outputs": [],
   "source": []
  }
 ],
 "metadata": {
  "instance_type": "ml.t3.medium",
  "kernelspec": {
   "display_name": "Python 3 (Data Science)",
   "language": "python",
   "name": "python3__SAGEMAKER_INTERNAL__arn:aws:sagemaker:us-west-2:236514542706:image/datascience-1.0"
  },
  "language_info": {
   "codemirror_mode": {
    "name": "ipython",
    "version": 3
   },
   "file_extension": ".py",
   "mimetype": "text/x-python",
   "name": "python",
   "nbconvert_exporter": "python",
   "pygments_lexer": "ipython3",
   "version": "3.7.10"
  }
 },
 "nbformat": 4,
 "nbformat_minor": 4
}
