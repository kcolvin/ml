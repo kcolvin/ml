{
 "cells": [
  {
   "cell_type": "markdown",
   "metadata": {},
   "source": [
    "### 1: Create a dataset with these paramters:\n",
    "- 5 rows\n",
    "- 5 columns\n",
    "- each number is a random integer between 1 and 10\n",
    "- store the dataset in a single list named 'raw_data'\n",
    "\n",
    "Hints:\n",
    "- There are several ways to do this. Any is OK if you meet the requirements above.\n",
    "- One possible data structure to use is a list of lists.\n",
    "- To generate a random integer: https://www.w3schools.com/python/ref_random_randint.asp\n",
    "- This might be a good time to use 2 'for loops'"
   ]
  },
  {
   "cell_type": "code",
   "execution_count": 3,
   "metadata": {},
   "outputs": [
    {
     "name": "stdout",
     "output_type": "stream",
     "text": [
      "[[3, 6, 1, 8, 4], [1, 3, 5, 3, 1], [2, 6, 6, 2, 7], [2, 6, 5, 10, 9], [6, 2, 8, 2, 3]]\n",
      "\n",
      "Data one row at a time:\n",
      "[3, 6, 1, 8, 4]\n",
      "[1, 3, 5, 3, 1]\n",
      "[2, 6, 6, 2, 7]\n",
      "[2, 6, 5, 10, 9]\n",
      "[6, 2, 8, 2, 3]\n"
     ]
    }
   ],
   "source": [
    "# Your code here\n",
    "import random # Import the random package\n",
    "# Create an empty list\n",
    "raw_data = []\n",
    "# Outter loop, one loop for each row\n",
    "for row in range(0,5):\n",
    "    # Create an empty list to hold row values\n",
    "    row_lst = []\n",
    "    # Inner loop, one loop for each column in the row\n",
    "    for col in range(0,5):\n",
    "        # Append integer to the list\n",
    "        row_lst.append(random.randint(1,10))\n",
    "    # In the outter loop, append the row to the dataset.\n",
    "    raw_data.append(row_lst)\n",
    "# Print the whole thing\n",
    "print(raw_data)\n",
    "# Print row by row\n",
    "print('\\nData one row at a time:')\n",
    "for row in raw_data:\n",
    "    print(row)"
   ]
  },
  {
   "cell_type": "markdown",
   "metadata": {},
   "source": [
    "### 2: Convert your dataset to a pandas DataFrame\n",
    "- store the new dataset in a variable called 'data_df'\n",
    "- The size of the dataframe should also be 5 rows by 5 columns\n",
    "- Don't change the values, use the same values created above\n",
    "\n",
    "Hints:\n",
    "- The method depends on the type of your existing dataset. \n",
    "- If needed, search for 'create pandas dataframe from <your existing data type.'\n",
    "- I used a 'list of lists', so I searched for 'create pandas dataframe from a list of lists'"
   ]
  },
  {
   "cell_type": "code",
   "execution_count": 4,
   "metadata": {},
   "outputs": [
    {
     "data": {
      "text/html": [
       "<div>\n",
       "<style scoped>\n",
       "    .dataframe tbody tr th:only-of-type {\n",
       "        vertical-align: middle;\n",
       "    }\n",
       "\n",
       "    .dataframe tbody tr th {\n",
       "        vertical-align: top;\n",
       "    }\n",
       "\n",
       "    .dataframe thead th {\n",
       "        text-align: right;\n",
       "    }\n",
       "</style>\n",
       "<table border=\"1\" class=\"dataframe\">\n",
       "  <thead>\n",
       "    <tr style=\"text-align: right;\">\n",
       "      <th></th>\n",
       "      <th>0</th>\n",
       "      <th>1</th>\n",
       "      <th>2</th>\n",
       "      <th>3</th>\n",
       "      <th>4</th>\n",
       "    </tr>\n",
       "  </thead>\n",
       "  <tbody>\n",
       "    <tr>\n",
       "      <th>0</th>\n",
       "      <td>3</td>\n",
       "      <td>6</td>\n",
       "      <td>1</td>\n",
       "      <td>8</td>\n",
       "      <td>4</td>\n",
       "    </tr>\n",
       "    <tr>\n",
       "      <th>1</th>\n",
       "      <td>1</td>\n",
       "      <td>3</td>\n",
       "      <td>5</td>\n",
       "      <td>3</td>\n",
       "      <td>1</td>\n",
       "    </tr>\n",
       "    <tr>\n",
       "      <th>2</th>\n",
       "      <td>2</td>\n",
       "      <td>6</td>\n",
       "      <td>6</td>\n",
       "      <td>2</td>\n",
       "      <td>7</td>\n",
       "    </tr>\n",
       "    <tr>\n",
       "      <th>3</th>\n",
       "      <td>2</td>\n",
       "      <td>6</td>\n",
       "      <td>5</td>\n",
       "      <td>10</td>\n",
       "      <td>9</td>\n",
       "    </tr>\n",
       "    <tr>\n",
       "      <th>4</th>\n",
       "      <td>6</td>\n",
       "      <td>2</td>\n",
       "      <td>8</td>\n",
       "      <td>2</td>\n",
       "      <td>3</td>\n",
       "    </tr>\n",
       "  </tbody>\n",
       "</table>\n",
       "</div>"
      ],
      "text/plain": [
       "   0  1  2   3  4\n",
       "0  3  6  1   8  4\n",
       "1  1  3  5   3  1\n",
       "2  2  6  6   2  7\n",
       "3  2  6  5  10  9\n",
       "4  6  2  8   2  3"
      ]
     },
     "execution_count": 4,
     "metadata": {},
     "output_type": "execute_result"
    }
   ],
   "source": [
    "# Your code here\n",
    "import pandas as pd\n",
    "data_df = pd.DataFrame(data = raw_data)\n",
    "# Show the dataframe\n",
    "data_df"
   ]
  },
  {
   "cell_type": "markdown",
   "metadata": {},
   "source": [
    "### 3: Using the pandas DataFrame, calcualte and display the the average number of each column\n",
    "- Hint: Read the documentation: https://pandas.pydata.org/docs/reference/api/pandas.DataFrame.mean.html\n",
    "- Verify you've taken the average of the columns and not the rows. You can control this with the 'axis' paramter"
   ]
  },
  {
   "cell_type": "code",
   "execution_count": 5,
   "metadata": {},
   "outputs": [
    {
     "data": {
      "text/plain": [
       "0    2.8\n",
       "1    4.6\n",
       "2    5.0\n",
       "3    5.0\n",
       "4    4.8\n",
       "dtype: float64"
      ]
     },
     "execution_count": 5,
     "metadata": {},
     "output_type": "execute_result"
    }
   ],
   "source": [
    "# Your code here\n",
    "data_df.mean(axis = 'index')"
   ]
  },
  {
   "cell_type": "code",
   "execution_count": 7,
   "metadata": {},
   "outputs": [
    {
     "name": "stdout",
     "output_type": "stream",
     "text": [
      "col0: 0    3\n",
      "1    1\n",
      "2    2\n",
      "3    2\n",
      "4    6\n",
      "Name: 0, dtype: int64\n",
      "col0 sum: 14\n",
      "col0 number of items: 5\n",
      "col0 average: 2.8\n"
     ]
    }
   ],
   "source": [
    "# Check your work\n",
    "print('col0:',data_df[0]) # Print the first column\n",
    "print('col0 sum:',data_df[0].sum()) # Print the sum of the first column\n",
    "print('col0 number of items:', data_df[0].count()) # Print the number of items in the first column\n",
    "col0_average = data_df[0].sum()/data_df[0].count() # Manually calculate the average\n",
    "print('col0 average:',col0_average) # Print the value. Check it is the same as the first item in the mean function above."
   ]
  },
  {
   "cell_type": "markdown",
   "metadata": {},
   "source": [
    "### 4: Increate the dimensions to 100 x 100\n",
    "- Create a similar DataFrame as above, but make its dimensions 100 rows by 100 columns. \n",
    "- Still create random integers between 1 and 10.\n",
    "- What is the average from all 10,000 numbers? (take the average of all numbers in the dataframe)\n"
   ]
  },
  {
   "cell_type": "code",
   "execution_count": 11,
   "metadata": {},
   "outputs": [],
   "source": [
    "# Your code here\n",
    "# You can repeat the process above, or short cut it using numpy\n",
    "import numpy as np # Import a very useful package called \"numpy\"\n",
    "# Skip the list of lists, go straight to the DF\n",
    "#  This says:\n",
    "# - Create a dataframe using the following data:\n",
    "#    - Random integers between 1 and 10\n",
    "#    - Make the size of the integers 100 rows x 100 columns\n",
    "#         - I found this code by searching Google for: 'python create dataframe of random integers'\n",
    "#         - The 2nd item was a good example from stackoverflow.com\n",
    "#                    https://stackoverflow.com/questions/32752292/how-to-create-a-dataframe-of-random-integers-with-pandas\n",
    "big_df = pd.DataFrame(data = np.random.randint(1,10,size=(100, 100)))"
   ]
  },
  {
   "cell_type": "code",
   "execution_count": 12,
   "metadata": {},
   "outputs": [
    {
     "name": "stdout",
     "output_type": "stream",
     "text": [
      "col_mean is of type: <class 'pandas.core.series.Series'>\n",
      "mean of col_mean: 4.994999999999997\n"
     ]
    },
    {
     "data": {
      "text/plain": [
       "4.994999999999997"
      ]
     },
     "execution_count": 12,
     "metadata": {},
     "output_type": "execute_result"
    }
   ],
   "source": [
    "# This will return the mean of the colums, save it as a variable\n",
    "col_mean = big_df.mean(axis = 'index')\n",
    "# This is 100 values from each column. What is the type?\n",
    "print('col_mean is of type:',type(col_mean))\n",
    "# Let's take the mean of that series: https://pandas.pydata.org/docs/reference/api/pandas.Series.mean.html\n",
    "print('mean of col_mean:',col_mean.mean())\n",
    "#\n",
    "# Let's do it on one step: \n",
    "big_df.mean(axis = 'index').mean()"
   ]
  },
  {
   "cell_type": "code",
   "execution_count": null,
   "metadata": {},
   "outputs": [],
   "source": []
  }
 ],
 "metadata": {
  "instance_type": "ml.t3.medium",
  "kernelspec": {
   "display_name": "Python 3 (Data Science)",
   "language": "python",
   "name": "python3__SAGEMAKER_INTERNAL__arn:aws:sagemaker:us-west-2:236514542706:image/datascience-1.0"
  },
  "language_info": {
   "codemirror_mode": {
    "name": "ipython",
    "version": 3
   },
   "file_extension": ".py",
   "mimetype": "text/x-python",
   "name": "python",
   "nbconvert_exporter": "python",
   "pygments_lexer": "ipython3",
   "version": "3.7.10"
  }
 },
 "nbformat": 4,
 "nbformat_minor": 4
}
