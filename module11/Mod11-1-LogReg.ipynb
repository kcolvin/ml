{
 "cells": [
  {
   "cell_type": "markdown",
   "metadata": {},
   "source": [
    "### Module 11-1 Learning Notebook: Introduction to Classification\n",
    "Classification is a big part of machine learning.<P>\n",
    "\n",
    "Classification is a task that requires the use of machine learning algorithms that learn how to assign a class label to examples from the problem domain. For example, you could predict if an incoming email is “spam” or “not spam.”  Or, given the details of a patient's diagnostic test, you could predict, \"has cancer\" or \"doesn't have cancer\".<P>\n",
    "    \n",
    "Unlike our past experience with regression, we are not predicting a value, but a class. It can be a binary class: 0 or 1, True or False, Died or Survived. I can also be a multi-member class: Small/Medium/Large, A/B/C/D, High risk/Medium risk/Low Risk, etc.<P>\n",
    "    \n",
    "Classes are sometimes called as targets, labels or categories. Classification predictive modeling is the task of approximating a mapping function from input variables (X) to discrete output variables (y).<P>\n",
    " \n",
    "In this teaching notebook, we will:\n",
    "1. Load and investigate the prepared Titanic dataset\n",
    "2. Isolate the X and y variables\n",
    "3. Split the data into training and test sets\n",
    "4. Create and train a **Logistic Regression** model, a type of classification algorithm\n",
    "5. Evaluate and disucss performance metrics for classification algorithms\n",
    "6. Predict the likely outcome of an unsceen passenger on the Titanic"
   ]
  },
  {
   "cell_type": "code",
   "execution_count": 2,
   "metadata": {},
   "outputs": [],
   "source": [
    "from sklearn.linear_model import LogisticRegression\n",
    "from sklearn.model_selection import train_test_split\n",
    "from sklearn.metrics import confusion_matrix\n",
    "from sklearn.metrics import plot_confusion_matrix\n",
    "import matplotlib.pyplot as plt\n",
    "import boto3\n",
    "import pandas as pd\n",
    "import numpy as np\n",
    "import pickle\n",
    "#from io import BytesIO"
   ]
  },
  {
   "cell_type": "markdown",
   "metadata": {},
   "source": [
    "### 1. Load and investigate the data\n",
    "We prepared this data in the last module. It should be all ready to go for classification.<P>\n",
    "\n",
    "Remember:\n",
    "- Gender: 0 = male, 1 = female\n",
    "- HasCabin: 0 = no assigned cabin on the ship (cheap ticket), 1 = has cabin (more expensive ticket)\n",
    "- C, Q, S: Dummy varibles representing the City where the passenger got on the ship\n",
    "- Survivied: 0 = died, 1 = survived"
   ]
  },
  {
   "cell_type": "code",
   "execution_count": 3,
   "metadata": {},
   "outputs": [
    {
     "data": {
      "text/html": [
       "<div>\n",
       "<style scoped>\n",
       "    .dataframe tbody tr th:only-of-type {\n",
       "        vertical-align: middle;\n",
       "    }\n",
       "\n",
       "    .dataframe tbody tr th {\n",
       "        vertical-align: top;\n",
       "    }\n",
       "\n",
       "    .dataframe thead th {\n",
       "        text-align: right;\n",
       "    }\n",
       "</style>\n",
       "<table border=\"1\" class=\"dataframe\">\n",
       "  <thead>\n",
       "    <tr style=\"text-align: right;\">\n",
       "      <th></th>\n",
       "      <th>Gender</th>\n",
       "      <th>Age</th>\n",
       "      <th>HasCabin</th>\n",
       "      <th>C</th>\n",
       "      <th>Q</th>\n",
       "      <th>S</th>\n",
       "      <th>Survived</th>\n",
       "    </tr>\n",
       "  </thead>\n",
       "  <tbody>\n",
       "    <tr>\n",
       "      <th>0</th>\n",
       "      <td>0</td>\n",
       "      <td>22.000000</td>\n",
       "      <td>0</td>\n",
       "      <td>0</td>\n",
       "      <td>0</td>\n",
       "      <td>1</td>\n",
       "      <td>0</td>\n",
       "    </tr>\n",
       "    <tr>\n",
       "      <th>1</th>\n",
       "      <td>1</td>\n",
       "      <td>38.000000</td>\n",
       "      <td>1</td>\n",
       "      <td>1</td>\n",
       "      <td>0</td>\n",
       "      <td>0</td>\n",
       "      <td>1</td>\n",
       "    </tr>\n",
       "    <tr>\n",
       "      <th>2</th>\n",
       "      <td>1</td>\n",
       "      <td>26.000000</td>\n",
       "      <td>0</td>\n",
       "      <td>0</td>\n",
       "      <td>0</td>\n",
       "      <td>1</td>\n",
       "      <td>1</td>\n",
       "    </tr>\n",
       "    <tr>\n",
       "      <th>3</th>\n",
       "      <td>1</td>\n",
       "      <td>35.000000</td>\n",
       "      <td>1</td>\n",
       "      <td>0</td>\n",
       "      <td>0</td>\n",
       "      <td>1</td>\n",
       "      <td>1</td>\n",
       "    </tr>\n",
       "    <tr>\n",
       "      <th>4</th>\n",
       "      <td>0</td>\n",
       "      <td>35.000000</td>\n",
       "      <td>0</td>\n",
       "      <td>0</td>\n",
       "      <td>0</td>\n",
       "      <td>1</td>\n",
       "      <td>0</td>\n",
       "    </tr>\n",
       "    <tr>\n",
       "      <th>5</th>\n",
       "      <td>0</td>\n",
       "      <td>29.699118</td>\n",
       "      <td>0</td>\n",
       "      <td>0</td>\n",
       "      <td>1</td>\n",
       "      <td>0</td>\n",
       "      <td>0</td>\n",
       "    </tr>\n",
       "  </tbody>\n",
       "</table>\n",
       "</div>"
      ],
      "text/plain": [
       "   Gender        Age  HasCabin  C  Q  S  Survived\n",
       "0       0  22.000000         0  0  0  1         0\n",
       "1       1  38.000000         1  1  0  0         1\n",
       "2       1  26.000000         0  0  0  1         1\n",
       "3       1  35.000000         1  0  0  1         1\n",
       "4       0  35.000000         0  0  0  1         0\n",
       "5       0  29.699118         0  0  1  0         0"
      ]
     },
     "execution_count": 3,
     "metadata": {},
     "output_type": "execute_result"
    }
   ],
   "source": [
    "# Setup boto3\n",
    "sess = boto3.session.Session()\n",
    "s3 = sess.client('s3') \n",
    "# Define the bucket & file you want to load\n",
    "source_bucket = 'machinelearning-read-only'\n",
    "source_key = 'data/titanic_clean.pkl'\n",
    "# Get the file from S3 \n",
    "response = s3.get_object(Bucket = source_bucket, Key = source_key)\n",
    "#\n",
    "# Read the 'Body' part of the response into a variable. This is where the DataFrame data exists in the response.\n",
    "body = response['Body'].read()\n",
    "#\n",
    "# Create a new pandas DataFrame using the pickle.loads() function\n",
    "titanic_df = pickle.loads(body)\n",
    "titanic_df.head(6)"
   ]
  },
  {
   "cell_type": "code",
   "execution_count": 4,
   "metadata": {},
   "outputs": [
    {
     "name": "stdout",
     "output_type": "stream",
     "text": [
      "<class 'pandas.core.frame.DataFrame'>\n",
      "Int64Index: 889 entries, 0 to 890\n",
      "Data columns (total 7 columns):\n",
      " #   Column    Non-Null Count  Dtype  \n",
      "---  ------    --------------  -----  \n",
      " 0   Gender    889 non-null    int64  \n",
      " 1   Age       889 non-null    float64\n",
      " 2   HasCabin  889 non-null    int64  \n",
      " 3   C         889 non-null    uint8  \n",
      " 4   Q         889 non-null    uint8  \n",
      " 5   S         889 non-null    uint8  \n",
      " 6   Survived  889 non-null    int64  \n",
      "dtypes: float64(1), int64(3), uint8(3)\n",
      "memory usage: 37.3 KB\n"
     ]
    }
   ],
   "source": [
    "# Verify data types and no missing values\n",
    "titanic_df.info()"
   ]
  },
  {
   "cell_type": "markdown",
   "metadata": {},
   "source": [
    "### 2. Isolate the X and y variables"
   ]
  },
  {
   "cell_type": "code",
   "execution_count": 5,
   "metadata": {},
   "outputs": [],
   "source": [
    "y = titanic_df['Survived']\n",
    "X = titanic_df.drop(['Survived'], axis = 1)"
   ]
  },
  {
   "cell_type": "markdown",
   "metadata": {},
   "source": [
    "### 3. Split the data into training and test sets"
   ]
  },
  {
   "cell_type": "code",
   "execution_count": 6,
   "metadata": {},
   "outputs": [
    {
     "name": "stdout",
     "output_type": "stream",
     "text": [
      "X_train: (711, 6)\n",
      "y_train: (711,)\n",
      "X_test: (178, 6)\n",
      "y_test: (178,)\n"
     ]
    }
   ],
   "source": [
    "# Split into train/test\n",
    "# Reserve 20% for testing\n",
    "X_train, X_test, y_train, y_test = train_test_split(X, y, test_size = 0.20)\n",
    "# Verify the sizes of the split datasets\n",
    "print('X_train:', X_train.shape)\n",
    "print('y_train:', y_train.shape)\n",
    "print('X_test:', X_test.shape)\n",
    "print('y_test:', y_test.shape)"
   ]
  },
  {
   "cell_type": "markdown",
   "metadata": {},
   "source": [
    "### 4. Create and train a Logistic Regression model\n",
    "\n",
    "Logistic Regression can be used for various classification problems such as spam detection, diabetes prediction, if a given customer will purchase a particular product or will they churn another competitor, whether the user will click on a given advertisement link or not.<P>\n",
    "\n",
    "Logistic Regression is one of the most simple and commonly used Machine Learning algorithms for two-class classification. It is easy to implement and can be used as the baseline for any binary classification problem. Its basic fundamental concepts are also constructive in deep learning. Logistic regression describes and estimates the relationship between one dependent binary variable and a set of independent variables.<P>\n",
    "    \n",
    "https://scikit-learn.org/stable/modules/generated/sklearn.linear_model.LogisticRegression.html\n",
    "    \n",
    "<img src=\"images/LR2.png\" alt=\"LR2\" style=\"width: 600px;\"/>"
   ]
  },
  {
   "cell_type": "code",
   "execution_count": 7,
   "metadata": {},
   "outputs": [
    {
     "data": {
      "text/plain": [
       "LogisticRegression(C=1.0, class_weight=None, dual=False, fit_intercept=True,\n",
       "                   intercept_scaling=1, l1_ratio=None, max_iter=100,\n",
       "                   multi_class='auto', n_jobs=None, penalty='l2',\n",
       "                   random_state=None, solver='lbfgs', tol=0.0001, verbose=0,\n",
       "                   warm_start=False)"
      ]
     },
     "execution_count": 7,
     "metadata": {},
     "output_type": "execute_result"
    }
   ],
   "source": [
    "# Create model with default hyperparameters\n",
    "lr = LogisticRegression()\n",
    "# Train the model\n",
    "lr.fit(X_train,y_train)"
   ]
  },
  {
   "cell_type": "markdown",
   "metadata": {},
   "source": [
    "#### Let's discuss Logisitic Regression hyperparameters:\n",
    "- https://scikit-learn.org/stable/modules/generated/sklearn.linear_model.LogisticRegression.html\n",
    "- https://machinelearningmastery.com/hyperparameters-for-classification-machine-learning-algorithms/\n",
    "\n",
    "C hyperparameter, called regularization. Remember our discussion of overfitting vs underfitting? Overfitting means model is very focused on the training data and may not be good for unseen data. Underfitting means the model is too general and may have high error.<P>\n",
    "\n",
    "You can control underfitting/overfitting using the C parameter in logistic regression.\n",
    "\n",
    "- Default value of C = 1.0: A good place to start. C must be a positive float number\n",
    "- Low value of C: high regulation (move away from overfitting)\n",
    "- High value of C: low regularization (pay more attention to fitting the training data\n",
    "    \n",
    "A good next step might be to tune C, but we won't do that now."
   ]
  },
  {
   "cell_type": "markdown",
   "metadata": {},
   "source": [
    "### 5. Evaluate and disucss performance metrics for classification algorithms\n",
    "\n",
    "Recall from our regression experience, we often use some form of the sqaure of the error from the prediction to the model. We calculated MSE, which then led to the calculation of the Coefficient of Determination, R^2.<P>\n",
    " \n",
    "Evaluation of the performance of classification models is different. **MSE and R^2 no longer apply.**<P>\n",
    "    \n",
    "A common metric for classification is **accuracy**: the fraction of predictions the model got right. <P>\n",
    "   \n",
    "Remember, we calculate this metric by predicting classes on the X_test set, then comparing those to the actual classes that exist in y_test."
   ]
  },
  {
   "cell_type": "code",
   "execution_count": 8,
   "metadata": {},
   "outputs": [
    {
     "name": "stdout",
     "output_type": "stream",
     "text": [
      "Predicted survivial: [0 0 1 0]\n",
      "Actual survival: [0, 0, 0, 0]\n"
     ]
    }
   ],
   "source": [
    "# Predict using the trained model and X_test data\n",
    "y_pred = lr.predict(X_test)\n",
    "# Show the first 4 from predicted/actual\n",
    "print('Predicted survivial:', y_pred[0:4]) # Show a few of the predicted classes\n",
    "print('Actual survival:', list(y_test[0:4])) # Show a few of the actual classes"
   ]
  },
  {
   "cell_type": "code",
   "execution_count": 9,
   "metadata": {},
   "outputs": [
    {
     "name": "stdout",
     "output_type": "stream",
     "text": [
      "Our model accuracy: 0.8033707865168539\n"
     ]
    }
   ],
   "source": [
    "# New performance metric: Accuracy\n",
    "# To get the accuracy, call the score() function on the trained model\n",
    "acc = lr.score(X_test, y_test) # Number predicted correctly divided by total in data set\n",
    "print('Our model accuracy:', acc)"
   ]
  },
  {
   "cell_type": "code",
   "execution_count": 10,
   "metadata": {},
   "outputs": [
    {
     "data": {
      "text/plain": [
       "array([[89, 15],\n",
       "       [20, 54]])"
      ]
     },
     "execution_count": 10,
     "metadata": {},
     "output_type": "execute_result"
    }
   ],
   "source": [
    "# Let's display the confusion matrix, then discuss it.\n",
    "#   https://scikit-learn.org/stable/modules/generated/sklearn.metrics.confusion_matrix.html\n",
    "confusion_matrix(y_test, y_pred)"
   ]
  },
  {
   "cell_type": "markdown",
   "metadata": {},
   "source": [
    "Another way to look at the model performance is to use the \"confusion matrix\". This displays both the correct and incorrect predictions in a simple table.<P>\n",
    "<img src=\"images/confusion_matrix.jpeg\" alt=\"Confusion Matrix\" style=\"width: 400px;\"/>"
   ]
  },
  {
   "cell_type": "code",
   "execution_count": 10,
   "metadata": {},
   "outputs": [
    {
     "data": {
      "image/png": "[encoded data removed]",
      "text/plain": [
       "<Figure size 640x480 with 2 Axes>"
      ]
     },
     "metadata": {},
     "output_type": "display_data"
    }
   ],
   "source": [
    "# There is also an easy way for us to plot the confusion matrix.\n",
    "#   https://scikit-learn.org/stable/modules/generated/sklearn.metrics.plot_confusion_matrix.html\n",
    "plot_confusion_matrix(lr, X_test, y_test,cmap = 'Greens',display_labels=['Survived','Died'],values_format = '')\n",
    "plt.show()"
   ]
  },
  {
   "cell_type": "markdown",
   "metadata": {},
   "source": [
    "There is a lot more to performance evaluation in classification, but we'll save it for later."
   ]
  },
  {
   "cell_type": "markdown",
   "metadata": {},
   "source": [
    "### 6. Predict the likely outcome of an unsceen passenger on the Titanic\n",
    "\n",
    "Just as with prediction, we can use the trained model to predict the outcome of a new data point."
   ]
  },
  {
   "cell_type": "code",
   "execution_count": 11,
   "metadata": {},
   "outputs": [
    {
     "name": "stdout",
     "output_type": "stream",
     "text": [
      "['Gender', 'Age', 'HasCabin', 'C', 'Q', 'S']\n",
      "Predicted to Survive: 1\n"
     ]
    }
   ],
   "source": [
    "# Predict new values\n",
    "# Recall the column names\n",
    "print(list(X.columns))\n",
    "# Define a new passenger\n",
    "p = [1.0, 28.0, 1.0, 0.0, 0.0, 1.0]\n",
    "# For ease and consistency, convert to a pandas Dataframe\n",
    "p_df = pd.DataFrame(data = p )\n",
    "# Use the trained model to predict outcome of this passenger\n",
    "pred = lr.predict(p_df.T).item() # We have to use the pandas transpose to get the data in the right shape.\n",
    "if pred == 1:\n",
    "    print('Predicted to Survive:', pred)\n",
    "else:\n",
    "    print('Predicted to Die:', pred)"
   ]
  },
  {
   "cell_type": "markdown",
   "metadata": {},
   "source": [
    "That's it, we are now doing classification."
   ]
  },
  {
   "cell_type": "code",
   "execution_count": null,
   "metadata": {},
   "outputs": [],
   "source": []
  }
 ],
 "metadata": {
  "instance_type": "ml.t3.medium",
  "kernelspec": {
   "display_name": "Python 3 (Data Science)",
   "language": "python",
   "name": "python3__SAGEMAKER_INTERNAL__arn:aws:sagemaker:us-west-2:236514542706:image/datascience-1.0"
  },
  "language_info": {
   "codemirror_mode": {
    "name": "ipython",
    "version": 3
   },
   "file_extension": ".py",
   "mimetype": "text/x-python",
   "name": "python",
   "nbconvert_exporter": "python",
   "pygments_lexer": "ipython3",
   "version": "3.7.10"
  }
 },
 "nbformat": 4,
 "nbformat_minor": 4
}
