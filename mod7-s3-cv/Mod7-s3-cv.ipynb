{
 "cells": [
  {
   "cell_type": "markdown",
   "metadata": {},
   "source": [
    "### Lab 6: Random forest algorithm practice\n",
    "\n",
    "OK, your turn. I'll set it up, but then you build a random forest model to predict car selling price. **You'll also need to tune max_depth and n_estimators to minimize MSE.**\n",
    "\n",
    "Follow the ML workflow:\n",
    "1. Obtain and isolate the data\n",
    "2. Split the data into training & test datasets\n",
    "3. Format the data for the algorithm\n",
    "4. Create an initial model and train it\n",
    "5. Use the test set to measure the model's performance\n",
    "6. Tune the model to minimize error\n",
    "7. Use the best hyperparameters and create a new model\n",
    "8. Use the model to make new predictions"
   ]
  },
  {
   "cell_type": "code",
   "execution_count": 2,
   "metadata": {},
   "outputs": [],
   "source": [
    "from sklearn.model_selection import train_test_split\n",
    "from sklearn.ensemble import RandomForestRegressor # Here is the RF regressor\n",
    "from sklearn.metrics import r2_score,mean_squared_error  # Use our past metrics\n",
    "import pandas as pd\n",
    "import numpy as np\n",
    "import time\n",
    "from matplotlib import pyplot as plt"
   ]
  },
  {
   "cell_type": "markdown",
   "metadata": {},
   "source": [
    "### 1. Obtain and isolate the data"
   ]
  },
  {
   "cell_type": "code",
   "execution_count": 3,
   "metadata": {},
   "outputs": [
    {
     "data": {
      "text/html": [
       "<div>\n",
       "<style scoped>\n",
       "    .dataframe tbody tr th:only-of-type {\n",
       "        vertical-align: middle;\n",
       "    }\n",
       "\n",
       "    .dataframe tbody tr th {\n",
       "        vertical-align: top;\n",
       "    }\n",
       "\n",
       "    .dataframe thead th {\n",
       "        text-align: right;\n",
       "    }\n",
       "</style>\n",
       "<table border=\"1\" class=\"dataframe\">\n",
       "  <thead>\n",
       "    <tr style=\"text-align: right;\">\n",
       "      <th></th>\n",
       "      <th>name</th>\n",
       "      <th>year</th>\n",
       "      <th>selling_price</th>\n",
       "      <th>km_driven</th>\n",
       "      <th>km/liter</th>\n",
       "      <th>engine</th>\n",
       "      <th>max_power</th>\n",
       "      <th>seats</th>\n",
       "    </tr>\n",
       "  </thead>\n",
       "  <tbody>\n",
       "    <tr>\n",
       "      <th>0</th>\n",
       "      <td>Maruti Swift Dzire VDI</td>\n",
       "      <td>2014</td>\n",
       "      <td>450000</td>\n",
       "      <td>145500</td>\n",
       "      <td>23.40</td>\n",
       "      <td>1248.0</td>\n",
       "      <td>74.00</td>\n",
       "      <td>5.0</td>\n",
       "    </tr>\n",
       "    <tr>\n",
       "      <th>1</th>\n",
       "      <td>Skoda Rapid 1.5 TDI Ambition</td>\n",
       "      <td>2014</td>\n",
       "      <td>370000</td>\n",
       "      <td>120000</td>\n",
       "      <td>21.14</td>\n",
       "      <td>1498.0</td>\n",
       "      <td>103.52</td>\n",
       "      <td>5.0</td>\n",
       "    </tr>\n",
       "    <tr>\n",
       "      <th>2</th>\n",
       "      <td>Honda City 2017-2020 EXi</td>\n",
       "      <td>2006</td>\n",
       "      <td>158000</td>\n",
       "      <td>140000</td>\n",
       "      <td>17.70</td>\n",
       "      <td>1497.0</td>\n",
       "      <td>78.00</td>\n",
       "      <td>5.0</td>\n",
       "    </tr>\n",
       "    <tr>\n",
       "      <th>3</th>\n",
       "      <td>Hyundai i20 Sportz Diesel</td>\n",
       "      <td>2010</td>\n",
       "      <td>225000</td>\n",
       "      <td>127000</td>\n",
       "      <td>23.00</td>\n",
       "      <td>1396.0</td>\n",
       "      <td>90.00</td>\n",
       "      <td>5.0</td>\n",
       "    </tr>\n",
       "  </tbody>\n",
       "</table>\n",
       "</div>"
      ],
      "text/plain": [
       "                           name  year  selling_price  km_driven  km/liter  \\\n",
       "0        Maruti Swift Dzire VDI  2014         450000     145500     23.40   \n",
       "1  Skoda Rapid 1.5 TDI Ambition  2014         370000     120000     21.14   \n",
       "2      Honda City 2017-2020 EXi  2006         158000     140000     17.70   \n",
       "3     Hyundai i20 Sportz Diesel  2010         225000     127000     23.00   \n",
       "\n",
       "   engine  max_power  seats  \n",
       "0  1248.0      74.00    5.0  \n",
       "1  1498.0     103.52    5.0  \n",
       "2  1497.0      78.00    5.0  \n",
       "3  1396.0      90.00    5.0  "
      ]
     },
     "execution_count": 3,
     "metadata": {},
     "output_type": "execute_result"
    }
   ],
   "source": [
    "# Read data from a .csv (comma-separated-values) file in the local directory\n",
    "# Adapted from: \n",
    "# https://www.kaggle.com/datasets/nehalbirla/vehicle-dataset-from-cardekho?select=Car+details+v3.csv\n",
    "df = pd.read_csv('../data/cars.csv')  # Notice the path to the data file\n",
    "df.head(4)"
   ]
  },
  {
   "cell_type": "code",
   "execution_count": 4,
   "metadata": {},
   "outputs": [],
   "source": [
    "# Your code here"
   ]
  },
  {
   "cell_type": "code",
   "execution_count": 5,
   "metadata": {},
   "outputs": [
    {
     "data": {
      "text/plain": [
       "0    450000\n",
       "1    370000\n",
       "Name: selling_price, dtype: int64"
      ]
     },
     "execution_count": 5,
     "metadata": {},
     "output_type": "execute_result"
    }
   ],
   "source": [
    "# kcolvin code:\n",
    "# Pull out selling_price as the target (the value we will predict)\n",
    "y = df['selling_price']\n",
    "y.head(2)"
   ]
  },
  {
   "cell_type": "code",
   "execution_count": 6,
   "metadata": {},
   "outputs": [
    {
     "data": {
      "text/html": [
       "<div>\n",
       "<style scoped>\n",
       "    .dataframe tbody tr th:only-of-type {\n",
       "        vertical-align: middle;\n",
       "    }\n",
       "\n",
       "    .dataframe tbody tr th {\n",
       "        vertical-align: top;\n",
       "    }\n",
       "\n",
       "    .dataframe thead th {\n",
       "        text-align: right;\n",
       "    }\n",
       "</style>\n",
       "<table border=\"1\" class=\"dataframe\">\n",
       "  <thead>\n",
       "    <tr style=\"text-align: right;\">\n",
       "      <th></th>\n",
       "      <th>year</th>\n",
       "      <th>km_driven</th>\n",
       "      <th>km/liter</th>\n",
       "      <th>engine</th>\n",
       "      <th>max_power</th>\n",
       "      <th>seats</th>\n",
       "    </tr>\n",
       "  </thead>\n",
       "  <tbody>\n",
       "    <tr>\n",
       "      <th>0</th>\n",
       "      <td>2014</td>\n",
       "      <td>145500</td>\n",
       "      <td>23.40</td>\n",
       "      <td>1248.0</td>\n",
       "      <td>74.00</td>\n",
       "      <td>5.0</td>\n",
       "    </tr>\n",
       "    <tr>\n",
       "      <th>1</th>\n",
       "      <td>2014</td>\n",
       "      <td>120000</td>\n",
       "      <td>21.14</td>\n",
       "      <td>1498.0</td>\n",
       "      <td>103.52</td>\n",
       "      <td>5.0</td>\n",
       "    </tr>\n",
       "  </tbody>\n",
       "</table>\n",
       "</div>"
      ],
      "text/plain": [
       "   year  km_driven  km/liter  engine  max_power  seats\n",
       "0  2014     145500     23.40  1248.0      74.00    5.0\n",
       "1  2014     120000     21.14  1498.0     103.52    5.0"
      ]
     },
     "execution_count": 6,
     "metadata": {},
     "output_type": "execute_result"
    }
   ],
   "source": [
    "X = df.drop(['name','selling_price'],axis=1)\n",
    "X.head(2)"
   ]
  },
  {
   "cell_type": "markdown",
   "metadata": {},
   "source": [
    "### 2. Split the data into training & test datasets"
   ]
  },
  {
   "cell_type": "code",
   "execution_count": 7,
   "metadata": {},
   "outputs": [],
   "source": [
    "# Your code here"
   ]
  },
  {
   "cell_type": "code",
   "execution_count": 8,
   "metadata": {},
   "outputs": [],
   "source": [
    "# kcolvin code\n",
    "X_train, X_test, y_train, y_test = train_test_split(X, y, test_size = 0.20)"
   ]
  },
  {
   "cell_type": "markdown",
   "metadata": {},
   "source": [
    "### 3. Format the data for the algorithm"
   ]
  },
  {
   "cell_type": "code",
   "execution_count": 9,
   "metadata": {},
   "outputs": [],
   "source": [
    "# your code here"
   ]
  },
  {
   "cell_type": "code",
   "execution_count": 10,
   "metadata": {},
   "outputs": [
    {
     "name": "stdout",
     "output_type": "stream",
     "text": [
      "<class 'pandas.core.frame.DataFrame'>\n",
      "<class 'pandas.core.frame.DataFrame'>\n"
     ]
    }
   ],
   "source": [
    "# kcolvin code\n",
    "# Just check features for dataframes\n",
    "print(type(X_train))\n",
    "print(type(X_test))"
   ]
  },
  {
   "cell_type": "markdown",
   "metadata": {},
   "source": [
    "### 4. Create an baseline  random forest model and train it"
   ]
  },
  {
   "cell_type": "code",
   "execution_count": 11,
   "metadata": {},
   "outputs": [],
   "source": [
    "# your code here"
   ]
  },
  {
   "cell_type": "code",
   "execution_count": 12,
   "metadata": {},
   "outputs": [
    {
     "data": {
      "text/plain": [
       "RandomForestRegressor(bootstrap=True, ccp_alpha=0.0, criterion='mse',\n",
       "                      max_depth=None, max_features='auto', max_leaf_nodes=None,\n",
       "                      max_samples=None, min_impurity_decrease=0.0,\n",
       "                      min_impurity_split=None, min_samples_leaf=1,\n",
       "                      min_samples_split=2, min_weight_fraction_leaf=0.0,\n",
       "                      n_estimators=100, n_jobs=None, oob_score=False,\n",
       "                      random_state=None, verbose=0, warm_start=False)"
      ]
     },
     "execution_count": 12,
     "metadata": {},
     "output_type": "execute_result"
    }
   ],
   "source": [
    "# Create the RF regressor object\n",
    "rfr = RandomForestRegressor(max_depth = None, n_estimators = 100) # default parameters\n",
    "#\n",
    "# Train the model using the training data\n",
    "fit_rfr = rfr.fit(X_train, y_train.values.ravel())\n",
    "# Show hyperparameters\n",
    "fit_rfr "
   ]
  },
  {
   "cell_type": "markdown",
   "metadata": {},
   "source": [
    "### 5. Use the test set to measure the model's performance"
   ]
  },
  {
   "cell_type": "code",
   "execution_count": 13,
   "metadata": {},
   "outputs": [],
   "source": [
    "# Your code here"
   ]
  },
  {
   "cell_type": "code",
   "execution_count": 14,
   "metadata": {},
   "outputs": [],
   "source": [
    "# kcolvin code\n",
    "# Predict new MEDV values using the X_test data\n",
    "y_pred = rfr.predict(X_test)"
   ]
  },
  {
   "cell_type": "code",
   "execution_count": 15,
   "metadata": {},
   "outputs": [
    {
     "name": "stdout",
     "output_type": "stream",
     "text": [
      "Coefficient of determination: 0.97\n",
      "MSE:  15616866698.79\n",
      "RMSE:  124967.463\n"
     ]
    }
   ],
   "source": [
    "# Report the performance metrics\n",
    "# Calculate the metrics\n",
    "r2 = round(r2_score(y_test, y_pred),2)\n",
    "mse = round(mean_squared_error(y_test, y_pred),2)\n",
    "#\n",
    "print(\"Coefficient of determination: %.2f\" % r2_score(y_test, y_pred))\n",
    "print(\"MSE: \", mse)\n",
    "print(\"RMSE: \", round(mse**(1/2.0),3)) # Root Mean Squared Error"
   ]
  },
  {
   "cell_type": "markdown",
   "metadata": {},
   "source": [
    "### 6. Tune max_depth and n_estimators to minimize error"
   ]
  },
  {
   "cell_type": "code",
   "execution_count": 16,
   "metadata": {},
   "outputs": [],
   "source": [
    "# your code here"
   ]
  },
  {
   "cell_type": "code",
   "execution_count": 17,
   "metadata": {},
   "outputs": [
    {
     "name": "stdout",
     "output_type": "stream",
     "text": [
      "[1. 2. 3. 4. 5. 6.]\n",
      "[ 50 100 200 300 400]\n",
      "Execution time: 26.23802089691162 seconds\n",
      "Best MSE: 27993497673.97\n",
      "Best Max Depth: 6.0\n",
      "Best n_estimators: 300\n"
     ]
    }
   ],
   "source": [
    "# kcolvin code\n",
    "#  Setup the search space\n",
    "max_depths = np.linspace(1, 6, 6, endpoint=True)\n",
    "print(max_depths)\n",
    "n_estimators = np.array([50,100,200,300,400])\n",
    "print(n_estimators)\n",
    "#\n",
    "# The goal is to minimize mse\n",
    "best_mse = float('inf') # set this value very high. We will try to minimize it\n",
    "best_n = 0  # Will keep track of n_estimators\n",
    "best_md = 0 # Will keep track of max_depth\n",
    "#\n",
    "# Let's time how long this takes\n",
    "import time\n",
    "st = time.time() # time right now\n",
    "# \n",
    "# Do an embedded for loop and search though each combination of n_estimator and max_depth\n",
    "for md in max_depths:\n",
    "    for n in n_estimators:\n",
    "        # Do the workflow\n",
    "        rfr = RandomForestRegressor(max_depth = md, n_estimators = n)\n",
    "        fit_rfr = rfr.fit(X_train, y_train.values.ravel() )\n",
    "        y_pred = rfr.predict(X_test)\n",
    "        mse = round(mean_squared_error(y_test, y_pred),2)\n",
    "        if mse < best_mse: # If the mse is lower, then update current variable values\n",
    "            best_mse = mse \n",
    "            best_n = n\n",
    "            best_md = md\n",
    "#\n",
    "# Get the end time\n",
    "et = time.time()\n",
    "#\n",
    "# get the elapsed time\n",
    "elapsed_time = et - st\n",
    "# Report results of search\n",
    "print('Execution time:', elapsed_time, 'seconds')\n",
    "print('Best MSE:', best_mse)\n",
    "print('Best Max Depth:', best_md)\n",
    "print('Best n_estimators:', best_n)"
   ]
  },
  {
   "cell_type": "markdown",
   "metadata": {},
   "source": [
    "### 7. Use the best hyperparameters and create a new model"
   ]
  },
  {
   "cell_type": "code",
   "execution_count": 18,
   "metadata": {},
   "outputs": [],
   "source": [
    "# your code here"
   ]
  },
  {
   "cell_type": "code",
   "execution_count": 22,
   "metadata": {},
   "outputs": [
    {
     "name": "stdout",
     "output_type": "stream",
     "text": [
      "Coefficient of determination: 0.95\n",
      "MSE:  28964963716.71\n",
      "RMSE:  170190.963\n"
     ]
    }
   ],
   "source": [
    "# Run this cell several times and discuss output.\n",
    "rfr = RandomForestRegressor(max_depth = best_md, n_estimators = best_n)\n",
    "fit_rfr = rfr.fit(X_train, y_train.values.ravel() )\n",
    "y_pred = rfr.predict(X_test)\n",
    "#\n",
    "# Calculate the metrics\n",
    "r2 = round(r2_score(y_test, y_pred),2)\n",
    "mse = round(mean_squared_error(y_test, y_pred),2)\n",
    "#\n",
    "print(\"Coefficient of determination: %.2f\" % r2_score(y_test, y_pred))\n",
    "print(\"MSE: \", mse)\n",
    "print(\"RMSE: \", round(mse**(1/2.0),3)) # Root Mean Squared Error"
   ]
  },
  {
   "cell_type": "markdown",
   "metadata": {},
   "source": [
    "### 8. Use the model to make new predictions"
   ]
  },
  {
   "cell_type": "code",
   "execution_count": 20,
   "metadata": {},
   "outputs": [],
   "source": [
    "# your code here"
   ]
  },
  {
   "cell_type": "code",
   "execution_count": 21,
   "metadata": {},
   "outputs": [
    {
     "name": "stdout",
     "output_type": "stream",
     "text": [
      "Car features: [2013.0, 192500.0, 22.32, 1582.0, 126.3, 5.0]\n",
      "Predicted Value in some currency: 439147 \n",
      "\n",
      "Car features: [2015.0, 9000.0, 9.4, 2179.0, 120.0, 7.0]\n",
      "Predicted Value in some currency: 829973 \n",
      "\n",
      "Car features: [2017.0, 99000.0, 13.6, 1999.0, 177.0, 4.0]\n",
      "Predicted Value in some currency: 2952125 \n",
      "\n",
      "Car features: [2019.0, 256000.0, 24.0, 1120.0, 70.0, 5.0]\n",
      "Predicted Value in some currency: 514639 \n",
      "\n",
      "Car features: [2021.0, 5000.0, 36.1, 796.0, 37.0, 2.0]\n",
      "Predicted Value in some currency: 295211 \n",
      "\n"
     ]
    }
   ],
   "source": [
    "# kcolvin code\n",
    "# Predict 'new' different cars selling price\n",
    "#\n",
    "# Recall the Features: \n",
    "#   ['year', 'km_driven', 'km/liter', 'engine', 'max_power', 'seats']\n",
    "#\n",
    "c1 = [2013.0, 192500.0, 22.32, 1582.0, 126.3, 5.0]\n",
    "c2 = [2015.0, 9000.0, 9.4, 2179.0, 120.0, 7.0]\n",
    "c3 = [2017.0, 99000.0, 13.6, 1999.0, 177.0, 4.0]\n",
    "c4 = [2019.0, 256000.0, 24.0, 1120.0, 70.0, 5.0]\n",
    "c5 = [2021.0, 5000.0, 36.1, 796.0, 37.0, 2.0]\n",
    "#\n",
    "c_lst = [c1, c2, c3, c4, c5]\n",
    "#\n",
    "for car in c_lst:\n",
    "    print('Car features:', car)\n",
    "    df = pd.DataFrame(data=car)\n",
    "    pv = int(rfr.predict(df.T).item())\n",
    "    print('Predicted Value in some currency:', pv , '\\n')"
   ]
  },
  {
   "cell_type": "code",
   "execution_count": null,
   "metadata": {},
   "outputs": [],
   "source": []
  }
 ],
 "metadata": {
  "instance_type": "ml.t3.medium",
  "kernelspec": {
   "display_name": "Python 3 (Data Science)",
   "language": "python",
   "name": "python3__SAGEMAKER_INTERNAL__arn:aws:sagemaker:us-west-2:236514542706:image/datascience-1.0"
  },
  "language_info": {
   "codemirror_mode": {
    "name": "ipython",
    "version": 3
   },
   "file_extension": ".py",
   "mimetype": "text/x-python",
   "name": "python",
   "nbconvert_exporter": "python",
   "pygments_lexer": "ipython3",
   "version": "3.7.10"
  }
 },
 "nbformat": 4,
 "nbformat_minor": 4
}
