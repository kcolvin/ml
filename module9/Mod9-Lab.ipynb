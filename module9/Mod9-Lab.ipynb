{
 "cells": [
  {
   "cell_type": "markdown",
   "metadata": {},
   "source": [
    "### Module 9: Lab: Practice coss-validation for competing model evaluation\n",
    "In this lab, perform only up to step 4:Use cross-validation to get multiple estimates of how well each model performs.<P>\n",
    "    \n",
    "We will use the Portuguese Student Performance data: https://archive.ics.uci.edu/ml/datasets/Student+Performance\n",
    "    \n",
    "Use all columns to predict the 'Grade' target. \n",
    " \n",
    "Review the process::\n",
    "1. Load the data\n",
    "2. Prepare the data for modeling\n",
    "3. Select 3 models to evaluate, my suggestion:\n",
    "    - Stochastic Gradient Descent (SGD)\n",
    "    - Decision Tree\n",
    "    - Random Forest\n",
    "4. Use cross-validation to get multiple estimates of how well each model performs\n",
    "\n",
    "Stop at this point and evaluate how well the models are performing. What step might be next?"
   ]
  },
  {
   "cell_type": "code",
   "execution_count": 2,
   "metadata": {},
   "outputs": [],
   "source": [
    "from sklearn.model_selection import train_test_split, cross_val_score\n",
    "from sklearn.preprocessing import MinMaxScaler\n",
    "from sklearn import tree\n",
    "from sklearn import linear_model\n",
    "from sklearn.ensemble import RandomForestRegressor\n",
    "from sklearn.metrics import mean_squared_error, r2_score\n",
    "import pandas as pd\n",
    "import numpy as np"
   ]
  },
  {
   "cell_type": "markdown",
   "metadata": {},
   "source": [
    "### 1. Load the data"
   ]
  },
  {
   "cell_type": "code",
   "execution_count": 3,
   "metadata": {},
   "outputs": [
    {
     "data": {
      "text/html": [
       "<div>\n",
       "<style scoped>\n",
       "    .dataframe tbody tr th:only-of-type {\n",
       "        vertical-align: middle;\n",
       "    }\n",
       "\n",
       "    .dataframe tbody tr th {\n",
       "        vertical-align: top;\n",
       "    }\n",
       "\n",
       "    .dataframe thead th {\n",
       "        text-align: right;\n",
       "    }\n",
       "</style>\n",
       "<table border=\"1\" class=\"dataframe\">\n",
       "  <thead>\n",
       "    <tr style=\"text-align: right;\">\n",
       "      <th></th>\n",
       "      <th>Age</th>\n",
       "      <th>Mother's Edu</th>\n",
       "      <th>Father's Edu</th>\n",
       "      <th>Commute</th>\n",
       "      <th>Study Time</th>\n",
       "      <th>Failed Classes</th>\n",
       "      <th>Family Relationships</th>\n",
       "      <th>Free Time</th>\n",
       "      <th>Social Life</th>\n",
       "      <th>Weekday Drinking</th>\n",
       "      <th>Weekend Drinking</th>\n",
       "      <th>Health</th>\n",
       "      <th>Absences</th>\n",
       "      <th>Grade</th>\n",
       "    </tr>\n",
       "  </thead>\n",
       "  <tbody>\n",
       "    <tr>\n",
       "      <th>0</th>\n",
       "      <td>15</td>\n",
       "      <td>1</td>\n",
       "      <td>1</td>\n",
       "      <td>2</td>\n",
       "      <td>4</td>\n",
       "      <td>1</td>\n",
       "      <td>3</td>\n",
       "      <td>1</td>\n",
       "      <td>2</td>\n",
       "      <td>1</td>\n",
       "      <td>1</td>\n",
       "      <td>1</td>\n",
       "      <td>2</td>\n",
       "      <td>10</td>\n",
       "    </tr>\n",
       "    <tr>\n",
       "      <th>1</th>\n",
       "      <td>15</td>\n",
       "      <td>1</td>\n",
       "      <td>1</td>\n",
       "      <td>1</td>\n",
       "      <td>2</td>\n",
       "      <td>2</td>\n",
       "      <td>3</td>\n",
       "      <td>3</td>\n",
       "      <td>4</td>\n",
       "      <td>2</td>\n",
       "      <td>4</td>\n",
       "      <td>5</td>\n",
       "      <td>2</td>\n",
       "      <td>5</td>\n",
       "    </tr>\n",
       "  </tbody>\n",
       "</table>\n",
       "</div>"
      ],
      "text/plain": [
       "   Age  Mother's Edu  Father's Edu  Commute  Study Time  Failed Classes  \\\n",
       "0   15             1             1        2           4               1   \n",
       "1   15             1             1        1           2               2   \n",
       "\n",
       "   Family Relationships  Free Time  Social Life  Weekday Drinking  \\\n",
       "0                     3          1            2                 1   \n",
       "1                     3          3            4                 2   \n",
       "\n",
       "   Weekend Drinking  Health  Absences  Grade  \n",
       "0                 1       1         2     10  \n",
       "1                 4       5         2      5  "
      ]
     },
     "execution_count": 3,
     "metadata": {},
     "output_type": "execute_result"
    }
   ],
   "source": [
    "# This is an excel file we are pulling data from, use read_excel to get it to a dataframe\n",
    "df = pd.read_excel('../data/students.xlsx')  # Notice the path to the data file\n",
    "df.head(2)"
   ]
  },
  {
   "cell_type": "code",
   "execution_count": null,
   "metadata": {},
   "outputs": [],
   "source": [
    "# Create features and target dataframes. \n",
    "X = df.drop(['Grade'],axis = 1) # Use all columns except 'Grade'\n",
    "y = df[['Grade']] # Use 'Grade' as the target\n",
    "X.shape"
   ]
  },
  {
   "cell_type": "markdown",
   "metadata": {},
   "source": [
    "### 2. Prepare the data for modeling"
   ]
  },
  {
   "cell_type": "code",
   "execution_count": null,
   "metadata": {},
   "outputs": [],
   "source": [
    "# The data is clean, but the scaling is varied\n",
    "X.describe()"
   ]
  },
  {
   "cell_type": "code",
   "execution_count": null,
   "metadata": {},
   "outputs": [],
   "source": [
    "# Your code here:\n",
    "# Since we will use the SGD algorithm, which is sensitive to scale, let's normalize the data. (standardize would be OK too)\n",
    "norm_scaler_all_data = <your code>\n",
    "X_norm = <your code>\n",
    "X_norm.describe()"
   ]
  },
  {
   "cell_type": "markdown",
   "metadata": {},
   "source": [
    "### 3. Select 3 models to evaluate"
   ]
  },
  {
   "cell_type": "code",
   "execution_count": null,
   "metadata": {},
   "outputs": [],
   "source": [
    "# Your code here:\n",
    "# You can select any algorithms you want, but I suggest: SGD, Decision Tree and Random Forest\n",
    "# Create 3 model objects. Just use the default hyperparameters\n",
    "sgd = <your code>\n",
    "dtr = <your code>\n",
    "rfr = <your code>"
   ]
  },
  {
   "cell_type": "markdown",
   "metadata": {},
   "source": [
    "### 4. Use cross-validation to get multiple estimates of how well each model performs"
   ]
  },
  {
   "cell_type": "code",
   "execution_count": null,
   "metadata": {},
   "outputs": [],
   "source": [
    "# Your code here:\n",
    "# Please use the cross_val_score() function with k=5 (or any k you wish)\n",
    "#\n",
    "# Eval the sgd\n",
    "\n",
    "# Eval dtr\n",
    "\n",
    "# Eval rfr"
   ]
  },
  {
   "cell_type": "markdown",
   "metadata": {},
   "source": [
    "### Stop\n",
    "\n",
    "How are the models performing? \n",
    "\n",
    "What step might be next? Let's discuss\n",
    "\n",
    "If you get a negative R^2, check out:\n",
    "- https://towardsdatascience.com/explaining-negative-r-squared-17894ca26321\n"
   ]
  },
  {
   "cell_type": "code",
   "execution_count": null,
   "metadata": {},
   "outputs": [],
   "source": []
  }
 ],
 "metadata": {
  "instance_type": "ml.t3.medium",
  "kernelspec": {
   "display_name": "Python 3 (Data Science)",
   "language": "python",
   "name": "python3__SAGEMAKER_INTERNAL__arn:aws:sagemaker:us-west-2:236514542706:image/datascience-1.0"
  },
  "language_info": {
   "codemirror_mode": {
    "name": "ipython",
    "version": 3
   },
   "file_extension": ".py",
   "mimetype": "text/x-python",
   "name": "python",
   "nbconvert_exporter": "python",
   "pygments_lexer": "ipython3",
   "version": "3.7.10"
  }
 },
 "nbformat": 4,
 "nbformat_minor": 4
}
