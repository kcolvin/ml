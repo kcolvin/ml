{
 "cells": [
  {
   "cell_type": "markdown",
   "metadata": {},
   "source": [
    "### Module 9-1 Learning Notebook: Cross-Validation\n",
    "\n",
    "<B>How to get maximum benefit out of your data:</B><P>\n",
    "    \n",
    "Cross-validation is a method for squeezing the most value out of your dataset. Typically, when we spilt our dataset into train and test sets, we do so randomly. By chance, it may be that your training data is an especially good (or bad) representation of the true data. There is really no way to split the data into optimal training and test sets.<P>\n",
    "    \n",
    "This is where cross-validation helps improve the evaluation of our model. Technically, cross-validation is a resampling method that uses different portions of the data to test and train a model on different iterations. It is mainly used in settings where the goal is prediction, and one wants to estimate how accurately a predictive model will perform.\n",
    "\n",
    "<img src=\"images/crossv.png\" alt=\"Cross Validation\" style=\"width: 600px;\"/>\n",
    "\n",
    "In this activity, we will take a familiar model and cross-validate k-times to get a robust estimate of how well the model really does.\n",
    "- Load the data and isolate features\n",
    "- Create a decision tree model and cross-validate with k-folds to get k estimates of model performance\n",
    "- Discuss where cross-validation fits into the Machine Learning process"
   ]
  },
  {
   "cell_type": "code",
   "execution_count": 1,
   "metadata": {},
   "outputs": [],
   "source": [
    "from sklearn.model_selection import cross_val_score\n",
    "from sklearn import tree\n",
    "import boto3\n",
    "import pandas as pd\n",
    "import numpy as np"
   ]
  },
  {
   "cell_type": "markdown",
   "metadata": {},
   "source": [
    "### 1. Load the data, isolate features"
   ]
  },
  {
   "cell_type": "code",
   "execution_count": 2,
   "metadata": {},
   "outputs": [
    {
     "name": "stdout",
     "output_type": "stream",
     "text": [
      "The size of the complete dataset: (7906, 8)\n"
     ]
    },
    {
     "data": {
      "text/html": [
       "<div>\n",
       "<style scoped>\n",
       "    .dataframe tbody tr th:only-of-type {\n",
       "        vertical-align: middle;\n",
       "    }\n",
       "\n",
       "    .dataframe tbody tr th {\n",
       "        vertical-align: top;\n",
       "    }\n",
       "\n",
       "    .dataframe thead th {\n",
       "        text-align: right;\n",
       "    }\n",
       "</style>\n",
       "<table border=\"1\" class=\"dataframe\">\n",
       "  <thead>\n",
       "    <tr style=\"text-align: right;\">\n",
       "      <th></th>\n",
       "      <th>name</th>\n",
       "      <th>year</th>\n",
       "      <th>selling_price</th>\n",
       "      <th>km_driven</th>\n",
       "      <th>km/liter</th>\n",
       "      <th>engine</th>\n",
       "      <th>max_power</th>\n",
       "      <th>seats</th>\n",
       "    </tr>\n",
       "  </thead>\n",
       "  <tbody>\n",
       "    <tr>\n",
       "      <th>0</th>\n",
       "      <td>Maruti Swift Dzire VDI</td>\n",
       "      <td>2014</td>\n",
       "      <td>450000</td>\n",
       "      <td>145500</td>\n",
       "      <td>23.40</td>\n",
       "      <td>1248.0</td>\n",
       "      <td>74.00</td>\n",
       "      <td>5.0</td>\n",
       "    </tr>\n",
       "    <tr>\n",
       "      <th>1</th>\n",
       "      <td>Skoda Rapid 1.5 TDI Ambition</td>\n",
       "      <td>2014</td>\n",
       "      <td>370000</td>\n",
       "      <td>120000</td>\n",
       "      <td>21.14</td>\n",
       "      <td>1498.0</td>\n",
       "      <td>103.52</td>\n",
       "      <td>5.0</td>\n",
       "    </tr>\n",
       "    <tr>\n",
       "      <th>2</th>\n",
       "      <td>Honda City 2017-2020 EXi</td>\n",
       "      <td>2006</td>\n",
       "      <td>158000</td>\n",
       "      <td>140000</td>\n",
       "      <td>17.70</td>\n",
       "      <td>1497.0</td>\n",
       "      <td>78.00</td>\n",
       "      <td>5.0</td>\n",
       "    </tr>\n",
       "  </tbody>\n",
       "</table>\n",
       "</div>"
      ],
      "text/plain": [
       "                           name  year  selling_price  km_driven  km/liter  \\\n",
       "0        Maruti Swift Dzire VDI  2014         450000     145500     23.40   \n",
       "1  Skoda Rapid 1.5 TDI Ambition  2014         370000     120000     21.14   \n",
       "2      Honda City 2017-2020 EXi  2006         158000     140000     17.70   \n",
       "\n",
       "   engine  max_power  seats  \n",
       "0  1248.0      74.00    5.0  \n",
       "1  1498.0     103.52    5.0  \n",
       "2  1497.0      78.00    5.0  "
      ]
     },
     "execution_count": 2,
     "metadata": {},
     "output_type": "execute_result"
    }
   ],
   "source": [
    "# Get the data from the S3 bucket: machinelearning-read-only\n",
    "# Create session and S3 client\n",
    "sess = boto3.session.Session()\n",
    "s3 = sess.client('s3')\n",
    "# Set variables \n",
    "source_bucket = 'machinelearning-read-only'\n",
    "source_key = 'data/cars.csv'\n",
    "# Load the dataframe\n",
    "response = s3.get_object(Bucket=source_bucket, Key=source_key)\n",
    "# The 'Body' is of type streaming body. We can put this right into a dataframe\n",
    "df = pd.read_csv(response.get(\"Body\")) \n",
    "print('The size of the complete dataset:',df.shape)\n",
    "df.head(3)"
   ]
  },
  {
   "cell_type": "code",
   "execution_count": 3,
   "metadata": {},
   "outputs": [],
   "source": [
    "# Create features and target dataframes\n",
    "X = df[['year','selling_price','engine']]\n",
    "y = df['selling_price'] "
   ]
  },
  {
   "cell_type": "markdown",
   "metadata": {},
   "source": [
    "### 2. Create a decision tree model and cross-validate\n",
    "Here, we are not \"training\" a model, but just evaluating how it would do if we did train it. <P>\n",
    "In effect, we are training and evaluating it 5 times with 5 different training/test sets, but in the end, we don't have a trained model."
   ]
  },
  {
   "cell_type": "code",
   "execution_count": 4,
   "metadata": {},
   "outputs": [
    {
     "name": "stdout",
     "output_type": "stream",
     "text": [
      "All scores: [0.99376221 0.99946997 0.99995255 0.99956506 0.99998371]\n",
      "Mean score: 0.999\n"
     ]
    }
   ],
   "source": [
    "# Create a decision tree regressor model\n",
    "dtr = tree.DecisionTreeRegressor() # default hyperparameters\n",
    "# Cross-validate with k=5\n",
    "scores = cross_val_score(dtr, X, y, cv=5)\n",
    "print('All scores:', scores)\n",
    "print('Mean score:', round(scores.mean(),3))\n",
    "# The score computed here is the coefficient of determination. \n",
    "# This is the default evaluation metric from the decision tree algorithm"
   ]
  },
  {
   "cell_type": "markdown",
   "metadata": {},
   "source": [
    "### 3. Discuss where cross-validation fits into the Machine Learning process\n",
    "Cross-validation happens early in the machine learning process. It is used to robustly evaluate competing models as you learn about your data and how to best model it.<P>\n",
    "\n",
    "So, let's review our machine learning process so far:\n",
    "1. Load the data\n",
    "2. Prepare the data for modeling:\n",
    "    - Clean it (we haven't done this very much yet)\n",
    "    - Depending on the algorithm and the data, scale the features\n",
    "3. Select a model to evaluate\n",
    "4. Use cross-validation to get multiple estimates of how well the model performs\n",
    "5. Repeat 3 and 4 above to evaluate several competing algorithms\n",
    "6. Select an algorithm\n",
    "7. Split the data into training and test sets\n",
    "8. Train the selected model on the training set\n",
    "    - Tune hyperparameters, if necessary\n",
    "9. Evaluate the selected model on the test set\n",
    "  \n",
    "<P><P>    \n",
    "In the next lesson, we'll practice this entire process"
   ]
  },
  {
   "cell_type": "code",
   "execution_count": null,
   "metadata": {},
   "outputs": [],
   "source": []
  }
 ],
 "metadata": {
  "instance_type": "ml.t3.medium",
  "kernelspec": {
   "display_name": "Python 3 (Data Science)",
   "language": "python",
   "name": "python3__SAGEMAKER_INTERNAL__arn:aws:sagemaker:us-west-2:236514542706:image/datascience-1.0"
  },
  "language_info": {
   "codemirror_mode": {
    "name": "ipython",
    "version": 3
   },
   "file_extension": ".py",
   "mimetype": "text/x-python",
   "name": "python",
   "nbconvert_exporter": "python",
   "pygments_lexer": "ipython3",
   "version": "3.7.10"
  }
 },
 "nbformat": 4,
 "nbformat_minor": 4
}
